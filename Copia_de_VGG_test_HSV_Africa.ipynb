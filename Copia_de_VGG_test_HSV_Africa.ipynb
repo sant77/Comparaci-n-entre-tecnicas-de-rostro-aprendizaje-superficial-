{
  "nbformat": 4,
  "nbformat_minor": 0,
  "metadata": {
    "colab": {
      "provenance": [],
      "collapsed_sections": [
        "AmVHNheegbup",
        "JgoVNCeeP6QY",
        "kQFvcR40QAQ8",
        "2XNZTqCnidvs",
        "hllo2PNgglaw",
        "Z9vr5iFJhIYn",
        "K1xiJKp7dddK",
        "_aqb1aHSdfmJ",
        "1x5pfWiMdhhJ",
        "q7i0d5zQhLwP",
        "5qo3IFfuEiQx",
        "zgaL3Cm1SPOV",
        "M4mhpqpKhQZg",
        "r6Z5IplFiYbL",
        "neZeivofiZlo"
      ]
    },
    "kernelspec": {
      "name": "python3",
      "display_name": "Python 3"
    },
    "language_info": {
      "name": "python"
    }
  },
  "cells": [
    {
      "cell_type": "markdown",
      "source": [
        "# Cargar datos y librerias"
      ],
      "metadata": {
        "id": "AmVHNheegbup"
      }
    },
    {
      "cell_type": "code",
      "execution_count": null,
      "metadata": {
        "id": "I_C_HFw1Oqxk",
        "colab": {
          "base_uri": "https://localhost:8080/"
        },
        "outputId": "46036b5f-029c-466b-edc7-dc91f46289d7"
      },
      "outputs": [
        {
          "output_type": "stream",
          "name": "stdout",
          "text": [
            "Mounted at /content/drive\n"
          ]
        }
      ],
      "source": [
        "from google.colab import drive\n",
        "drive.mount('/content/drive')"
      ]
    },
    {
      "cell_type": "code",
      "source": [
        "# Basic\n",
        "import numpy as np \n",
        "import pandas as pd \n",
        "import matplotlib.pyplot as plt\n",
        "from statistics import mode\n",
        "import os\n",
        "import glob\n",
        "import random\n",
        "import cv2\n",
        "\n",
        "from sklearn.svm import SVC\n",
        "from sklearn.model_selection import train_test_split\n",
        "from scipy.sparse import coo_matrix\n",
        "from sklearn.utils import shuffle\n",
        "\n",
        "import cv2\n",
        "# Features \n",
        "from sklearn.discriminant_analysis import LinearDiscriminantAnalysis as LDA\n",
        "from sklearn.decomposition import PCA\n",
        "from skimage import feature\n",
        "# Metrics \n",
        "from sklearn.metrics import classification_report\n",
        "from sklearn.metrics import accuracy_score #c alculate accuracy\n",
        "from sklearn.metrics import confusion_matrix, classification_report\n",
        "from sklearn.metrics import plot_confusion_matrix\n",
        "# Classifier\n",
        "from sklearn.naive_bayes import GaussianNB\n",
        "from sklearn.neighbors import KNeighborsClassifier\n",
        "from sklearn.model_selection import GridSearchCV\n",
        "from sklearn import svm\n",
        "#Save model\n",
        "import joblib  "
      ],
      "metadata": {
        "id": "KtqKOxPySqXV"
      },
      "execution_count": null,
      "outputs": []
    },
    {
      "cell_type": "markdown",
      "source": [
        "# Carga de datos 1"
      ],
      "metadata": {
        "id": "JgoVNCeeP6QY"
      }
    },
    {
      "cell_type": "code",
      "source": [
        "path = \"/content/drive/MyDrive/Colab Notebooks/Base-De-Datos/datasetVGG/1-African American/train\"\n",
        "\n",
        "list_people = os.listdir(path)\n",
        "\n",
        "type_file = \"*.jpg\"\n",
        "\n",
        "cont = 0\n",
        "cont2 = 0\n",
        "\n",
        "for k in list_people:\n",
        "    \n",
        "    path_image = path + \"/\" + k\n",
        "    list_jpg = glob.glob(path_image + os.sep + type_file)\n",
        "    \n",
        "    cont += len(list_jpg)\n",
        "    \n",
        "print(\"El número de muestras: \",cont)\n",
        "\n",
        "train_data = np.zeros((cont,168*192*2))\n",
        "train_data = train_data.astype('float32')\n",
        "\n",
        "y_train = np.zeros(cont)\n",
        "y_train = y_train.astype('int8')\n",
        "\n",
        "\n",
        "for i in list_people:\n",
        "    \n",
        "    #print(i)\n",
        "    \n",
        "    path_image = path + \"/\" + i\n",
        "    \n",
        "    list_jpg = glob.glob(path_image + os.sep + type_file)\n",
        "    \n",
        "    for j in list_jpg:\n",
        "        \n",
        "        image = cv2.imread(j, cv2.IMREAD_COLOR)\n",
        "        image = cv2.cvtColor(image, cv2.COLOR_BGR2HSV)\n",
        "        image = cv2.resize(image, (168,192))\n",
        "        H,S,V = cv2.split(image)\n",
        "        image_merge = np.zeros((192,168,2))\n",
        "        image_merge[:,:,0] = S\n",
        "        image_merge[:,:,1] = V\n",
        "        image_merge = image_merge.ravel()\n",
        "        train_data[cont2] += image_merge \n",
        "\n",
        "        y_train[cont2] = i[-2] + i[-1]\n",
        "\n",
        "        #print(y_train[cont2])\n",
        "        cont2 += 1\n",
        "\n",
        "#print(y_train)"
      ],
      "metadata": {
        "colab": {
          "base_uri": "https://localhost:8080/"
        },
        "id": "yDZlteEXLltf",
        "outputId": "95ad595a-935f-4fa9-a206-325826115cc6"
      },
      "execution_count": null,
      "outputs": [
        {
          "output_type": "stream",
          "name": "stdout",
          "text": [
            "El número de muestras:  2593\n"
          ]
        }
      ]
    },
    {
      "cell_type": "code",
      "source": [
        "path = \"/content/drive/MyDrive/Colab Notebooks/Base-De-Datos/datasetVGG/1-African American/test\"\n",
        "\n",
        "list_people = os.listdir(path)\n",
        "\n",
        "subcadena = \"yaleB\" #la subcadena que queremos localizar\n",
        "type_file = \"*.jpg\"\n",
        "\n",
        "cont = 0\n",
        "cont2 = 0\n",
        "\n",
        "for k in list_people:\n",
        "    \n",
        "    path_image = path + \"/\" + k\n",
        "    list_jpg = glob.glob(path_image + os.sep + type_file)\n",
        "    \n",
        "    cont += len(list_jpg)\n",
        "    \n",
        "print(\"El número de muestras: \",cont)\n",
        "\n",
        "test_data = np.zeros((cont,168*192*2))\n",
        "test_data = test_data.astype('float32')\n",
        "\n",
        "y_test = np.zeros(cont)\n",
        "y_test = y_test.astype('int8')\n",
        "\n",
        "\n",
        "for i in list_people:\n",
        "    \n",
        "    #print(i)\n",
        "    \n",
        "    path_image = path + \"/\" + i\n",
        "    \n",
        "    list_jpg = glob.glob(path_image + os.sep + type_file)\n",
        "    \n",
        "    for j in list_jpg:\n",
        "        \n",
        "        image = cv2.imread(j, cv2.IMREAD_COLOR)\n",
        "        image = cv2.cvtColor(image, cv2.COLOR_BGR2HSV)\n",
        "        image = cv2.resize(image, (168,192))\n",
        "        H,S,V = cv2.split(image)\n",
        "        image_merge = np.zeros((192,168,2))\n",
        "        image_merge[:,:,0] = S\n",
        "        image_merge[:,:,1] = V\n",
        "        image_merge = image_merge.ravel()\n",
        "\n",
        "        test_data[cont2] += image_merge \n",
        "\n",
        "        y_test[cont2] = i[-2] + i[-1]\n",
        "        #print(y_train[cont2])\n",
        "        cont2 += 1\n",
        "\n",
        "#print(y_train)"
      ],
      "metadata": {
        "colab": {
          "base_uri": "https://localhost:8080/"
        },
        "id": "_MGvkXCVL6iX",
        "outputId": "339a2ba2-944e-4b9c-b743-fea4a4ea0558"
      },
      "execution_count": null,
      "outputs": [
        {
          "output_type": "stream",
          "name": "stdout",
          "text": [
            "El número de muestras:  1000\n"
          ]
        }
      ]
    },
    {
      "cell_type": "markdown",
      "source": [
        "#Test"
      ],
      "metadata": {
        "id": "2XNZTqCnidvs"
      }
    },
    {
      "cell_type": "code",
      "source": [
        "#image = cv2.imread(\"/content/drive/MyDrive/Colab Notebooks/Base-De-Datos/datasetVGG/1-African American/train/african_001/0001_02.jpg\", cv2.IMREAD_COLOR)"
      ],
      "metadata": {
        "id": "Mv9GVbWPifbE"
      },
      "execution_count": null,
      "outputs": []
    },
    {
      "cell_type": "code",
      "source": [
        "#image = cv2.resize(image, (168,192))\n",
        "#H,S,V = cv2.split(image)\n",
        "#S.shape"
      ],
      "metadata": {
        "colab": {
          "base_uri": "https://localhost:8080/"
        },
        "id": "q9iJxTAMiy-k",
        "outputId": "3be6e166-2bdf-40bb-f06e-ee382908a423"
      },
      "execution_count": null,
      "outputs": [
        {
          "output_type": "execute_result",
          "data": {
            "text/plain": [
              "(192, 168)"
            ]
          },
          "metadata": {},
          "execution_count": 21
        }
      ]
    },
    {
      "cell_type": "code",
      "source": [
        "#image_merge = np.zeros((192,168,2))\n",
        "\n",
        "#image_merge[:,:,0] = S\n",
        "#image_merge[:,:,1] = V"
      ],
      "metadata": {
        "id": "HqsVIipYi2_z"
      },
      "execution_count": null,
      "outputs": []
    },
    {
      "cell_type": "code",
      "source": [
        "#print(V)"
      ],
      "metadata": {
        "colab": {
          "base_uri": "https://localhost:8080/"
        },
        "id": "3IgrlPdjjaoM",
        "outputId": "248e46d5-c051-4312-b9c3-f99240b0d897"
      },
      "execution_count": null,
      "outputs": [
        {
          "output_type": "stream",
          "name": "stdout",
          "text": [
            "[[232 232 229 ... 155 150 149]\n",
            " [231 230 228 ... 159 154 153]\n",
            " [228 227 225 ... 168 164 163]\n",
            " ...\n",
            " [ 83  83  80 ...  81  82  82]\n",
            " [ 83  83  80 ...  81  81  81]\n",
            " [ 83  82  80 ...  81  81  81]]\n"
          ]
        }
      ]
    },
    {
      "cell_type": "code",
      "source": [
        "#print(image_merge[:,:,1])"
      ],
      "metadata": {
        "colab": {
          "base_uri": "https://localhost:8080/"
        },
        "id": "ObQxNBR0i6Nb",
        "outputId": "bfcaa8c0-873d-4394-b819-13e9954553bf"
      },
      "execution_count": null,
      "outputs": [
        {
          "output_type": "stream",
          "name": "stdout",
          "text": [
            "[[232. 232. 229. ... 155. 150. 149.]\n",
            " [231. 230. 228. ... 159. 154. 153.]\n",
            " [228. 227. 225. ... 168. 164. 163.]\n",
            " ...\n",
            " [ 83.  83.  80. ...  81.  82.  82.]\n",
            " [ 83.  83.  80. ...  81.  81.  81.]\n",
            " [ 83.  82.  80. ...  81.  81.  81.]]\n"
          ]
        }
      ]
    },
    {
      "cell_type": "code",
      "source": [
        "#train_data, y_train = extract_data(path_train,\"*.jpg\",True)"
      ],
      "metadata": {
        "id": "vbIAXFCFS7vt"
      },
      "execution_count": null,
      "outputs": []
    },
    {
      "cell_type": "code",
      "source": [
        "#test_data, y_test = extract_data(path_test,\"*.jpg\",True)"
      ],
      "metadata": {
        "id": "o7E-V2SFS-s8"
      },
      "execution_count": null,
      "outputs": []
    },
    {
      "cell_type": "code",
      "source": [
        "#import sys\n",
        "#np.set_printoptions(threshold=sys.maxsize)\n",
        "#y_train"
      ],
      "metadata": {
        "id": "p-E3AlP2-LG_"
      },
      "execution_count": null,
      "outputs": []
    },
    {
      "cell_type": "markdown",
      "source": [
        "# Separar datos en train y test"
      ],
      "metadata": {
        "id": "mt6kox-L1u02"
      }
    },
    {
      "cell_type": "code",
      "source": [
        "#nsamples, nx, ny, chanels = train_data.shape\n",
        "\n",
        "#train_data = train_data.reshape((nsamples,nx*ny*chanels))\n",
        "\n",
        "X_sparse = coo_matrix(train_data)\n",
        "\n",
        "train_data, X_sparse, y_train = shuffle(train_data, X_sparse,y_train, random_state=0)\n",
        "\n",
        "#train_data = train_data.reshape((nsamples,nx,ny,chanels))"
      ],
      "metadata": {
        "id": "WF7FfiK61u02"
      },
      "execution_count": null,
      "outputs": []
    },
    {
      "cell_type": "code",
      "source": [
        "#nsamples, nx, ny, chanels = test_data.shape\n",
        "\n",
        "#test_data = test_data.reshape((nsamples,nx*ny*chanels))\n",
        "\n",
        "X_sparse = coo_matrix(test_data)\n",
        "\n",
        "test_data, X_sparse, y_test = shuffle(test_data, X_sparse,y_test, random_state=0)\n",
        "\n",
        "#test_data = test_data.reshape((nsamples,nx,ny,chanels))"
      ],
      "metadata": {
        "id": "LFo-aaAQ1u02"
      },
      "execution_count": null,
      "outputs": []
    },
    {
      "cell_type": "code",
      "source": [
        "train_data = train_data.astype(\"uint8\")\n",
        "#nsamples1, nx1, ny1, chanels = train_data.shape\n",
        "#train_data = train_data.reshape((nsamples1,nx1*ny1*chanels))\n",
        "train_data = train_data/255\n",
        "\n",
        "test_data = test_data.astype(\"uint8\")\n",
        "#nsamples, nx, ny, chanels = test_data.shape\n",
        "#test_data = test_data.reshape((nsamples,nx*ny*chanels))\n",
        "test_data = test_data/255"
      ],
      "metadata": {
        "id": "P8S1_RRX1u03"
      },
      "execution_count": null,
      "outputs": []
    },
    {
      "cell_type": "markdown",
      "source": [
        "# PCA "
      ],
      "metadata": {
        "id": "q7i0d5zQhLwP"
      }
    },
    {
      "cell_type": "markdown",
      "source": [
        "## Extracción de caracteristicas "
      ],
      "metadata": {
        "id": "nzjHOdXVR6as"
      }
    },
    {
      "cell_type": "code",
      "source": [
        "n_components = 150\n",
        "\n",
        "print(\"Extrayendo %d eigenfaces de %d caras\"\n",
        "      % (n_components, train_data.shape[0]))\n",
        "\n",
        "pca = PCA(n_components=n_components, svd_solver='randomized',\n",
        "          whiten=True).fit(train_data)\n",
        "\n",
        "\n",
        "#eigenfaces = pca.components_.reshape((n_components,192, 162))\n",
        "\n",
        "print(\"Projecting the input data on the eigenfaces orthonormal basis\")\n",
        "\n",
        "train_data_pca = pca.transform(train_data)\n",
        "test_data_pca = pca.transform(test_data)"
      ],
      "metadata": {
        "colab": {
          "base_uri": "https://localhost:8080/"
        },
        "id": "a0lEiq-3IaFU",
        "outputId": "e16ddea1-d03a-4fc5-a874-8c2689ef15e2"
      },
      "execution_count": null,
      "outputs": [
        {
          "output_type": "stream",
          "name": "stdout",
          "text": [
            "Extrayendo 150 eigenfaces de 2593 caras\n",
            "Projecting the input data on the eigenfaces orthonormal basis\n"
          ]
        }
      ]
    },
    {
      "cell_type": "markdown",
      "source": [
        "texto en negrita## SVM\n"
      ],
      "metadata": {
        "id": "N6hXCmTxSBO0"
      }
    },
    {
      "cell_type": "markdown",
      "source": [
        "## SVM"
      ],
      "metadata": {
        "id": "5qo3IFfuEiQx"
      }
    },
    {
      "cell_type": "code",
      "source": [
        "from sklearn.model_selection import GridSearchCV\n",
        "\n",
        "\n",
        "param_grid = {'C': [1e3, 5e3, 1e4, 5e4, 1e5],\n",
        "              'gamma': [0.0001, 0.0005, 0.001, 0.005, 0.01, 0.1], }\n",
        "\n",
        "clf_pca_svm = GridSearchCV(\n",
        "    SVC(kernel='rbf', class_weight='balanced'), param_grid\n",
        ")\n",
        "clf_pca_svm = clf_pca_svm.fit(train_data_pca,y_train )\n",
        "\n",
        "print(\"Best estimator found by grid search:\")\n",
        "print(clf_pca_svm.best_estimator_)"
      ],
      "metadata": {
        "id": "1iMn3VWYEneB",
        "colab": {
          "base_uri": "https://localhost:8080/"
        },
        "outputId": "3d37f579-0f04-43a1-dda8-7ce433759e75"
      },
      "execution_count": null,
      "outputs": [
        {
          "output_type": "stream",
          "name": "stdout",
          "text": [
            "Best estimator found by grid search:\n",
            "SVC(C=1000.0, class_weight='balanced', gamma=0.005)\n"
          ]
        }
      ]
    },
    {
      "cell_type": "code",
      "source": [
        "y_pred = clf_pca_svm.predict(test_data_pca)\n",
        "\n",
        "print(classification_report(y_test, y_pred,digits=4))\n",
        "print(confusion_matrix(y_test, y_pred))"
      ],
      "metadata": {
        "id": "42mgax0rFfxY",
        "colab": {
          "base_uri": "https://localhost:8080/"
        },
        "outputId": "5ddc57df-0151-4eb7-debf-232655cc0058"
      },
      "execution_count": null,
      "outputs": [
        {
          "output_type": "stream",
          "name": "stdout",
          "text": [
            "              precision    recall  f1-score   support\n",
            "\n",
            "           1     0.7843    0.8000    0.7921        50\n",
            "           2     0.7895    0.9000    0.8411        50\n",
            "           3     0.9200    0.9200    0.9200        50\n",
            "           4     0.7778    0.8400    0.8077        50\n",
            "           5     0.7778    0.8400    0.8077        50\n",
            "           6     0.7018    0.8000    0.7477        50\n",
            "           7     0.5686    0.5800    0.5743        50\n",
            "           8     0.8298    0.7800    0.8041        50\n",
            "           9     0.7917    0.7600    0.7755        50\n",
            "          10     0.6607    0.7400    0.6981        50\n",
            "          11     0.8333    0.6000    0.6977        50\n",
            "          12     1.0000    1.0000    1.0000        50\n",
            "          13     0.8800    0.8800    0.8800        50\n",
            "          14     0.9130    0.8400    0.8750        50\n",
            "          15     0.6226    0.6600    0.6408        50\n",
            "          16     0.7959    0.7800    0.7879        50\n",
            "          17     0.8000    0.6400    0.7111        50\n",
            "          18     0.8810    0.7400    0.8043        50\n",
            "          19     0.6964    0.7800    0.7358        50\n",
            "          20     0.7925    0.8400    0.8155        50\n",
            "\n",
            "    accuracy                         0.7860      1000\n",
            "   macro avg     0.7908    0.7860    0.7858      1000\n",
            "weighted avg     0.7908    0.7860    0.7858      1000\n",
            "\n",
            "[[40  0  0  0  0  0  1  0  3  1  1  0  0  0  1  1  0  0  1  1]\n",
            " [ 0 45  0  0  0  0  2  0  0  0  0  0  0  0  1  2  0  0  0  0]\n",
            " [ 0  0 46  0  1  0  0  0  0  1  0  0  0  0  0  0  0  1  0  1]\n",
            " [ 0  2  0 42  0  1  0  1  0  0  1  0  0  0  0  0  1  0  1  1]\n",
            " [ 0  0  0  1 42  0  1  0  1  1  0  0  0  0  0  1  1  0  0  2]\n",
            " [ 1  0  0  3  0 40  0  0  1  4  0  0  0  0  1  0  0  0  0  0]\n",
            " [ 1  2  0  2  2  1 29  1  1  3  1  0  1  2  2  0  0  0  2  0]\n",
            " [ 0  1  0  2  1  1  0 39  0  0  1  0  2  0  0  0  0  2  1  0]\n",
            " [ 3  0  1  0  1  2  0  1 38  0  0  0  0  0  1  0  0  0  2  1]\n",
            " [ 1  2  0  0  2  0  2  0  1 37  1  0  0  0  3  1  0  0  0  0]\n",
            " [ 1  0  0  1  2  3  1  0  0  2 30  0  2  1  1  3  0  0  1  2]\n",
            " [ 0  0  0  0  0  0  0  0  0  0  0 50  0  0  0  0  0  0  0  0]\n",
            " [ 1  0  0  0  0  0  0  0  0  0  0  0 44  0  1  0  2  1  1  0]\n",
            " [ 0  0  0  0  0  2  1  0  0  0  0  0  0 42  2  0  0  1  1  1]\n",
            " [ 0  0  1  0  1  1  4  0  2  1  0  0  0  0 33  2  1  0  4  0]\n",
            " [ 3  0  0  0  0  3  2  0  1  1  0  0  0  0  0 39  0  0  0  1]\n",
            " [ 0  0  0  2  0  2  6  0  0  1  0  0  0  1  4  0 32  0  2  0]\n",
            " [ 0  3  2  1  1  0  0  4  0  0  1  0  1  0  0  0  0 37  0  0]\n",
            " [ 0  2  0  0  0  1  2  0  0  2  0  0  0  0  1  0  2  0 39  1]\n",
            " [ 0  0  0  0  1  0  0  1  0  2  0  0  0  0  2  0  1  0  1 42]]\n"
          ]
        }
      ]
    },
    {
      "cell_type": "markdown",
      "source": [
        "## knn"
      ],
      "metadata": {
        "id": "zgaL3Cm1SPOV"
      }
    },
    {
      "cell_type": "code",
      "source": [
        "clf_PCA_Knn_3 = KNeighborsClassifier(n_neighbors=3)"
      ],
      "metadata": {
        "id": "QekXhpPBZ9WT"
      },
      "execution_count": null,
      "outputs": []
    },
    {
      "cell_type": "code",
      "source": [
        "clf_lbp_Kn_3 = clf_PCA_Knn_3.fit(train_data_pca,y_train)"
      ],
      "metadata": {
        "id": "AGxTlHskaDK7"
      },
      "execution_count": null,
      "outputs": []
    },
    {
      "cell_type": "code",
      "source": [
        "y_pred = clf_PCA_Knn_3.predict(test_data_pca)\n",
        "\n",
        "print(classification_report(y_test, y_pred,digits=4))\n",
        "print(confusion_matrix(y_test, y_pred))"
      ],
      "metadata": {
        "colab": {
          "base_uri": "https://localhost:8080/"
        },
        "id": "sfnktivHEHXq",
        "outputId": "96454f42-3def-4dc8-9316-a5ab89ae9bb6"
      },
      "execution_count": null,
      "outputs": [
        {
          "output_type": "stream",
          "name": "stdout",
          "text": [
            "              precision    recall  f1-score   support\n",
            "\n",
            "           1     0.3333    0.5600    0.4179        50\n",
            "           2     0.2118    0.8600    0.3399        50\n",
            "           3     0.4667    0.7000    0.5600        50\n",
            "           4     0.3898    0.4600    0.4220        50\n",
            "           5     0.7619    0.3200    0.4507        50\n",
            "           6     0.4571    0.3200    0.3765        50\n",
            "           7     0.3095    0.2600    0.2826        50\n",
            "           8     0.5476    0.4600    0.5000        50\n",
            "           9     0.2083    0.6000    0.3093        50\n",
            "          10     0.7333    0.2200    0.3385        50\n",
            "          11     0.5500    0.2200    0.3143        50\n",
            "          12     0.9444    0.6800    0.7907        50\n",
            "          13     0.8636    0.3800    0.5278        50\n",
            "          14     0.8438    0.5400    0.6585        50\n",
            "          15     0.5714    0.0800    0.1404        50\n",
            "          16     0.2870    0.6200    0.3924        50\n",
            "          17     1.0000    0.3000    0.4615        50\n",
            "          18     1.0000    0.1800    0.3051        50\n",
            "          19     1.0000    0.2400    0.3871        50\n",
            "          20     0.7895    0.3000    0.4348        50\n",
            "\n",
            "    accuracy                         0.4150      1000\n",
            "   macro avg     0.6135    0.4150    0.4205      1000\n",
            "weighted avg     0.6135    0.4150    0.4205      1000\n",
            "\n",
            "[[28  2  0  0  0  1  1  0 11  0  0  0  0  0  0  7  0  0  0  0]\n",
            " [ 1 43  0  0  0  0  2  0  1  0  0  0  0  0  0  3  0  0  0  0]\n",
            " [ 3  3 35  0  0  1  1  2  1  1  1  0  0  0  0  2  0  0  0  0]\n",
            " [ 3 11  7 23  0  1  1  2  1  0  0  0  0  0  0  1  0  0  0  0]\n",
            " [ 5  9  1  4 16  0  4  1  4  1  0  0  0  0  0  5  0  0  0  0]\n",
            " [ 4  5  3  5  0 16  0  2 11  0  0  0  0  0  0  4  0  0  0  0]\n",
            " [ 7 18  2  1  0  1 13  1  3  0  0  0  0  1  0  3  0  0  0  0]\n",
            " [ 1 10  4  4  0  2  0 23  3  0  0  0  0  0  1  2  0  0  0  0]\n",
            " [ 6  2  1  2  0  2  3  1 30  0  0  0  0  0  0  3  0  0  0  0]\n",
            " [ 2  6  2  4  0  1  3  0 11 11  0  1  0  0  1  7  0  0  0  1]\n",
            " [ 4 18  0  1  0  0  0  1  9  0 11  0  0  0  0  6  0  0  0  0]\n",
            " [ 1  5  0  0  0  1  0  0  3  0  0 34  0  0  0  6  0  0  0  0]\n",
            " [ 3 12  4  1  0  0  0  0  7  0  2  0 19  0  0  2  0  0  0  0]\n",
            " [ 1  7  1  0  1  0  1  2  4  1  1  1  0 27  0  3  0  0  0  0]\n",
            " [ 2  6  2  2  0  3  5  1 12  0  2  0  2  1  4  8  0  0  0  0]\n",
            " [ 3  4  3  0  0  0  2  0  6  0  0  0  0  0  0 31  0  0  0  1]\n",
            " [ 2 11  0  1  0  1  1  1 11  0  0  0  0  1  0  6 15  0  0  0]\n",
            " [ 2 10  7  5  0  1  2  1  5  0  1  0  1  0  0  6  0  9  0  0]\n",
            " [ 3 16  1  1  0  1  2  1  8  0  2  0  0  0  0  1  0  0 12  2]\n",
            " [ 3  5  2  5  4  3  1  3  3  1  0  0  0  2  1  2  0  0  0 15]]\n"
          ]
        }
      ]
    },
    {
      "cell_type": "markdown",
      "source": [
        "## Gauss"
      ],
      "metadata": {
        "id": "1eOxICXHSs4e"
      }
    },
    {
      "cell_type": "code",
      "source": [
        "clf_PCA_Gauss = GaussianNB()"
      ],
      "metadata": {
        "id": "kEjCohrCKU5M"
      },
      "execution_count": null,
      "outputs": []
    },
    {
      "cell_type": "code",
      "source": [
        "clf_lbp_Gauss = clf_PCA_Gauss.fit(train_data_pca,y_train)"
      ],
      "metadata": {
        "id": "zGSEngljKVVU"
      },
      "execution_count": null,
      "outputs": []
    },
    {
      "cell_type": "code",
      "source": [
        "y_pred = clf_lbp_Gauss.predict(test_data_pca)\n",
        "\n",
        "print(classification_report(y_test, y_pred,digits=4))\n",
        "print(confusion_matrix(y_test, y_pred))"
      ],
      "metadata": {
        "colab": {
          "base_uri": "https://localhost:8080/"
        },
        "id": "NRiyYjiqKYSs",
        "outputId": "1867fd59-285d-4118-e6e2-912af2c29224"
      },
      "execution_count": null,
      "outputs": [
        {
          "output_type": "stream",
          "name": "stdout",
          "text": [
            "              precision    recall  f1-score   support\n",
            "\n",
            "           1     0.6667    0.5600    0.6087        50\n",
            "           2     0.3925    0.8400    0.5350        50\n",
            "           3     0.8627    0.8800    0.8713        50\n",
            "           4     0.6333    0.3800    0.4750        50\n",
            "           5     0.6122    0.6000    0.6061        50\n",
            "           6     0.5625    0.3600    0.4390        50\n",
            "           7     0.5641    0.4400    0.4944        50\n",
            "           8     0.7333    0.6600    0.6947        50\n",
            "           9     0.3535    0.7000    0.4698        50\n",
            "          10     0.5128    0.4000    0.4494        50\n",
            "          11     0.8261    0.3800    0.5205        50\n",
            "          12     0.9524    0.8000    0.8696        50\n",
            "          13     0.8889    0.8000    0.8421        50\n",
            "          14     0.9000    0.7200    0.8000        50\n",
            "          15     0.3065    0.3800    0.3393        50\n",
            "          16     0.4138    0.7200    0.5255        50\n",
            "          17     0.6512    0.5600    0.6022        50\n",
            "          18     0.8621    0.5000    0.6329        50\n",
            "          19     0.5294    0.5400    0.5347        50\n",
            "          20     0.6889    0.6200    0.6526        50\n",
            "\n",
            "    accuracy                         0.5920      1000\n",
            "   macro avg     0.6456    0.5920    0.5981      1000\n",
            "weighted avg     0.6456    0.5920    0.5981      1000\n",
            "\n",
            "[[28  3  0  0  0  2  0  0  9  1  1  0  0  0  2  2  0  0  2  0]\n",
            " [ 0 42  0  0  1  0  1  0  0  1  0  0  0  0  1  1  0  0  3  0]\n",
            " [ 0  0 44  0  0  0  0  0  2  0  0  0  1  0  1  1  1  0  0  0]\n",
            " [ 0  7  5 19  1  0  0  6  4  0  1  0  2  0  1  3  0  0  0  1]\n",
            " [ 0  2  0  1 30  0  0  0  6  1  0  1  0  0  3  3  2  0  1  0]\n",
            " [ 3  4  0  1  1 18  0  0 10  0  0  1  0  0  2  3  3  0  3  1]\n",
            " [ 0  5  0  0  4  0 22  0  1  4  0  0  0  1  4  3  3  0  2  1]\n",
            " [ 0  4  0  2  1  1  2 33  1  0  0  0  0  0  0  1  0  3  1  1]\n",
            " [ 1  1  0  1  0  2  0  0 35  2  0  0  0  1  4  1  0  0  2  0]\n",
            " [ 3  6  0  0  3  0  1  0  2 20  0  0  0  0  6  8  0  0  1  0]\n",
            " [ 1  5  1  3  0  0  0  0  5  3 19  0  0  0  4  6  0  0  0  3]\n",
            " [ 0  0  0  0  0  2  0  0  1  0  0 40  0  0  1  4  0  0  1  1]\n",
            " [ 1  2  0  0  1  0  1  0  0  0  0  0 40  0  2  0  1  1  1  0]\n",
            " [ 0  1  0  0  1  0  0  0  6  0  1  0  0 36  1  1  0  0  2  1]\n",
            " [ 0  3  0  1  2  3  3  0  3  2  0  0  0  0 19  7  1  0  4  2]\n",
            " [ 4  2  0  0  0  2  0  0  1  2  0  0  0  0  1 36  0  0  1  1]\n",
            " [ 0  4  0  0  0  2  6  0  4  0  0  0  0  0  4  1 28  0  0  1]\n",
            " [ 0  4  1  2  2  0  1  5  5  1  1  0  1  0  0  2  0 25  0  0]\n",
            " [ 0 12  0  0  0  0  1  0  2  0  0  0  0  2  1  0  4  0 27  1]\n",
            " [ 1  0  0  0  2  0  1  1  2  2  0  0  1  0  5  4  0  0  0 31]]\n"
          ]
        }
      ]
    },
    {
      "cell_type": "markdown",
      "source": [
        "# LDA"
      ],
      "metadata": {
        "id": "M4mhpqpKhQZg"
      }
    },
    {
      "cell_type": "markdown",
      "source": [
        "## Extracción de caracteristicas "
      ],
      "metadata": {
        "id": "zStmGeCYexo0"
      }
    },
    {
      "cell_type": "code",
      "source": [
        "lda = LDA(n_components=19)\n",
        "X_train = lda.fit_transform(train_data, y_train)\n",
        "train_data_LDA = lda.transform(train_data)\n",
        "test_data_LDA = lda.transform(test_data)"
      ],
      "metadata": {
        "id": "3SX9bvwye2lZ"
      },
      "execution_count": null,
      "outputs": []
    },
    {
      "cell_type": "markdown",
      "source": [
        "## SVM"
      ],
      "metadata": {
        "id": "r6Z5IplFiYbL"
      }
    },
    {
      "cell_type": "code",
      "source": [
        "clf_lda_svm = GridSearchCV(\n",
        "    SVC(kernel='rbf', class_weight='balanced'), param_grid\n",
        ")\n",
        "clf_lda_svm = clf_lda_svm.fit(train_data_LDA,y_train )\n",
        "\n",
        "print(\"Best estimator found by grid search:\")\n",
        "print(clf_lda_svm.best_estimator_)"
      ],
      "metadata": {
        "colab": {
          "base_uri": "https://localhost:8080/"
        },
        "id": "TIpDL93BiJyY",
        "outputId": "c820a0de-a706-4a0e-d0f3-171f15a7f9b2"
      },
      "execution_count": null,
      "outputs": [
        {
          "output_type": "stream",
          "name": "stdout",
          "text": [
            "Best estimator found by grid search:\n",
            "SVC(C=1000.0, class_weight='balanced', gamma=0.01)\n"
          ]
        }
      ]
    },
    {
      "cell_type": "code",
      "source": [
        "y_pred_lda_svm = clf_lda_svm.predict(test_data_LDA)\n",
        "\n",
        "print(classification_report(y_test, y_pred_lda_svm,digits=4))"
      ],
      "metadata": {
        "colab": {
          "base_uri": "https://localhost:8080/"
        },
        "id": "FwdX6xQWiepv",
        "outputId": "a41f902c-2309-49a8-edad-29b9354fa560"
      },
      "execution_count": null,
      "outputs": [
        {
          "output_type": "stream",
          "name": "stdout",
          "text": [
            "              precision    recall  f1-score   support\n",
            "\n",
            "           1     0.5714    0.3200    0.4103        50\n",
            "           2     0.3214    0.7200    0.4444        50\n",
            "           3     0.6981    0.7400    0.7184        50\n",
            "           4     0.4286    0.3000    0.3529        50\n",
            "           5     0.9545    0.4200    0.5833        50\n",
            "           6     0.5294    0.3600    0.4286        50\n",
            "           7     0.2963    0.1600    0.2078        50\n",
            "           8     0.6522    0.6000    0.6250        50\n",
            "           9     0.1582    0.5600    0.2467        50\n",
            "          10     0.5000    0.4400    0.4681        50\n",
            "          11     0.5833    0.1400    0.2258        50\n",
            "          12     0.8364    0.9200    0.8762        50\n",
            "          13     0.8636    0.7600    0.8085        50\n",
            "          14     0.6500    0.7800    0.7091        50\n",
            "          15     0.4800    0.2400    0.3200        50\n",
            "          16     0.3500    0.5600    0.4308        50\n",
            "          17     0.6429    0.3600    0.4615        50\n",
            "          18     0.7174    0.6600    0.6875        50\n",
            "          19     0.5833    0.2800    0.3784        50\n",
            "          20     0.4375    0.4200    0.4286        50\n",
            "\n",
            "    accuracy                         0.4870      1000\n",
            "   macro avg     0.5627    0.4870    0.4906      1000\n",
            "weighted avg     0.5627    0.4870    0.4906      1000\n",
            "\n"
          ]
        }
      ]
    },
    {
      "cell_type": "markdown",
      "source": [
        "## knn"
      ],
      "metadata": {
        "id": "neZeivofiZlo"
      }
    },
    {
      "cell_type": "code",
      "source": [
        "clf_LDA_Knn_3 = KNeighborsClassifier(n_neighbors=3)"
      ],
      "metadata": {
        "id": "gHa4hEZLj6L_"
      },
      "execution_count": null,
      "outputs": []
    },
    {
      "cell_type": "code",
      "source": [
        "clf_LDA_Knn_3 = clf_PCA_Knn_3.fit(train_data_LDA,y_train)"
      ],
      "metadata": {
        "id": "huRH2xOokEGP"
      },
      "execution_count": null,
      "outputs": []
    },
    {
      "cell_type": "code",
      "source": [
        "y_pred = clf_LDA_Knn_3.predict(test_data_LDA)\n",
        "\n",
        "print(classification_report(y_test, y_pred,digits=4))\n",
        "print(confusion_matrix(y_test, y_pred))"
      ],
      "metadata": {
        "colab": {
          "base_uri": "https://localhost:8080/"
        },
        "id": "8kouVFqGkHCv",
        "outputId": "aa6311c9-46da-4f49-8e18-3208dff48ef0"
      },
      "execution_count": null,
      "outputs": [
        {
          "output_type": "stream",
          "name": "stdout",
          "text": [
            "              precision    recall  f1-score   support\n",
            "\n",
            "           1     0.5667    0.6800    0.6182        50\n",
            "           2     0.5000    0.7000    0.5833        50\n",
            "           3     0.6552    0.7600    0.7037        50\n",
            "           4     0.5000    0.5000    0.5000        50\n",
            "           5     0.8182    0.7200    0.7660        50\n",
            "           6     0.4348    0.6000    0.5042        50\n",
            "           7     0.3182    0.4200    0.3621        50\n",
            "           8     0.7500    0.6600    0.7021        50\n",
            "           9     0.5636    0.6200    0.5905        50\n",
            "          10     0.4800    0.4800    0.4800        50\n",
            "          11     0.6000    0.3600    0.4500        50\n",
            "          12     0.8868    0.9400    0.9126        50\n",
            "          13     0.8542    0.8200    0.8367        50\n",
            "          14     0.7400    0.7400    0.7400        50\n",
            "          15     0.3617    0.3400    0.3505        50\n",
            "          16     0.6286    0.4400    0.5176        50\n",
            "          17     0.8214    0.4600    0.5897        50\n",
            "          18     0.8293    0.6800    0.7473        50\n",
            "          19     0.6410    0.5000    0.5618        50\n",
            "          20     0.4444    0.5600    0.4956        50\n",
            "\n",
            "    accuracy                         0.5990      1000\n",
            "   macro avg     0.6197    0.5990    0.6006      1000\n",
            "weighted avg     0.6197    0.5990    0.6006      1000\n",
            "\n",
            "[[34  2  0  0  0  1  1  0  0  0  1  1  0  0  2  1  1  0  1  5]\n",
            " [ 0 35  0  0  0  3  7  0  0  3  0  0  0  0  1  0  1  0  0  0]\n",
            " [ 0  0 38  4  1  1  1  0  1  0  0  0  0  0  1  0  0  2  0  1]\n",
            " [ 3  0  3 25  2  3  3  3  0  1  1  0  1  0  0  1  0  1  1  2]\n",
            " [ 1  0  0  2 36  0  0  0  1  3  0  0  2  0  0  1  0  0  0  4]\n",
            " [ 0  1  1  2  0 30  2  1  5  0  1  0  0  1  2  1  0  0  1  2]\n",
            " [ 2  4  1  2  1  2 21  0  4  4  1  0  0  2  2  1  0  1  0  2]\n",
            " [ 0  2  3  4  0  1  2 33  0  1  1  0  1  0  0  0  0  2  0  0]\n",
            " [ 1  1  1  2  0  2  1  0 31  0  1  1  0  1  3  2  0  0  2  1]\n",
            " [ 1  1  1  0  1  3  5  1  0 24  1  1  0  1  4  1  0  1  0  4]\n",
            " [ 1  4  0  2  0  5  3  3  2  3 18  0  1  0  3  2  1  0  2  0]\n",
            " [ 0  1  0  0  0  0  0  2  0  0  0 47  0  0  0  0  0  0  0  0]\n",
            " [ 1  2  0  1  0  1  1  0  0  0  1  0 41  0  1  1  0  0  0  0]\n",
            " [ 1  2  0  0  0  3  1  0  0  1  1  0  0 37  1  0  0  0  1  2]\n",
            " [ 2  3  3  1  2  3  1  0  3  1  0  0  0  3 17  2  2  0  3  4]\n",
            " [ 6  3  0  0  0  1  1  0  3  3  1  2  0  0  3 22  0  0  1  4]\n",
            " [ 0  3  1  1  0  1  8  0  4  0  1  0  1  2  2  0 23  0  1  2]\n",
            " [ 2  0  4  3  0  1  0  1  0  3  1  0  1  0  0  0  0 34  0  0]\n",
            " [ 0  3  0  0  1  7  5  0  1  1  0  1  0  2  2  0  0  0 25  2]\n",
            " [ 5  3  2  1  0  1  3  0  0  2  0  0  0  1  3  0  0  0  1 28]]\n"
          ]
        }
      ]
    },
    {
      "cell_type": "markdown",
      "source": [
        "## Gauss"
      ],
      "metadata": {
        "id": "zW9tSFYmib3X"
      }
    },
    {
      "cell_type": "code",
      "source": [
        "clf_LDA_Gauss = GaussianNB()"
      ],
      "metadata": {
        "id": "hbApsO2ila8P"
      },
      "execution_count": null,
      "outputs": []
    },
    {
      "cell_type": "code",
      "source": [
        "clf_LDA_Gauss = clf_LDA_Gauss.fit(train_data_LDA,y_train)"
      ],
      "metadata": {
        "id": "T5BXcCJ-lasn"
      },
      "execution_count": null,
      "outputs": []
    },
    {
      "cell_type": "code",
      "source": [
        "y_pred = clf_LDA_Gauss.predict(test_data_LDA)\n",
        "\n",
        "print(classification_report(y_test, y_pred,digits=4))\n",
        "print(confusion_matrix(y_test, y_pred))"
      ],
      "metadata": {
        "colab": {
          "base_uri": "https://localhost:8080/"
        },
        "id": "xfLG8morj6if",
        "outputId": "b3ff7981-0aee-4188-a34e-b993a2748265"
      },
      "execution_count": null,
      "outputs": [
        {
          "output_type": "stream",
          "name": "stdout",
          "text": [
            "              precision    recall  f1-score   support\n",
            "\n",
            "           1     0.8333    0.2000    0.3226        50\n",
            "           2     0.1752    0.8200    0.2887        50\n",
            "           3     0.9655    0.5600    0.7089        50\n",
            "           4     0.7000    0.2800    0.4000        50\n",
            "           5     1.0000    0.4000    0.5714        50\n",
            "           6     0.8333    0.3000    0.4412        50\n",
            "           7     0.3571    0.1000    0.1562        50\n",
            "           8     0.8462    0.6600    0.7416        50\n",
            "           9     0.2155    0.7800    0.3377        50\n",
            "          10     0.3913    0.5400    0.4538        50\n",
            "          11     1.0000    0.0400    0.0769        50\n",
            "          12     0.8800    0.8800    0.8800        50\n",
            "          13     0.9444    0.6800    0.7907        50\n",
            "          14     0.8537    0.7000    0.7692        50\n",
            "          15     0.5833    0.1400    0.2258        50\n",
            "          16     0.2857    0.6400    0.3951        50\n",
            "          17     0.8182    0.1800    0.2951        50\n",
            "          18     0.8889    0.4800    0.6234        50\n",
            "          19     0.8889    0.1600    0.2712        50\n",
            "          20     0.4531    0.5800    0.5088        50\n",
            "\n",
            "    accuracy                         0.4560      1000\n",
            "   macro avg     0.6957    0.4560    0.4629      1000\n",
            "weighted avg     0.6957    0.4560    0.4629      1000\n",
            "\n",
            "[[10  4  0  0  0  0  1  0 19  1  0  0  0  0  0 13  0  0  0  2]\n",
            " [ 0 41  0  0  0  1  3  0  1  3  0  0  0  0  0  0  1  0  0  0]\n",
            " [ 0 10 28  0  0  0  1  0  4  3  0  0  0  0  0  1  0  1  0  2]\n",
            " [ 0 10  0 14  0  0  1  2  9  2  0  0  0  0  0  6  0  1  0  5]\n",
            " [ 0  8  0  0 20  0  0  0 10  6  0  0  1  0  0  1  0  0  0  4]\n",
            " [ 0 11  0  1  0 15  1  0 16  1  0  1  0  0  0  2  0  0  0  2]\n",
            " [ 0 20  0  0  0  0  5  0 12  3  0  0  0  1  1  5  0  0  0  3]\n",
            " [ 0  6  0  2  0  0  0 33  2  1  0  1  0  0  0  4  0  1  0  0]\n",
            " [ 0  0  0  0  0  0  0  0 39  2  0  1  0  0  2  5  0  0  0  1]\n",
            " [ 0 11  0  0  0  1  0  0  5 27  0  0  0  0  1  4  0  0  0  1]\n",
            " [ 0 21  0  0  0  0  0  0 10  5  2  0  0  0  0 11  0  0  1  0]\n",
            " [ 0  0  0  0  0  0  0  1  0  0  0 44  0  0  0  5  0  0  0  0]\n",
            " [ 0 10  0  1  0  0  0  0  3  0  0  0 34  0  0  2  0  0  0  0]\n",
            " [ 0  5  0  0  0  0  0  0  4  1  0  1  0 35  0  1  0  0  0  3]\n",
            " [ 0 10  0  0  0  0  0  0 16  4  0  0  0  1  7  7  1  0  0  4]\n",
            " [ 1  6  0  0  0  0  0  0  6  3  0  0  0  0  0 32  0  0  0  2]\n",
            " [ 0 17  0  0  0  0  2  0 13  0  0  1  0  2  0  3  9  0  0  3]\n",
            " [ 1 14  1  1  0  0  0  3  1  2  0  0  1  0  0  1  0 24  0  1]\n",
            " [ 0 22  0  0  0  1  0  0  8  2  0  1  0  2  1  3  0  0  8  2]\n",
            " [ 0  8  0  1  0  0  0  0  3  3  0  0  0  0  0  6  0  0  0 29]]\n"
          ]
        }
      ]
    },
    {
      "cell_type": "markdown",
      "source": [
        "# Carga de datos 2"
      ],
      "metadata": {
        "id": "kQFvcR40QAQ8"
      }
    },
    {
      "cell_type": "code",
      "source": [
        "path = \"/content/drive/MyDrive/Colab Notebooks/Base-De-Datos/datasetVGG/1-African American/train\"\n",
        "\n",
        "list_people = os.listdir(path)\n",
        "\n",
        "type_file = \"*.jpg\"\n",
        "\n",
        "cont = 0\n",
        "cont2 = 0\n",
        "\n",
        "for k in list_people:\n",
        "    \n",
        "    path_image = path + \"/\" + k\n",
        "    list_jpg = glob.glob(path_image + os.sep + type_file)\n",
        "    \n",
        "    cont += len(list_jpg)\n",
        "    \n",
        "print(\"El número de muestras: \",cont)\n",
        "\n",
        "train_data = np.zeros((cont,192,168,2))\n",
        "train_data = train_data.astype('float32')\n",
        "\n",
        "y_train = np.zeros(cont)\n",
        "y_train = y_train.astype('int8')\n",
        "\n",
        "\n",
        "for i in list_people:\n",
        "    \n",
        "    #print(i)\n",
        "    \n",
        "    path_image = path + \"/\" + i\n",
        "    \n",
        "    list_jpg = glob.glob(path_image + os.sep + type_file)\n",
        "    \n",
        "    for j in list_jpg:\n",
        "        \n",
        "        image = cv2.imread(j, cv2.IMREAD_COLOR)\n",
        "        image = cv2.cvtColor(image, cv2.COLOR_BGR2HSV)\n",
        "        image = cv2.resize(image, (168,192))\n",
        "        H,S,V = cv2.split(image)\n",
        "        image_merge = np.zeros((192,168,2))\n",
        "        image_merge[:,:,0] = S\n",
        "        image_merge[:,:,1] = V\n",
        "        train_data[cont2] += image_merge \n",
        "\n",
        "        y_train[cont2] = i[-2] + i[-1]\n",
        "\n",
        "        #print(y_train[cont2])\n",
        "        cont2 += 1\n",
        "\n",
        "#print(y_train)"
      ],
      "metadata": {
        "colab": {
          "base_uri": "https://localhost:8080/"
        },
        "id": "fgayp8lYPwTs",
        "outputId": "bb00b329-fbca-49c8-e041-ac645c0b8c9f"
      },
      "execution_count": null,
      "outputs": [
        {
          "output_type": "stream",
          "name": "stdout",
          "text": [
            "El número de muestras:  2593\n"
          ]
        }
      ]
    },
    {
      "cell_type": "code",
      "source": [
        "path = \"/content/drive/MyDrive/Colab Notebooks/Base-De-Datos/datasetVGG/1-African American/test\"\n",
        "\n",
        "list_people = os.listdir(path)\n",
        "\n",
        "subcadena = \"yaleB\" #la subcadena que queremos localizar\n",
        "type_file = \"*.jpg\"\n",
        "\n",
        "cont = 0\n",
        "cont2 = 0\n",
        "\n",
        "for k in list_people:\n",
        "    \n",
        "    path_image = path + \"/\" + k\n",
        "    list_jpg = glob.glob(path_image + os.sep + type_file)\n",
        "    \n",
        "    cont += len(list_jpg)\n",
        "    \n",
        "print(\"El número de muestras: \",cont)\n",
        "\n",
        "test_data = np.zeros((cont,192,168,2))\n",
        "test_data = test_data.astype('float32')\n",
        "\n",
        "y_test = np.zeros(cont)\n",
        "y_test = y_test.astype('int8')\n",
        "\n",
        "\n",
        "for i in list_people:\n",
        "    \n",
        "    #print(i)\n",
        "    \n",
        "    path_image = path + \"/\" + i\n",
        "    \n",
        "    list_jpg = glob.glob(path_image + os.sep + type_file)\n",
        "    \n",
        "    for j in list_jpg:\n",
        "        \n",
        "        image = cv2.imread(j, cv2.IMREAD_COLOR)\n",
        "        image = cv2.cvtColor(image, cv2.COLOR_BGR2HSV)\n",
        "        image = cv2.resize(image, (168,192))\n",
        "        H,S,V = cv2.split(image)\n",
        "        image_merge = np.zeros((192,168,2))\n",
        "        image_merge[:,:,0] = S\n",
        "        image_merge[:,:,1] = V\n",
        "        \n",
        "\n",
        "        test_data[cont2] += image_merge \n",
        "\n",
        "        y_test[cont2] = i[-2] + i[-1]\n",
        "        #print(y_train[cont2])\n",
        "        cont2 += 1\n",
        "\n",
        "#print(y_train)"
      ],
      "metadata": {
        "colab": {
          "base_uri": "https://localhost:8080/"
        },
        "id": "Iz6m4JnPPxKM",
        "outputId": "f9fa45c2-c8bc-468b-8bd8-bd61b084283d"
      },
      "execution_count": null,
      "outputs": [
        {
          "output_type": "stream",
          "name": "stdout",
          "text": [
            "El número de muestras:  1000\n"
          ]
        }
      ]
    },
    {
      "cell_type": "markdown",
      "source": [
        "# Separar datos en train y test"
      ],
      "metadata": {
        "id": "hllo2PNgglaw"
      }
    },
    {
      "cell_type": "code",
      "source": [
        "nsamples, nx, ny, chanels = train_data.shape\n",
        "\n",
        "train_data = train_data.reshape((nsamples,nx*ny*chanels))\n",
        "\n",
        "X_sparse = coo_matrix(train_data)\n",
        "\n",
        "train_data, X_sparse, y_train = shuffle(train_data, X_sparse,y_train, random_state=0)\n",
        "\n",
        "train_data = train_data.reshape((nsamples,nx,ny,chanels))"
      ],
      "metadata": {
        "id": "WEDfENoqS_Fd"
      },
      "execution_count": null,
      "outputs": []
    },
    {
      "cell_type": "code",
      "source": [
        "nsamples, nx, ny, chanels = test_data.shape\n",
        "\n",
        "test_data = test_data.reshape((nsamples,nx*ny*chanels))\n",
        "\n",
        "X_sparse = coo_matrix(test_data)\n",
        "\n",
        "test_data, X_sparse, y_test = shuffle(test_data, X_sparse,y_test, random_state=0)\n",
        "\n",
        "test_data = test_data.reshape((nsamples,nx,ny,chanels))"
      ],
      "metadata": {
        "id": "AdP1-OY6TAyV"
      },
      "execution_count": null,
      "outputs": []
    },
    {
      "cell_type": "code",
      "source": [
        "train_data = train_data.astype(\"uint8\")\n",
        "nsamples1, nx1, ny1, chanels = train_data.shape\n",
        "train_data = train_data.reshape((nsamples1,nx1*ny1*chanels))\n",
        "train_data = train_data/255\n",
        "\n",
        "test_data = test_data.astype(\"uint8\")\n",
        "nsamples, nx, ny, chanels = test_data.shape\n",
        "test_data = test_data.reshape((nsamples,nx*ny*chanels))\n",
        "test_data = test_data/255"
      ],
      "metadata": {
        "id": "83dpWmjiTFhl"
      },
      "execution_count": null,
      "outputs": []
    },
    {
      "cell_type": "code",
      "source": [
        "train_data = train_data.reshape((nsamples1,nx1,ny1,chanels))\n",
        "test_data = test_data.reshape((nsamples,nx,ny,chanels))"
      ],
      "metadata": {
        "id": "3633DraNOGFM"
      },
      "execution_count": null,
      "outputs": []
    },
    {
      "cell_type": "code",
      "source": [
        "train_data_S = np.zeros((nsamples1,192,168))\n",
        "train_data_S = train_data[:,:,:,0]\n",
        "train_data_V = np.zeros((nsamples1,192,168))\n",
        "train_data_V = train_data[:,:,:,1]\n",
        "\n",
        "test_data_S = np.zeros((nsamples,192,168))\n",
        "test_data_S = test_data[:,:,:,0]\n",
        "test_data_V = np.zeros((nsamples1,192,168))\n",
        "test_data_V = test_data[:,:,:,1]"
      ],
      "metadata": {
        "id": "tAq_nZOmUPS0"
      },
      "execution_count": null,
      "outputs": []
    },
    {
      "cell_type": "markdown",
      "source": [
        "# LBP\n"
      ],
      "metadata": {
        "id": "Z9vr5iFJhIYn"
      }
    },
    {
      "cell_type": "markdown",
      "source": [
        "## Extracción de caracteristicas"
      ],
      "metadata": {
        "id": "iEjHzUokc5XS"
      }
    },
    {
      "cell_type": "code",
      "source": [
        "# https://github.com/AsoStrife/Computer-Vision-Project\n",
        "\n",
        "def blockshaped(arr, nrows, ncols):\n",
        "\n",
        "    h, w = arr.shape\n",
        "    return (arr.reshape(h//nrows, nrows, -1, ncols)\n",
        "            .swapaxes(1,2)\n",
        "            .reshape(-1, nrows, ncols))\n",
        "def getHistogram(imgArray):\n",
        "    hist, bin_edges = np.histogram(imgArray, density=True)\n",
        "    return hist"
      ],
      "metadata": {
        "id": "ypckBUmSbQ2e"
      },
      "execution_count": null,
      "outputs": []
    },
    {
      "cell_type": "code",
      "source": [
        "# tamaño de train y test\n",
        "cont_train = train_data.shape[0]\n",
        "cont_test = test_data.shape[0]\n",
        "print(cont_test)"
      ],
      "metadata": {
        "colab": {
          "base_uri": "https://localhost:8080/"
        },
        "id": "uWLgW0UmdDsS",
        "outputId": "2e665ef4-504d-412d-b100-57d8448ade07"
      },
      "execution_count": null,
      "outputs": [
        {
          "output_type": "stream",
          "name": "stdout",
          "text": [
            "1000\n"
          ]
        }
      ]
    },
    {
      "cell_type": "code",
      "source": [
        "#train_data_LBP = train_data.reshape((cont_train,nx,ny))\n",
        "lbp_feactures  = np.zeros((cont_train,nx,ny))\n",
        "\n",
        "eps = 1e-7\n",
        "radius = 1\n",
        "n_points = 8 * radius\n",
        "\n",
        "lbp_hist_S = np.zeros((cont_train,1440))\n",
        "\n",
        "for i in range(0,cont_train): \n",
        "    lbp = feature.local_binary_pattern(train_data_S[i], n_points, radius)\n",
        "    lbp_feactures[i] +=  lbp\n",
        "    \n",
        "    shaped = blockshaped(lbp_feactures[i], 16, 14)\n",
        "    x = []\n",
        "    xBlocks = []\n",
        "    for s in shaped:\n",
        "        xBlocks.append(getHistogram(s))\n",
        "    # Concatenate the various histogram, the resulting histogram is append into feature vector\n",
        "    x.append(np.concatenate(xBlocks))\n",
        "    \n",
        "    lbp_hist_S[i] += x[0]"
      ],
      "metadata": {
        "id": "8PcaXjhSc_zZ"
      },
      "execution_count": null,
      "outputs": []
    },
    {
      "cell_type": "code",
      "source": [
        "#train_data_LBP = train_data.reshape((cont_train,nx,ny))\n",
        "lbp_feactures  = np.zeros((cont_train,nx,ny))\n",
        "\n",
        "eps = 1e-7\n",
        "radius = 1\n",
        "n_points = 8 * radius\n",
        "\n",
        "lbp_hist_V = np.zeros((cont_train,1440))\n",
        "\n",
        "for i in range(0,cont_train): \n",
        "    lbp = feature.local_binary_pattern(train_data_V[i], n_points, radius)\n",
        "    lbp_feactures[i] +=  lbp\n",
        "    \n",
        "    shaped = blockshaped(lbp_feactures[i], 16, 14)\n",
        "    x = []\n",
        "    xBlocks = []\n",
        "    for s in shaped:\n",
        "        xBlocks.append(getHistogram(s))\n",
        "    # Concatenate the various histogram, the resulting histogram is append into feature vector\n",
        "    x.append(np.concatenate(xBlocks))\n",
        "    \n",
        "    lbp_hist_V[i] += x[0]"
      ],
      "metadata": {
        "id": "Rr_TzQibU1IM"
      },
      "execution_count": null,
      "outputs": []
    },
    {
      "cell_type": "code",
      "source": [
        "#test_data_LBP = test_data.reshape((cont_test,nx,ny))\n",
        "lbp_feactures_test  = np.zeros((cont_test,nx,ny))\n",
        "\n",
        "\n",
        "lbp_hist_test_S = np.zeros((cont_test,1440))\n",
        "\n",
        "for i in range(0,cont_test): \n",
        "    lbp = feature.local_binary_pattern(test_data_S[i], n_points, radius)\n",
        "    lbp_feactures_test[i] +=  lbp\n",
        "    \n",
        "    shaped = blockshaped(lbp_feactures_test[i], 16, 14)\n",
        "    x = []\n",
        "    xBlocks = []\n",
        "    for s in shaped:\n",
        "        xBlocks.append(getHistogram(s))\n",
        "    # Concatenate the various histogram, the resulting histogram is append into feature vector\n",
        "    x.append(np.concatenate(xBlocks))\n",
        "    \n",
        "    lbp_hist_test_S[i] += x[0]\n",
        "    "
      ],
      "metadata": {
        "id": "8zCECTEndbYp"
      },
      "execution_count": null,
      "outputs": []
    },
    {
      "cell_type": "code",
      "source": [
        "#test_data_LBP = test_data.reshape((cont_test,nx,ny))\n",
        "lbp_feactures_test  = np.zeros((cont_test,nx,ny))\n",
        "\n",
        "\n",
        "lbp_hist_test_V = np.zeros((cont_test,1440))\n",
        "\n",
        "for i in range(0,cont_test): \n",
        "    lbp = feature.local_binary_pattern(test_data_V[i], n_points, radius)\n",
        "    lbp_feactures_test[i] +=  lbp\n",
        "    \n",
        "    shaped = blockshaped(lbp_feactures_test[i], 16, 14)\n",
        "    x = []\n",
        "    xBlocks = []\n",
        "    for s in shaped:\n",
        "        xBlocks.append(getHistogram(s))\n",
        "    # Concatenate the various histogram, the resulting histogram is append into feature vector\n",
        "    x.append(np.concatenate(xBlocks))\n",
        "    \n",
        "    lbp_hist_test_V[i] += x[0]\n",
        "    "
      ],
      "metadata": {
        "id": "ESTzVdhBVYEU"
      },
      "execution_count": null,
      "outputs": []
    },
    {
      "cell_type": "code",
      "source": [
        "lbp_hist_test_V.shape"
      ],
      "metadata": {
        "colab": {
          "base_uri": "https://localhost:8080/"
        },
        "id": "PpSnw-5ZWLn7",
        "outputId": "b488e67d-2c0b-408d-c3fb-b968211d12fb"
      },
      "execution_count": null,
      "outputs": [
        {
          "output_type": "execute_result",
          "data": {
            "text/plain": [
              "(1000, 1440)"
            ]
          },
          "metadata": {},
          "execution_count": 82
        }
      ]
    },
    {
      "cell_type": "code",
      "source": [
        "lbp_hist = np.concatenate((lbp_hist_S,lbp_hist_V),axis=1)\n",
        "lbp_hist.shape"
      ],
      "metadata": {
        "colab": {
          "base_uri": "https://localhost:8080/"
        },
        "id": "7Rfnt2fEZK1e",
        "outputId": "76ebc27e-a503-48ee-f5c0-f1cff21836e9"
      },
      "execution_count": null,
      "outputs": [
        {
          "output_type": "execute_result",
          "data": {
            "text/plain": [
              "(2593, 2880)"
            ]
          },
          "metadata": {},
          "execution_count": 88
        }
      ]
    },
    {
      "cell_type": "code",
      "source": [
        "lbp_hist_test = np.concatenate((lbp_hist_test_S,lbp_hist_test_V),axis=1)\n",
        "lbp_hist_test.shape"
      ],
      "metadata": {
        "colab": {
          "base_uri": "https://localhost:8080/"
        },
        "id": "c-WYwnMqZ5vU",
        "outputId": "6646d889-422f-48e3-cd24-2d51ebaa3af3"
      },
      "execution_count": null,
      "outputs": [
        {
          "output_type": "execute_result",
          "data": {
            "text/plain": [
              "(1000, 2880)"
            ]
          },
          "metadata": {},
          "execution_count": 89
        }
      ]
    },
    {
      "cell_type": "markdown",
      "source": [
        "## SMV"
      ],
      "metadata": {
        "id": "K1xiJKp7dddK"
      }
    },
    {
      "cell_type": "code",
      "source": [
        "param_grid = {'C': [1e3, 5e3, 1e4, 5e4, 1e5],\n",
        "              'gamma': [0.0001, 0.0005, 0.001, 0.005, 0.01, 0.1], }\n",
        "clf_lbp_svm = GridSearchCV(\n",
        "    SVC(kernel='rbf', class_weight='balanced'), param_grid\n",
        ")\n",
        "clf_lbp_svm = clf_lbp_svm.fit(lbp_hist,y_train )\n",
        "\n",
        "print(\"El mejor conjunto de caracteriticas es: \")\n",
        "print(clf_lbp_svm.best_estimator_)"
      ],
      "metadata": {
        "colab": {
          "base_uri": "https://localhost:8080/"
        },
        "id": "Ku9VLQzddotZ",
        "outputId": "224aa1a6-ec13-43d2-c8a0-e68827192096"
      },
      "execution_count": null,
      "outputs": [
        {
          "output_type": "stream",
          "name": "stdout",
          "text": [
            "El mejor conjunto de caracteriticas es: \n",
            "SVC(C=5000.0, class_weight='balanced', gamma=0.1)\n"
          ]
        }
      ]
    },
    {
      "cell_type": "code",
      "source": [
        "y_pred_lbp_svm = clf_lbp_svm.predict(lbp_hist_test)\n",
        "\n",
        "print(classification_report(y_test, y_pred_lbp_svm,digits=4))"
      ],
      "metadata": {
        "colab": {
          "base_uri": "https://localhost:8080/"
        },
        "id": "G6J--DVJd_Xq",
        "outputId": "0b6f1f73-fb7c-4124-f2c8-e853c0985fd2"
      },
      "execution_count": null,
      "outputs": [
        {
          "output_type": "stream",
          "name": "stdout",
          "text": [
            "              precision    recall  f1-score   support\n",
            "\n",
            "           1     0.9111    0.8200    0.8632        50\n",
            "           2     0.8571    0.8400    0.8485        50\n",
            "           3     0.8431    0.8600    0.8515        50\n",
            "           4     0.8333    0.7000    0.7609        50\n",
            "           5     0.7778    0.7000    0.7368        50\n",
            "           6     0.6271    0.7400    0.6789        50\n",
            "           7     0.7308    0.7600    0.7451        50\n",
            "           8     0.8636    0.7600    0.8085        50\n",
            "           9     0.9091    0.8000    0.8511        50\n",
            "          10     0.6727    0.7400    0.7048        50\n",
            "          11     0.9500    0.7600    0.8444        50\n",
            "          12     0.9375    0.9000    0.9184        50\n",
            "          13     0.9268    0.7600    0.8352        50\n",
            "          14     0.9149    0.8600    0.8866        50\n",
            "          15     0.7317    0.6000    0.6593        50\n",
            "          16     0.8077    0.8400    0.8235        50\n",
            "          17     0.3936    0.7400    0.5139        50\n",
            "          18     0.8302    0.8800    0.8544        50\n",
            "          19     0.6667    0.7600    0.7103        50\n",
            "          20     0.9268    0.7600    0.8352        50\n",
            "\n",
            "    accuracy                         0.7790      1000\n",
            "   macro avg     0.8056    0.7790    0.7865      1000\n",
            "weighted avg     0.8056    0.7790    0.7865      1000\n",
            "\n"
          ]
        }
      ]
    },
    {
      "cell_type": "markdown",
      "source": [
        "## KNN"
      ],
      "metadata": {
        "id": "_aqb1aHSdfmJ"
      }
    },
    {
      "cell_type": "code",
      "source": [
        "clf_lbp_Kn_3 = KNeighborsClassifier(n_neighbors=7)"
      ],
      "metadata": {
        "id": "8q8SsMOReW40"
      },
      "execution_count": null,
      "outputs": []
    },
    {
      "cell_type": "code",
      "source": [
        "clf_lbp_Kn_3 = clf_lbp_Kn_3.fit(lbp_hist,y_train)"
      ],
      "metadata": {
        "id": "7ujXF4D9eUQ4"
      },
      "execution_count": null,
      "outputs": []
    },
    {
      "cell_type": "code",
      "source": [
        "y_pred_lbp_knn = clf_lbp_Kn_3.predict(lbp_hist_test)\n",
        "\n",
        "print(classification_report(y_test, y_pred_lbp_knn,digits=4))"
      ],
      "metadata": {
        "colab": {
          "base_uri": "https://localhost:8080/"
        },
        "id": "dVA2n3uZeVXL",
        "outputId": "ffda76bd-d567-41f6-9bd7-c77ab600c871"
      },
      "execution_count": null,
      "outputs": [
        {
          "output_type": "stream",
          "name": "stdout",
          "text": [
            "              precision    recall  f1-score   support\n",
            "\n",
            "           1     0.3977    0.7000    0.5072        50\n",
            "           2     0.5000    0.7200    0.5902        50\n",
            "           3     0.5125    0.8200    0.6308        50\n",
            "           4     0.4386    0.5000    0.4673        50\n",
            "           5     0.5778    0.5200    0.5474        50\n",
            "           6     0.6207    0.3600    0.4557        50\n",
            "           7     0.5000    0.5000    0.5000        50\n",
            "           8     0.7083    0.6800    0.6939        50\n",
            "           9     0.6216    0.4600    0.5287        50\n",
            "          10     0.8125    0.2600    0.3939        50\n",
            "          11     0.5645    0.7000    0.6250        50\n",
            "          12     0.8140    0.7000    0.7527        50\n",
            "          13     0.7692    0.6000    0.6742        50\n",
            "          14     0.5116    0.8800    0.6471        50\n",
            "          15     0.6250    0.3000    0.4054        50\n",
            "          16     0.4167    0.4000    0.4082        50\n",
            "          17     0.7000    0.4200    0.5250        50\n",
            "          18     0.8333    0.6000    0.6977        50\n",
            "          19     0.3933    0.7000    0.5036        50\n",
            "          20     0.8095    0.3400    0.4789        50\n",
            "\n",
            "    accuracy                         0.5580      1000\n",
            "   macro avg     0.6063    0.5580    0.5516      1000\n",
            "weighted avg     0.6063    0.5580    0.5516      1000\n",
            "\n"
          ]
        }
      ]
    },
    {
      "cell_type": "markdown",
      "source": [
        "## Gauss"
      ],
      "metadata": {
        "id": "1x5pfWiMdhhJ"
      }
    },
    {
      "cell_type": "code",
      "source": [
        "clf_lbp_Gauss = GaussianNB()"
      ],
      "metadata": {
        "id": "TgW5wWUMdVUb"
      },
      "execution_count": null,
      "outputs": []
    },
    {
      "cell_type": "code",
      "source": [
        "clf_lbp_Gauss = clf_lbp_Gauss.fit(lbp_hist,y_train)"
      ],
      "metadata": {
        "id": "uDVEpzvLejdJ"
      },
      "execution_count": null,
      "outputs": []
    },
    {
      "cell_type": "code",
      "source": [
        "y_pred_lbp_knn = clf_lbp_Gauss.predict(lbp_hist_test)\n",
        "\n",
        "print(classification_report(y_test, y_pred_lbp_knn,digits=4))"
      ],
      "metadata": {
        "colab": {
          "base_uri": "https://localhost:8080/"
        },
        "id": "g2sVNQZohfMZ",
        "outputId": "62b00957-3f96-4915-ef36-f3acf49e2cd7"
      },
      "execution_count": null,
      "outputs": [
        {
          "output_type": "stream",
          "name": "stdout",
          "text": [
            "              precision    recall  f1-score   support\n",
            "\n",
            "           1     0.4746    0.5600    0.5138        50\n",
            "           2     0.2500    0.5000    0.3333        50\n",
            "           3     0.5147    0.7000    0.5932        50\n",
            "           4     0.4828    0.2800    0.3544        50\n",
            "           5     0.3333    0.0600    0.1017        50\n",
            "           6     0.2000    0.0600    0.0923        50\n",
            "           7     0.1429    0.0200    0.0351        50\n",
            "           8     0.3846    0.4000    0.3922        50\n",
            "           9     0.3077    0.0800    0.1270        50\n",
            "          10     0.2632    0.4000    0.3175        50\n",
            "          11     0.0000    0.0000    0.0000        50\n",
            "          12     0.6429    0.5400    0.5870        50\n",
            "          13     0.5000    0.1600    0.2424        50\n",
            "          14     0.5082    0.6200    0.5586        50\n",
            "          15     0.1786    0.2000    0.1887        50\n",
            "          16     0.1801    0.5800    0.2749        50\n",
            "          17     0.3500    0.5600    0.4308        50\n",
            "          18     0.5091    0.5600    0.5333        50\n",
            "          19     0.4000    0.1200    0.1846        50\n",
            "          20     0.1628    0.2800    0.2059        50\n",
            "\n",
            "    accuracy                         0.3340      1000\n",
            "   macro avg     0.3393    0.3340    0.3033      1000\n",
            "weighted avg     0.3393    0.3340    0.3033      1000\n",
            "\n"
          ]
        },
        {
          "output_type": "stream",
          "name": "stderr",
          "text": [
            "/usr/local/lib/python3.7/dist-packages/sklearn/metrics/_classification.py:1318: UndefinedMetricWarning: Precision and F-score are ill-defined and being set to 0.0 in labels with no predicted samples. Use `zero_division` parameter to control this behavior.\n",
            "  _warn_prf(average, modifier, msg_start, len(result))\n",
            "/usr/local/lib/python3.7/dist-packages/sklearn/metrics/_classification.py:1318: UndefinedMetricWarning: Precision and F-score are ill-defined and being set to 0.0 in labels with no predicted samples. Use `zero_division` parameter to control this behavior.\n",
            "  _warn_prf(average, modifier, msg_start, len(result))\n",
            "/usr/local/lib/python3.7/dist-packages/sklearn/metrics/_classification.py:1318: UndefinedMetricWarning: Precision and F-score are ill-defined and being set to 0.0 in labels with no predicted samples. Use `zero_division` parameter to control this behavior.\n",
            "  _warn_prf(average, modifier, msg_start, len(result))\n"
          ]
        }
      ]
    }
  ]
}