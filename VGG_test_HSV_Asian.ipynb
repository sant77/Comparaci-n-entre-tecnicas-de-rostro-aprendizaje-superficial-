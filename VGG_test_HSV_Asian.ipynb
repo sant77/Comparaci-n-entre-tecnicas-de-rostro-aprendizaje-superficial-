{
  "nbformat": 4,
  "nbformat_minor": 0,
  "metadata": {
    "colab": {
      "provenance": [],
      "collapsed_sections": [
        "AmVHNheegbup",
        "JgoVNCeeP6QY",
        "kQFvcR40QAQ8",
        "2XNZTqCnidvs",
        "hllo2PNgglaw",
        "Z9vr5iFJhIYn",
        "K1xiJKp7dddK",
        "_aqb1aHSdfmJ",
        "1x5pfWiMdhhJ",
        "q7i0d5zQhLwP",
        "5qo3IFfuEiQx",
        "zgaL3Cm1SPOV",
        "M4mhpqpKhQZg",
        "r6Z5IplFiYbL",
        "neZeivofiZlo"
      ],
      "machine_shape": "hm"
    },
    "kernelspec": {
      "name": "python3",
      "display_name": "Python 3"
    },
    "language_info": {
      "name": "python"
    },
    "gpuClass": "standard"
  },
  "cells": [
    {
      "cell_type": "markdown",
      "source": [
        "# Cargar datos y librerias"
      ],
      "metadata": {
        "id": "AmVHNheegbup"
      }
    },
    {
      "cell_type": "code",
      "execution_count": null,
      "metadata": {
        "id": "I_C_HFw1Oqxk",
        "colab": {
          "base_uri": "https://localhost:8080/"
        },
        "outputId": "f31f34fd-c788-4ef9-a878-ccaf5501994e"
      },
      "outputs": [
        {
          "output_type": "stream",
          "name": "stdout",
          "text": [
            "Drive already mounted at /content/drive; to attempt to forcibly remount, call drive.mount(\"/content/drive\", force_remount=True).\n"
          ]
        }
      ],
      "source": [
        "from google.colab import drive\n",
        "drive.mount('/content/drive')"
      ]
    },
    {
      "cell_type": "code",
      "source": [
        "# Basic\n",
        "import numpy as np \n",
        "import pandas as pd \n",
        "import matplotlib.pyplot as plt\n",
        "from statistics import mode\n",
        "import os\n",
        "import glob\n",
        "import random\n",
        "import cv2\n",
        "\n",
        "from sklearn.svm import SVC\n",
        "from sklearn.model_selection import train_test_split\n",
        "from scipy.sparse import coo_matrix\n",
        "from sklearn.utils import shuffle\n",
        "\n",
        "import cv2\n",
        "# Features \n",
        "from sklearn.discriminant_analysis import LinearDiscriminantAnalysis as LDA\n",
        "from sklearn.decomposition import PCA\n",
        "from skimage import feature\n",
        "# Metrics \n",
        "from sklearn.metrics import classification_report\n",
        "from sklearn.metrics import accuracy_score #c alculate accuracy\n",
        "from sklearn.metrics import confusion_matrix, classification_report\n",
        "from sklearn.metrics import plot_confusion_matrix\n",
        "# Classifier\n",
        "from sklearn.naive_bayes import GaussianNB\n",
        "from sklearn.neighbors import KNeighborsClassifier\n",
        "from sklearn.model_selection import GridSearchCV\n",
        "from sklearn import svm\n",
        "#Save model\n",
        "import joblib  "
      ],
      "metadata": {
        "id": "KtqKOxPySqXV"
      },
      "execution_count": null,
      "outputs": []
    },
    {
      "cell_type": "markdown",
      "source": [
        "# Carga de datos 1"
      ],
      "metadata": {
        "id": "JgoVNCeeP6QY"
      }
    },
    {
      "cell_type": "code",
      "source": [
        "path = \"/content/drive/MyDrive/Universidad - Ingeniería Electrónica/10 Semestre/Trabajo de Grado II/datasets/datasetVGG/2-East Asian/train\"\n",
        "\n",
        "list_people = os.listdir(path)\n",
        "\n",
        "type_file = \"*.jpg\"\n",
        "\n",
        "cont = 0\n",
        "cont2 = 0\n",
        "\n",
        "for k in list_people:\n",
        "    \n",
        "    path_image = path + \"/\" + k\n",
        "    list_jpg = glob.glob(path_image + os.sep + type_file)\n",
        "    \n",
        "    cont += len(list_jpg)\n",
        "    \n",
        "print(\"El número de muestras: \",cont)\n",
        "\n",
        "train_data = np.zeros((cont,168*192*2))\n",
        "train_data = train_data.astype('float32')\n",
        "\n",
        "y_train = np.zeros(cont)\n",
        "y_train = y_train.astype('int8')\n",
        "\n",
        "\n",
        "for i in list_people:\n",
        "    \n",
        "    #print(i)\n",
        "    \n",
        "    path_image = path + \"/\" + i\n",
        "    \n",
        "    list_jpg = glob.glob(path_image + os.sep + type_file)\n",
        "    \n",
        "    for j in list_jpg:\n",
        "        \n",
        "        image = cv2.imread(j, cv2.IMREAD_COLOR)\n",
        "        image = cv2.cvtColor(image, cv2.COLOR_BGR2HSV)\n",
        "        image = cv2.resize(image, (168,192))\n",
        "        H,S,V = cv2.split(image)\n",
        "        image_merge = np.zeros((192,168,2))\n",
        "        image_merge[:,:,0] = S\n",
        "        image_merge[:,:,1] = V\n",
        "        image_merge = image_merge.ravel()\n",
        "        train_data[cont2] += image_merge \n",
        "\n",
        "        y_train[cont2] = i[-2] + i[-1]\n",
        "\n",
        "        #print(y_train[cont2])\n",
        "        cont2 += 1\n",
        "\n",
        "#print(y_train)"
      ],
      "metadata": {
        "colab": {
          "base_uri": "https://localhost:8080/"
        },
        "id": "yDZlteEXLltf",
        "outputId": "fb81ce68-0b6a-45c6-e662-a32762026139"
      },
      "execution_count": null,
      "outputs": [
        {
          "output_type": "stream",
          "name": "stdout",
          "text": [
            "El número de muestras:  2669\n"
          ]
        }
      ]
    },
    {
      "cell_type": "code",
      "source": [
        "path = \"/content/drive/MyDrive/Universidad - Ingeniería Electrónica/10 Semestre/Trabajo de Grado II/datasets/datasetVGG/2-East Asian/test\"\n",
        "\n",
        "list_people = os.listdir(path)\n",
        "\n",
        "subcadena = \"yaleB\" #la subcadena que queremos localizar\n",
        "type_file = \"*.jpg\"\n",
        "\n",
        "cont = 0\n",
        "cont2 = 0\n",
        "\n",
        "for k in list_people:\n",
        "    \n",
        "    path_image = path + \"/\" + k\n",
        "    list_jpg = glob.glob(path_image + os.sep + type_file)\n",
        "    \n",
        "    cont += len(list_jpg)\n",
        "    \n",
        "print(\"El número de muestras: \",cont)\n",
        "\n",
        "test_data = np.zeros((cont,168*192*2))\n",
        "test_data = test_data.astype('float32')\n",
        "\n",
        "y_test = np.zeros(cont)\n",
        "y_test = y_test.astype('int8')\n",
        "\n",
        "\n",
        "for i in list_people:\n",
        "    \n",
        "    #print(i)\n",
        "    \n",
        "    path_image = path + \"/\" + i\n",
        "    \n",
        "    list_jpg = glob.glob(path_image + os.sep + type_file)\n",
        "    \n",
        "    for j in list_jpg:\n",
        "        \n",
        "        image = cv2.imread(j, cv2.IMREAD_COLOR)\n",
        "        image = cv2.cvtColor(image, cv2.COLOR_BGR2HSV)\n",
        "        image = cv2.resize(image, (168,192))\n",
        "        H,S,V = cv2.split(image)\n",
        "        image_merge = np.zeros((192,168,2))\n",
        "        image_merge[:,:,0] = S\n",
        "        image_merge[:,:,1] = V\n",
        "        image_merge = image_merge.ravel()\n",
        "\n",
        "        test_data[cont2] += image_merge \n",
        "\n",
        "        y_test[cont2] = i[-2] + i[-1]\n",
        "        #print(y_train[cont2])\n",
        "        cont2 += 1\n",
        "\n",
        "#print(y_train)"
      ],
      "metadata": {
        "colab": {
          "base_uri": "https://localhost:8080/"
        },
        "id": "_MGvkXCVL6iX",
        "outputId": "8248d848-dbf9-454b-a2bf-51ef0f7129e1"
      },
      "execution_count": null,
      "outputs": [
        {
          "output_type": "stream",
          "name": "stdout",
          "text": [
            "El número de muestras:  1000\n"
          ]
        }
      ]
    },
    {
      "cell_type": "markdown",
      "source": [
        "#Test"
      ],
      "metadata": {
        "id": "2XNZTqCnidvs"
      }
    },
    {
      "cell_type": "code",
      "source": [
        "#image = cv2.imread(\"/content/drive/MyDrive/Colab Notebooks/Base-De-Datos/datasetVGG/1-African American/train/african_001/0001_02.jpg\", cv2.IMREAD_COLOR)"
      ],
      "metadata": {
        "id": "Mv9GVbWPifbE"
      },
      "execution_count": null,
      "outputs": []
    },
    {
      "cell_type": "code",
      "source": [
        "#image = cv2.resize(image, (168,192))\n",
        "#H,S,V = cv2.split(image)\n",
        "#S.shape"
      ],
      "metadata": {
        "id": "q9iJxTAMiy-k"
      },
      "execution_count": null,
      "outputs": []
    },
    {
      "cell_type": "code",
      "source": [
        "#image_merge = np.zeros((192,168,2))\n",
        "\n",
        "#image_merge[:,:,0] = S\n",
        "#image_merge[:,:,1] = V"
      ],
      "metadata": {
        "id": "HqsVIipYi2_z"
      },
      "execution_count": null,
      "outputs": []
    },
    {
      "cell_type": "code",
      "source": [
        "#print(V)"
      ],
      "metadata": {
        "id": "3IgrlPdjjaoM"
      },
      "execution_count": null,
      "outputs": []
    },
    {
      "cell_type": "code",
      "source": [
        "#print(image_merge[:,:,1])"
      ],
      "metadata": {
        "id": "ObQxNBR0i6Nb"
      },
      "execution_count": null,
      "outputs": []
    },
    {
      "cell_type": "code",
      "source": [
        "#train_data, y_train = extract_data(path_train,\"*.jpg\",True)"
      ],
      "metadata": {
        "id": "vbIAXFCFS7vt"
      },
      "execution_count": null,
      "outputs": []
    },
    {
      "cell_type": "code",
      "source": [
        "#test_data, y_test = extract_data(path_test,\"*.jpg\",True)"
      ],
      "metadata": {
        "id": "o7E-V2SFS-s8"
      },
      "execution_count": null,
      "outputs": []
    },
    {
      "cell_type": "code",
      "source": [
        "#import sys\n",
        "#np.set_printoptions(threshold=sys.maxsize)\n",
        "#y_train"
      ],
      "metadata": {
        "id": "p-E3AlP2-LG_"
      },
      "execution_count": null,
      "outputs": []
    },
    {
      "cell_type": "markdown",
      "source": [
        "# Separar datos en train y test"
      ],
      "metadata": {
        "id": "mt6kox-L1u02"
      }
    },
    {
      "cell_type": "code",
      "source": [
        "#nsamples, nx, ny, chanels = train_data.shape\n",
        "\n",
        "#train_data = train_data.reshape((nsamples,nx*ny*chanels))\n",
        "\n",
        "X_sparse = coo_matrix(train_data)\n",
        "\n",
        "train_data, X_sparse, y_train = shuffle(train_data, X_sparse,y_train, random_state=0)\n",
        "\n",
        "#train_data = train_data.reshape((nsamples,nx,ny,chanels))"
      ],
      "metadata": {
        "id": "WF7FfiK61u02"
      },
      "execution_count": null,
      "outputs": []
    },
    {
      "cell_type": "code",
      "source": [
        "#nsamples, nx, ny, chanels = test_data.shape\n",
        "\n",
        "#test_data = test_data.reshape((nsamples,nx*ny*chanels))\n",
        "\n",
        "X_sparse = coo_matrix(test_data)\n",
        "\n",
        "test_data, X_sparse, y_test = shuffle(test_data, X_sparse,y_test, random_state=0)\n",
        "\n",
        "#test_data = test_data.reshape((nsamples,nx,ny,chanels))"
      ],
      "metadata": {
        "id": "LFo-aaAQ1u02"
      },
      "execution_count": null,
      "outputs": []
    },
    {
      "cell_type": "code",
      "source": [
        "train_data = train_data.astype(\"uint8\")\n",
        "#nsamples1, nx1, ny1, chanels = train_data.shape\n",
        "#train_data = train_data.reshape((nsamples1,nx1*ny1*chanels))\n",
        "train_data = train_data/255\n",
        "\n",
        "test_data = test_data.astype(\"uint8\")\n",
        "#nsamples, nx, ny, chanels = test_data.shape\n",
        "#test_data = test_data.reshape((nsamples,nx*ny*chanels))\n",
        "test_data = test_data/255"
      ],
      "metadata": {
        "id": "P8S1_RRX1u03"
      },
      "execution_count": null,
      "outputs": []
    },
    {
      "cell_type": "markdown",
      "metadata": {
        "id": "q7i0d5zQhLwP"
      },
      "source": [
        "# PCA "
      ]
    },
    {
      "cell_type": "markdown",
      "metadata": {
        "id": "nzjHOdXVR6as"
      },
      "source": [
        "## Extracción de caracteristicas "
      ]
    },
    {
      "cell_type": "code",
      "execution_count": null,
      "metadata": {
        "colab": {
          "base_uri": "https://localhost:8080/"
        },
        "id": "a0lEiq-3IaFU",
        "outputId": "3666a56c-20a8-407c-a6b1-5b7aef6eb009"
      },
      "outputs": [
        {
          "output_type": "stream",
          "name": "stdout",
          "text": [
            "Extrayendo 150 eigenfaces de 2669 caras\n",
            "Projecting the input data on the eigenfaces orthonormal basis\n"
          ]
        }
      ],
      "source": [
        "n_components = 150\n",
        "\n",
        "print(\"Extrayendo %d eigenfaces de %d caras\"\n",
        "      % (n_components, train_data.shape[0]))\n",
        "\n",
        "pca = PCA(n_components=n_components, svd_solver='randomized',\n",
        "          whiten=True).fit(train_data)\n",
        "\n",
        "\n",
        "#eigenfaces = pca.components_.reshape((n_components,192, 162))\n",
        "\n",
        "print(\"Projecting the input data on the eigenfaces orthonormal basis\")\n",
        "\n",
        "train_data_pca = pca.transform(train_data)\n",
        "test_data_pca = pca.transform(test_data)"
      ]
    },
    {
      "cell_type": "markdown",
      "metadata": {
        "id": "N6hXCmTxSBO0"
      },
      "source": [
        "texto en negrita## SVM\n"
      ]
    },
    {
      "cell_type": "markdown",
      "metadata": {
        "id": "5qo3IFfuEiQx"
      },
      "source": [
        "## SVM"
      ]
    },
    {
      "cell_type": "code",
      "execution_count": null,
      "metadata": {
        "colab": {
          "base_uri": "https://localhost:8080/"
        },
        "id": "1iMn3VWYEneB",
        "outputId": "74b14131-7f1e-4228-ce5a-54425293a94d"
      },
      "outputs": [
        {
          "output_type": "stream",
          "name": "stdout",
          "text": [
            "Best estimator found by grid search:\n",
            "SVC(C=1000.0, class_weight='balanced', gamma=0.005)\n"
          ]
        }
      ],
      "source": [
        "from sklearn.model_selection import GridSearchCV\n",
        "\n",
        "\n",
        "param_grid = {'C': [1e3, 5e3, 1e4, 5e4, 1e5],\n",
        "              'gamma': [0.0001, 0.0005, 0.001, 0.005, 0.01, 0.1], }\n",
        "\n",
        "clf_pca_svm = GridSearchCV(\n",
        "    SVC(kernel='rbf', class_weight='balanced'), param_grid\n",
        ")\n",
        "clf_pca_svm = clf_pca_svm.fit(train_data_pca,y_train )\n",
        "\n",
        "print(\"Best estimator found by grid search:\")\n",
        "print(clf_pca_svm.best_estimator_)"
      ]
    },
    {
      "cell_type": "code",
      "execution_count": null,
      "metadata": {
        "colab": {
          "base_uri": "https://localhost:8080/"
        },
        "id": "42mgax0rFfxY",
        "outputId": "643a8ce7-4d1c-4df9-e407-ec739af56e3b"
      },
      "outputs": [
        {
          "output_type": "stream",
          "name": "stdout",
          "text": [
            "              precision    recall  f1-score   support\n",
            "\n",
            "           1     0.8431    0.8600    0.8515        50\n",
            "           2     0.7547    0.8000    0.7767        50\n",
            "           3     0.6154    0.6400    0.6275        50\n",
            "           4     0.5273    0.5800    0.5524        50\n",
            "           5     0.5667    0.6800    0.6182        50\n",
            "           6     0.4921    0.6200    0.5487        50\n",
            "           7     0.9792    0.9400    0.9592        50\n",
            "           8     0.7347    0.7200    0.7273        50\n",
            "           9     0.7317    0.6000    0.6593        50\n",
            "          10     0.9783    0.9000    0.9375        50\n",
            "          11     0.5745    0.5400    0.5567        50\n",
            "          12     0.5600    0.5600    0.5600        50\n",
            "          13     0.8148    0.8800    0.8462        50\n",
            "          14     0.6111    0.4400    0.5116        50\n",
            "          15     0.5769    0.6000    0.5882        50\n",
            "          16     0.5610    0.4600    0.5055        50\n",
            "          17     0.7547    0.8000    0.7767        50\n",
            "          18     0.6250    0.6000    0.6122        50\n",
            "          19     0.6226    0.6600    0.6408        50\n",
            "          20     0.7708    0.7400    0.7551        50\n",
            "\n",
            "    accuracy                         0.6810      1000\n",
            "   macro avg     0.6847    0.6810    0.6806      1000\n",
            "weighted avg     0.6847    0.6810    0.6806      1000\n",
            "\n",
            "[[43  0  0  0  0  2  0  0  0  1  0  0  2  1  0  0  0  0  1  0]\n",
            " [ 0 40  0  4  0  3  0  0  0  0  0  1  1  0  1  0  0  0  0  0]\n",
            " [ 0  0 32  0  1  1  0  0  0  0  0  0  0  1  2  2  7  1  2  1]\n",
            " [ 0  1  1 29  3  3  0  0  2  0  2  6  1  0  1  0  0  0  1  0]\n",
            " [ 0  2  0  2 34  1  0  0  1  0  2  1  0  0  3  1  0  1  0  2]\n",
            " [ 0  0  0  1  4 31  0  2  2  0  6  2  0  1  1  0  0  0  0  0]\n",
            " [ 0  0  0  0  1  1 47  1  0  0  0  0  0  0  0  0  0  0  0  0]\n",
            " [ 1  0  0  0  1  1  0 36  0  0  1  1  3  1  2  0  0  0  2  1]\n",
            " [ 1  1  1  2  2  2  0  2 30  0  0  1  0  1  1  4  0  0  2  0]\n",
            " [ 3  0  0  0  0  0  0  0  0 45  0  0  0  0  0  1  0  1  0  0]\n",
            " [ 0  3  0  2  3  4  0  0  0  0 27  2  1  2  0  1  0  1  2  2]\n",
            " [ 0  1  1 10  0  6  0  0  0  0  3 28  0  0  0  0  0  1  0  0]\n",
            " [ 1  0  2  0  0  0  0  2  0  0  0  0 44  1  0  0  0  0  0  0]\n",
            " [ 0  2  2  1  2  1  0  2  1  0  4  3  2 22  2  2  2  1  1  0]\n",
            " [ 0  0  0  2  3  3  1  2  0  0  0  0  0  1 30  0  0  7  0  1]\n",
            " [ 0  1  5  1  1  0  0  1  4  0  0  2  0  2  2 23  1  1  4  2]\n",
            " [ 2  0  2  0  0  0  0  0  0  0  0  1  0  0  0  1 40  1  3  0]\n",
            " [ 0  1  4  1  2  0  0  0  0  0  1  0  0  1  4  3  1 30  1  1]\n",
            " [ 0  0  2  0  1  4  0  1  1  0  1  2  0  1  1  0  1  1 33  1]\n",
            " [ 0  1  0  0  2  0  0  0  0  0  0  0  0  1  2  3  1  2  1 37]]\n"
          ]
        }
      ],
      "source": [
        "y_pred = clf_pca_svm.predict(test_data_pca)\n",
        "report = classification_report(y_test, y_pred,digits=4,output_dict=True)\n",
        "print(classification_report(y_test, y_pred,digits=4))\n",
        "print(confusion_matrix(y_test, y_pred))"
      ]
    },
    {
      "cell_type": "code",
      "source": [
        "import pandas\n",
        "df = pandas.DataFrame(report).transpose()\n",
        "df.to_excel(\"svmPCA.xlsx\")  "
      ],
      "metadata": {
        "id": "RqM72cAcjmq6"
      },
      "execution_count": null,
      "outputs": []
    },
    {
      "cell_type": "code",
      "source": [
        "def specificity(y_true,y_pred):\n",
        "        cm=confusion_matrix(y_true, y_pred)\n",
        "        FP = cm.sum(axis=0) - np.diag(cm)  \n",
        "        FN = cm.sum(axis=1) - np.diag(cm)\n",
        "        TP = np.diag(cm)\n",
        "        TN = cm.sum() - (FP + FN + TP)\n",
        "        Specificity = TN/(TN+FP)    \n",
        "        return np.mean(Specificity)\n",
        "        \n",
        "print(specificity(y_test, y_pred))"
      ],
      "metadata": {
        "colab": {
          "base_uri": "https://localhost:8080/"
        },
        "id": "WYQc6v9jkAaL",
        "outputId": "0807395d-b8b6-4306-f428-83f5cc115c20"
      },
      "execution_count": null,
      "outputs": [
        {
          "output_type": "stream",
          "name": "stdout",
          "text": [
            "0.9832105263157895\n"
          ]
        }
      ]
    },
    {
      "cell_type": "markdown",
      "metadata": {
        "id": "zgaL3Cm1SPOV"
      },
      "source": [
        "## knn"
      ]
    },
    {
      "cell_type": "code",
      "execution_count": null,
      "metadata": {
        "id": "QekXhpPBZ9WT"
      },
      "outputs": [],
      "source": [
        "clf_PCA_Knn_3 = KNeighborsClassifier(n_neighbors=3)"
      ]
    },
    {
      "cell_type": "code",
      "execution_count": null,
      "metadata": {
        "id": "AGxTlHskaDK7"
      },
      "outputs": [],
      "source": [
        "clf_lbp_Kn_3 = clf_PCA_Knn_3.fit(train_data_pca,y_train)"
      ]
    },
    {
      "cell_type": "code",
      "execution_count": null,
      "metadata": {
        "colab": {
          "base_uri": "https://localhost:8080/"
        },
        "id": "sfnktivHEHXq",
        "outputId": "ad90562c-ca1b-427d-d102-e053716ee925"
      },
      "outputs": [
        {
          "output_type": "stream",
          "name": "stdout",
          "text": [
            "              precision    recall  f1-score   support\n",
            "\n",
            "           1     0.8095    0.3400    0.4789        50\n",
            "           2     0.2807    0.6400    0.3902        50\n",
            "           3     0.2785    0.4400    0.3411        50\n",
            "           4     0.2353    0.3200    0.2712        50\n",
            "           5     0.1961    0.2000    0.1980        50\n",
            "           6     0.2453    0.2600    0.2524        50\n",
            "           7     0.6176    0.4200    0.5000        50\n",
            "           8     0.3662    0.5200    0.4298        50\n",
            "           9     0.1518    0.5800    0.2407        50\n",
            "          10     0.6875    0.6600    0.6735        50\n",
            "          11     0.1765    0.0600    0.0896        50\n",
            "          12     0.4815    0.2600    0.3377        50\n",
            "          13     0.8824    0.3000    0.4478        50\n",
            "          14     0.4000    0.0400    0.0727        50\n",
            "          15     0.5000    0.2200    0.3056        50\n",
            "          16     0.7500    0.1200    0.2069        50\n",
            "          17     0.7647    0.2600    0.3881        50\n",
            "          18     0.6000    0.0600    0.1091        50\n",
            "          19     0.6667    0.1600    0.2581        50\n",
            "          20     0.1643    0.4600    0.2421        50\n",
            "\n",
            "    accuracy                         0.3160      1000\n",
            "   macro avg     0.4627    0.3160    0.3117      1000\n",
            "weighted avg     0.4627    0.3160    0.3117      1000\n",
            "\n",
            "[[17  0  0  0  4  3  1  3 17  2  0  0  1  0  0  0  0  0  0  2]\n",
            " [ 0 32  1  3  1  3  1  0  3  0  0  1  0  0  0  0  0  0  0  5]\n",
            " [ 0  0 22  2  1  0  0  2  7  1  1  1  0  0  2  0  3  0  0  8]\n",
            " [ 0  9  2 16  0  3  3  0  3  0  0  0  0  0  0  0  0  0  1 13]\n",
            " [ 0  5  1  2 10  4  2  2  6  0  0  0  0  0  1  0  0  0  0 17]\n",
            " [ 0  5  3  7  1 13  0  2  7  0  1  0  0  0  1  0  0  0  0 10]\n",
            " [ 0  8  0  2  1  4 21  2  1  1  2  1  0  0  0  0  0  1  0  6]\n",
            " [ 1  3  2  0  0  4  0 26  9  0  0  1  0  1  0  0  0  0  0  3]\n",
            " [ 0  4  1  3  3  2  0  1 29  1  1  1  0  0  0  0  0  0  0  4]\n",
            " [ 1  1  0  1  0  0  1  1 10 33  0  0  0  0  0  0  0  0  0  2]\n",
            " [ 0 10  2  2  4  1  0  5  8  0  3  1  0  0  1  1  0  0  0 12]\n",
            " [ 0  6  1 12  2  1  0  3  5  0  2 13  0  0  0  1  0  0  1  3]\n",
            " [ 0  3  0  2  3  3  1  9  6  3  0  2 15  0  0  0  0  0  1  2]\n",
            " [ 0  7  2  5  2  2  2  9 11  2  0  2  0  2  0  0  0  0  0  4]\n",
            " [ 0  4  2  3  5  3  0  3  9  1  4  1  1  0 11  0  0  0  0  3]\n",
            " [ 0  2  8  2  4  2  2  0 13  1  0  0  0  1  1  6  0  0  0  8]\n",
            " [ 1  3 16  0  0  0  0  2  8  1  1  0  0  0  0  0 13  0  1  4]\n",
            " [ 0  9  6  2  1  0  0  0 17  1  2  3  0  0  2  0  0  3  0  4]\n",
            " [ 1  2  6  1  2  3  0  1 16  1  0  0  0  0  0  0  1  1  8  7]\n",
            " [ 0  1  4  3  7  2  0  0  6  0  0  0  0  1  3  0  0  0  0 23]]\n"
          ]
        }
      ],
      "source": [
        "y_pred = clf_PCA_Knn_3.predict(test_data_pca)\n",
        "report = classification_report(y_test, y_pred,digits=4,output_dict=True)\n",
        "df = pandas.DataFrame(report).transpose()                   \n",
        "df.to_excel(\"knnPCA.xlsx\")\n",
        "print(classification_report(y_test, y_pred,digits=4))\n",
        "print(confusion_matrix(y_test, y_pred))"
      ]
    },
    {
      "cell_type": "code",
      "source": [
        "from sklearn.metrics import matthews_corrcoef\n",
        "print(matthews_corrcoef(y_test, y_pred))"
      ],
      "metadata": {
        "colab": {
          "base_uri": "https://localhost:8080/"
        },
        "id": "0BFzVZ4Cnd9d",
        "outputId": "3246ad3c-7da0-408b-d82a-4936b20df792"
      },
      "execution_count": null,
      "outputs": [
        {
          "output_type": "stream",
          "name": "stdout",
          "text": [
            "0.2871358920151689\n"
          ]
        }
      ]
    },
    {
      "cell_type": "code",
      "source": [
        "print(specificity(y_test, y_pred))    "
      ],
      "metadata": {
        "colab": {
          "base_uri": "https://localhost:8080/"
        },
        "id": "uCURh8O1neOh",
        "outputId": "fd64272f-46c6-490a-cb8c-f8232a24f019"
      },
      "execution_count": null,
      "outputs": [
        {
          "output_type": "stream",
          "name": "stdout",
          "text": [
            "0.9640000000000002\n"
          ]
        }
      ]
    },
    {
      "cell_type": "markdown",
      "metadata": {
        "id": "1eOxICXHSs4e"
      },
      "source": [
        "## Gauss"
      ]
    },
    {
      "cell_type": "code",
      "execution_count": null,
      "metadata": {
        "id": "kEjCohrCKU5M"
      },
      "outputs": [],
      "source": [
        "clf_PCA_Gauss = GaussianNB()"
      ]
    },
    {
      "cell_type": "code",
      "execution_count": null,
      "metadata": {
        "id": "zGSEngljKVVU"
      },
      "outputs": [],
      "source": [
        "clf_lbp_Gauss = clf_PCA_Gauss.fit(train_data_pca,y_train)"
      ]
    },
    {
      "cell_type": "code",
      "execution_count": null,
      "metadata": {
        "colab": {
          "base_uri": "https://localhost:8080/"
        },
        "id": "NRiyYjiqKYSs",
        "outputId": "d29ff8c8-de82-4d27-a115-aaa5395863b2"
      },
      "outputs": [
        {
          "output_type": "stream",
          "name": "stdout",
          "text": [
            "              precision    recall  f1-score   support\n",
            "\n",
            "           1     0.7619    0.6400    0.6957        50\n",
            "           2     0.6667    0.6000    0.6316        50\n",
            "           3     0.5161    0.3200    0.3951        50\n",
            "           4     0.2458    0.5800    0.3452        50\n",
            "           5     0.7143    0.5000    0.5882        50\n",
            "           6     0.4333    0.5200    0.4727        50\n",
            "           7     0.8958    0.8600    0.8776        50\n",
            "           8     0.5000    0.5800    0.5370        50\n",
            "           9     0.5500    0.4400    0.4889        50\n",
            "          10     0.9778    0.8800    0.9263        50\n",
            "          11     0.3774    0.4000    0.3883        50\n",
            "          12     0.4286    0.4200    0.4242        50\n",
            "          13     0.7333    0.6600    0.6947        50\n",
            "          14     0.3929    0.2200    0.2821        50\n",
            "          15     0.6170    0.5800    0.5979        50\n",
            "          16     0.3846    0.4000    0.3922        50\n",
            "          17     0.6607    0.7400    0.6981        50\n",
            "          18     0.5652    0.5200    0.5417        50\n",
            "          19     0.4912    0.5600    0.5234        50\n",
            "          20     0.7333    0.6600    0.6947        50\n",
            "\n",
            "    accuracy                         0.5540      1000\n",
            "   macro avg     0.5823    0.5540    0.5598      1000\n",
            "weighted avg     0.5823    0.5540    0.5598      1000\n",
            "\n",
            "[[32  0  0  4  0  2  0  3  2  0  1  1  2  1  0  1  0  0  1  0]\n",
            " [ 0 30  0 11  1  0  0  0  1  0  1  3  0  0  1  1  0  1  0  0]\n",
            " [ 0  2 16  4  0  1  0  0  1  0  0  2  0  2  2  2  8  4  5  1]\n",
            " [ 0  3  1 29  1  2  0  0  1  0  2  6  0  1  3  0  0  0  1  0]\n",
            " [ 0  0  0  6 25  4  0  3  1  0  1  0  0  2  1  3  0  1  1  2]\n",
            " [ 0  0  0  7  0 26  1  0  3  0  3  2  0  3  1  1  0  3  0  0]\n",
            " [ 0  0  0  1  0  1 43  1  0  0  1  0  0  0  1  0  0  0  1  1]\n",
            " [ 1  0  1  1  1  2  0 29  0  0  2  1  7  2  1  1  0  0  1  0]\n",
            " [ 0  0  0  8  0  6  0  1 22  0  0  1  1  1  0  7  0  1  1  1]\n",
            " [ 3  0  1  0  0  0  0  0  1 44  0  0  0  0  0  1  0  0  0  0]\n",
            " [ 2  2  0  8  2  7  1  2  0  0 20  1  1  1  0  0  0  3  0  0]\n",
            " [ 0  5  0  9  0  3  0  1  1  0  3 21  0  0  0  0  3  1  2  1]\n",
            " [ 0  0  1  2  0  2  1  6  0  0  2  0 33  1  1  0  0  0  1  0]\n",
            " [ 1  1  3  7  1  1  0  6  1  1  5  6  0 11  0  2  2  1  1  0]\n",
            " [ 0  0  1  1  3  0  2  3  1  0  3  0  0  1 29  2  0  3  1  0]\n",
            " [ 0  0  3  6  1  0  0  0  3  0  3  3  0  1  1 20  2  2  3  2]\n",
            " [ 1  1  2  2  0  0  0  0  0  0  0  1  0  0  0  2 37  0  4  0]\n",
            " [ 0  1  2  4  0  0  0  1  1  0  3  0  0  0  3  2  1 26  4  2]\n",
            " [ 1  0  0  4  0  2  0  2  1  0  2  1  1  1  1  2  2  0 28  2]\n",
            " [ 1  0  0  4  0  1  0  0  0  0  1  0  0  0  2  5  1  0  2 33]]\n"
          ]
        }
      ],
      "source": [
        "y_pred = clf_lbp_Gauss.predict(test_data_pca)\n",
        "\n",
        "report = classification_report(y_test, y_pred,digits=4,output_dict=True)\n",
        "df = pandas.DataFrame(report).transpose()\n",
        "df.to_excel(\"gaussPCA.xlsx\")\n",
        "print(classification_report(y_test, y_pred,digits=4))\n",
        "print(confusion_matrix(y_test, y_pred))"
      ]
    },
    {
      "cell_type": "code",
      "source": [
        "print(matthews_corrcoef(y_test, y_pred))"
      ],
      "metadata": {
        "colab": {
          "base_uri": "https://localhost:8080/"
        },
        "id": "i-vQ_buPokHM",
        "outputId": "fdd7d22e-39ac-403e-cbeb-149a6c162ca0"
      },
      "execution_count": null,
      "outputs": [
        {
          "output_type": "stream",
          "name": "stdout",
          "text": [
            "0.5322801265756952\n"
          ]
        }
      ]
    },
    {
      "cell_type": "code",
      "source": [
        "print(specificity(y_test, y_pred)) "
      ],
      "metadata": {
        "colab": {
          "base_uri": "https://localhost:8080/"
        },
        "id": "a4eBiGtdosB4",
        "outputId": "a6d596e4-9b51-4de7-e776-b7d1facaff74"
      },
      "execution_count": null,
      "outputs": [
        {
          "output_type": "stream",
          "name": "stdout",
          "text": [
            "0.9765263157894738\n"
          ]
        }
      ]
    },
    {
      "cell_type": "markdown",
      "metadata": {
        "id": "M4mhpqpKhQZg"
      },
      "source": [
        "# LDA"
      ]
    },
    {
      "cell_type": "markdown",
      "metadata": {
        "id": "zStmGeCYexo0"
      },
      "source": [
        "## Extracción de caracteristicas "
      ]
    },
    {
      "cell_type": "code",
      "execution_count": null,
      "metadata": {
        "id": "3SX9bvwye2lZ"
      },
      "outputs": [],
      "source": [
        "lda = LDA(n_components=19)\n",
        "X_train = lda.fit_transform(train_data, y_train)\n",
        "train_data_LDA = lda.transform(train_data)\n",
        "test_data_LDA = lda.transform(test_data)"
      ]
    },
    {
      "cell_type": "markdown",
      "metadata": {
        "id": "r6Z5IplFiYbL"
      },
      "source": [
        "## SVM"
      ]
    },
    {
      "cell_type": "code",
      "execution_count": null,
      "metadata": {
        "colab": {
          "base_uri": "https://localhost:8080/"
        },
        "id": "TIpDL93BiJyY",
        "outputId": "cff2b70b-6a18-4970-af61-9325720e3e53"
      },
      "outputs": [
        {
          "output_type": "stream",
          "name": "stdout",
          "text": [
            "Best estimator found by grid search:\n",
            "SVC(C=1000.0, class_weight='balanced', gamma=0.01)\n"
          ]
        }
      ],
      "source": [
        "clf_lda_svm = GridSearchCV(\n",
        "    SVC(kernel='rbf', class_weight='balanced'), param_grid\n",
        ")\n",
        "clf_lda_svm = clf_lda_svm.fit(train_data_LDA,y_train )\n",
        "\n",
        "print(\"Best estimator found by grid search:\")\n",
        "print(clf_lda_svm.best_estimator_)"
      ]
    },
    {
      "cell_type": "code",
      "execution_count": null,
      "metadata": {
        "colab": {
          "base_uri": "https://localhost:8080/"
        },
        "id": "FwdX6xQWiepv",
        "outputId": "4493ab87-2ce7-47b0-a6c4-7b9cc4f05792"
      },
      "outputs": [
        {
          "output_type": "stream",
          "name": "stdout",
          "text": [
            "              precision    recall  f1-score   support\n",
            "\n",
            "           1     1.0000    0.2400    0.3871        50\n",
            "           2     0.5763    0.6800    0.6239        50\n",
            "           3     0.2593    0.2800    0.2692        50\n",
            "           4     0.4407    0.5200    0.4771        50\n",
            "           5     0.5500    0.4400    0.4889        50\n",
            "           6     0.3506    0.5400    0.4252        50\n",
            "           7     0.9412    0.6400    0.7619        50\n",
            "           8     0.4533    0.6800    0.5440        50\n",
            "           9     0.3621    0.4200    0.3889        50\n",
            "          10     0.7857    0.8800    0.8302        50\n",
            "          11     0.3585    0.3800    0.3689        50\n",
            "          12     0.4630    0.5000    0.4808        50\n",
            "          13     0.6735    0.6600    0.6667        50\n",
            "          14     0.5333    0.3200    0.4000        50\n",
            "          15     0.5294    0.3600    0.4286        50\n",
            "          16     0.3889    0.1400    0.2059        50\n",
            "          17     0.6066    0.7400    0.6667        50\n",
            "          18     0.6562    0.4200    0.5122        50\n",
            "          19     0.3286    0.4600    0.3833        50\n",
            "          20     0.4400    0.6600    0.5280        50\n",
            "\n",
            "    accuracy                         0.4980      1000\n",
            "   macro avg     0.5349    0.4980    0.4919      1000\n",
            "weighted avg     0.5349    0.4980    0.4919      1000\n",
            "\n"
          ]
        }
      ],
      "source": [
        "y_pred_lda_svm = clf_lda_svm.predict(test_data_LDA)\n",
        "report = classification_report(y_test, y_pred_lda_svm,digits=4,output_dict=True)\n",
        "df = pandas.DataFrame(report).transpose()\n",
        "df.to_excel(\"svmLDA.xlsx\")  \n",
        "print(classification_report(y_test, y_pred_lda_svm,digits=4))"
      ]
    },
    {
      "cell_type": "code",
      "source": [
        "print(matthews_corrcoef(y_test, y_pred_lda_svm))"
      ],
      "metadata": {
        "colab": {
          "base_uri": "https://localhost:8080/"
        },
        "id": "VFtoyVb8s3Sn",
        "outputId": "829083bb-8fcb-4744-8371-0955d16176d1"
      },
      "execution_count": null,
      "outputs": [
        {
          "output_type": "stream",
          "name": "stdout",
          "text": [
            "0.4732276553597535\n"
          ]
        }
      ]
    },
    {
      "cell_type": "code",
      "source": [
        "print(specificity(y_test, y_pred_lda_svm)) "
      ],
      "metadata": {
        "colab": {
          "base_uri": "https://localhost:8080/"
        },
        "id": "oXOjD31DtVlr",
        "outputId": "7ec59534-83de-4590-b6ae-a9ac69572987"
      },
      "execution_count": null,
      "outputs": [
        {
          "output_type": "stream",
          "name": "stdout",
          "text": [
            "0.9735789473684211\n"
          ]
        }
      ]
    },
    {
      "cell_type": "markdown",
      "metadata": {
        "id": "neZeivofiZlo"
      },
      "source": [
        "## knn"
      ]
    },
    {
      "cell_type": "code",
      "execution_count": null,
      "metadata": {
        "id": "gHa4hEZLj6L_"
      },
      "outputs": [],
      "source": [
        "clf_LDA_Knn_3 = KNeighborsClassifier(n_neighbors=3)"
      ]
    },
    {
      "cell_type": "code",
      "execution_count": null,
      "metadata": {
        "id": "huRH2xOokEGP"
      },
      "outputs": [],
      "source": [
        "clf_LDA_Knn_3 = clf_PCA_Knn_3.fit(train_data_LDA,y_train)"
      ]
    },
    {
      "cell_type": "code",
      "execution_count": null,
      "metadata": {
        "colab": {
          "base_uri": "https://localhost:8080/"
        },
        "id": "8kouVFqGkHCv",
        "outputId": "ad18e049-f2a7-464b-86d2-d405634b5fec"
      },
      "outputs": [
        {
          "output_type": "stream",
          "name": "stdout",
          "text": [
            "              precision    recall  f1-score   support\n",
            "\n",
            "           1     0.8378    0.6200    0.7126        50\n",
            "           2     0.5211    0.7400    0.6116        50\n",
            "           3     0.3704    0.4000    0.3846        50\n",
            "           4     0.3933    0.7000    0.5036        50\n",
            "           5     0.4789    0.6800    0.5620        50\n",
            "           6     0.4762    0.6000    0.5310        50\n",
            "           7     0.8627    0.8800    0.8713        50\n",
            "           8     0.7442    0.6400    0.6882        50\n",
            "           9     0.3913    0.3600    0.3750        50\n",
            "          10     0.8723    0.8200    0.8454        50\n",
            "          11     0.4565    0.4200    0.4375        50\n",
            "          12     0.5400    0.5400    0.5400        50\n",
            "          13     0.7255    0.7400    0.7327        50\n",
            "          14     0.6071    0.3400    0.4359        50\n",
            "          15     0.5526    0.4200    0.4773        50\n",
            "          16     0.5185    0.2800    0.3636        50\n",
            "          17     0.6071    0.6800    0.6415        50\n",
            "          18     0.6744    0.5800    0.6237        50\n",
            "          19     0.5000    0.3600    0.4186        50\n",
            "          20     0.6604    0.7000    0.6796        50\n",
            "\n",
            "    accuracy                         0.5750      1000\n",
            "   macro avg     0.5895    0.5750    0.5718      1000\n",
            "weighted avg     0.5895    0.5750    0.5718      1000\n",
            "\n",
            "[[31  0  1  1  1  4  1  1  1  4  1  3  0  0  0  0  0  1  0  0]\n",
            " [ 0 37  1  2  0  1  0  0  1  0  3  2  1  0  1  0  0  0  1  0]\n",
            " [ 0  0 20  3  2  1  0  0  4  0  1  0  0  1  1  0 12  0  3  2]\n",
            " [ 0  6  0 35  0  1  0  0  1  0  1  5  0  0  0  0  0  0  1  0]\n",
            " [ 0  1  1  4 34  3  0  1  1  0  0  0  0  1  1  0  0  0  1  2]\n",
            " [ 0  5  0  3  2 30  0  1  2  0  3  1  1  0  1  1  0  0  0  0]\n",
            " [ 0  0  0  0  1  0 44  0  0  0  0  0  0  0  2  0  0  0  1  2]\n",
            " [ 1  2  1  0  1  2  0 32  0  1  1  2  4  1  0  0  0  0  1  1]\n",
            " [ 0  1  3 12  6  2  0  1 18  0  0  0  1  0  2  2  0  2  0  0]\n",
            " [ 2  0  0  1  0  3  0  0  0 41  2  0  0  0  0  0  0  0  1  0]\n",
            " [ 0  2  0  4  5  4  2  0  1  0 21  1  1  2  3  1  0  1  1  1]\n",
            " [ 0  2  0  9  2  2  1  1  1  1  1 27  0  2  0  0  1  0  0  0]\n",
            " [ 0  0  1  1  1  0  0  2  1  0  1  1 37  1  1  2  0  0  1  0]\n",
            " [ 0  5  2  5  1  2  1  1  1  0  4  4  4 17  0  1  1  1  0  0]\n",
            " [ 1  0  2  1  4  2  0  2  2  0  3  0  0  1 21  1  0  1  3  6]\n",
            " [ 1  5  3  4  3  1  0  0  5  0  0  0  1  1  1 14  3  4  1  3]\n",
            " [ 0  1  7  0  0  0  0  0  1  0  1  0  0  0  1  1 34  1  3  0]\n",
            " [ 0  3  4  2  2  1  0  1  2  0  1  0  0  0  0  2  2 29  0  1]\n",
            " [ 1  1  6  2  5  1  0  0  3  0  2  3  0  0  2  2  2  2 18  0]\n",
            " [ 0  0  2  0  1  3  2  0  1  0  0  1  1  1  1  0  1  1  0 35]]\n"
          ]
        }
      ],
      "source": [
        "y_pred = clf_LDA_Knn_3.predict(test_data_LDA)\n",
        "\n",
        "report = classification_report(y_test, y_pred,digits=4,output_dict=True)\n",
        "df = pandas.DataFrame(report).transpose()\n",
        "df.to_excel(\"knnLDA.xlsx\")  \n",
        "print(classification_report(y_test, y_pred,digits=4))\n",
        "print(confusion_matrix(y_test, y_pred))"
      ]
    },
    {
      "cell_type": "code",
      "source": [
        "print(matthews_corrcoef(y_test, y_pred))"
      ],
      "metadata": {
        "colab": {
          "base_uri": "https://localhost:8080/"
        },
        "id": "erK7A5qZtrXp",
        "outputId": "e0d7fd87-4a7e-4c47-c2ac-2b72768316c6"
      },
      "execution_count": null,
      "outputs": [
        {
          "output_type": "stream",
          "name": "stdout",
          "text": [
            "0.5538853619433354\n"
          ]
        }
      ]
    },
    {
      "cell_type": "code",
      "source": [
        "print(specificity(y_test, y_pred)) "
      ],
      "metadata": {
        "colab": {
          "base_uri": "https://localhost:8080/"
        },
        "id": "yAxV-RPDvBJK",
        "outputId": "2afe59e0-9368-4f27-982c-a6fa12462df6"
      },
      "execution_count": null,
      "outputs": [
        {
          "output_type": "stream",
          "name": "stdout",
          "text": [
            "0.9776315789473685\n"
          ]
        }
      ]
    },
    {
      "cell_type": "markdown",
      "metadata": {
        "id": "zW9tSFYmib3X"
      },
      "source": [
        "## Gauss"
      ]
    },
    {
      "cell_type": "code",
      "execution_count": null,
      "metadata": {
        "id": "hbApsO2ila8P"
      },
      "outputs": [],
      "source": [
        "clf_LDA_Gauss = GaussianNB()"
      ]
    },
    {
      "cell_type": "code",
      "execution_count": null,
      "metadata": {
        "id": "T5BXcCJ-lasn"
      },
      "outputs": [],
      "source": [
        "clf_LDA_Gauss = clf_LDA_Gauss.fit(train_data_LDA,y_train)"
      ]
    },
    {
      "cell_type": "code",
      "execution_count": null,
      "metadata": {
        "colab": {
          "base_uri": "https://localhost:8080/"
        },
        "id": "xfLG8morj6if",
        "outputId": "25010801-819f-4263-9046-6598d25258b2"
      },
      "outputs": [
        {
          "output_type": "stream",
          "name": "stdout",
          "text": [
            "              precision    recall  f1-score   support\n",
            "\n",
            "           1     1.0000    0.0600    0.1132        50\n",
            "           2     0.7955    0.7000    0.7447        50\n",
            "           3     0.5000    0.3000    0.3750        50\n",
            "           4     0.5333    0.6400    0.5818        50\n",
            "           5     0.8846    0.4600    0.6053        50\n",
            "           6     0.3696    0.6800    0.4789        50\n",
            "           7     1.0000    0.4000    0.5714        50\n",
            "           8     0.3478    0.8000    0.4848        50\n",
            "           9     0.3404    0.3200    0.3299        50\n",
            "          10     0.8571    0.7200    0.7826        50\n",
            "          11     0.3182    0.5600    0.4058        50\n",
            "          12     0.4203    0.5800    0.4874        50\n",
            "          13     0.8919    0.6600    0.7586        50\n",
            "          14     0.7857    0.2200    0.3437        50\n",
            "          15     0.6818    0.3000    0.4167        50\n",
            "          16     0.5556    0.1000    0.1695        50\n",
            "          17     0.6154    0.6400    0.6275        50\n",
            "          18     0.7368    0.2800    0.4058        50\n",
            "          19     0.3125    0.7000    0.4321        50\n",
            "          20     0.3939    0.7800    0.5235        50\n",
            "\n",
            "    accuracy                         0.4950      1000\n",
            "   macro avg     0.6170    0.4950    0.4819      1000\n",
            "weighted avg     0.6170    0.4950    0.4819      1000\n",
            "\n",
            "[[ 3  0  1  0  0  4  0 17  5  5  4  4  0  0  0  0  0  1  5  1]\n",
            " [ 0 35  0  3  1  1  0  0  1  0  4  1  0  0  0  0  0  0  3  1]\n",
            " [ 0  0 15  3  0  1  0  2  3  0  1  2  0  0  1  0  9  0  8  5]\n",
            " [ 0  0  0 32  0  6  0  2  0  0  1  8  0  0  0  0  0  0  0  1]\n",
            " [ 0  1  0  0 23 10  0  3  1  0  5  0  0  0  1  0  0  0  0  6]\n",
            " [ 0  1  0  1  0 34  0  3  4  0  5  1  0  0  0  0  0  0  0  1]\n",
            " [ 0  1  0  1  0  4 20  7  2  0  5  2  0  0  2  0  0  0  2  4]\n",
            " [ 0  0  0  0  0  0  0 40  0  0  3  0  1  0  0  0  0  0  4  2]\n",
            " [ 0  1  1  6  1  3  0  4 16  0  1  3  0  1  1  1  0  1  8  2]\n",
            " [ 0  0  0  0  0  1  0  3  2 36  1  1  0  0  0  0  0  0  6  0]\n",
            " [ 0  0  0  1  0  7  0  1  1  0 28  2  0  0  1  0  0  1  3  5]\n",
            " [ 0  2  0  3  0  5  0  4  0  1  2 29  0  1  0  0  0  0  2  1]\n",
            " [ 0  0  1  0  0  0  0  9  0  0  2  2 33  1  0  0  0  0  2  0]\n",
            " [ 0  1  1  5  0  6  0  7  1  0  6  4  2 11  0  0  2  0  3  1]\n",
            " [ 0  0  1  0  1  2  0  3  4  0  8  0  1  0 15  0  0  0  3 12]\n",
            " [ 0  1  1  3  0  3  0  1  3  0  2  5  0  0  0  5  4  1 13  8]\n",
            " [ 0  0  6  0  0  1  0  2  0  0  1  0  0  0  0  0 32  1  6  1]\n",
            " [ 0  1  2  1  0  1  0  4  2  0  4  3  0  0  1  2  3 14  6  6]\n",
            " [ 0  0  1  1  0  0  0  0  1  0  5  2  0  0  0  1  1  0 35  3]\n",
            " [ 0  0  0  0  0  3  0  3  1  0  0  0  0  0  0  0  1  0  3 39]]\n"
          ]
        }
      ],
      "source": [
        "y_pred = clf_LDA_Gauss.predict(test_data_LDA)\n",
        "\n",
        "report = classification_report(y_test, y_pred,digits=4,output_dict=True)\n",
        "df = pandas.DataFrame(report).transpose()\n",
        "df.to_excel(\"gaussLDA.xlsx\") \n",
        "print(classification_report(y_test, y_pred,digits=4))\n",
        "print(confusion_matrix(y_test, y_pred))"
      ]
    },
    {
      "cell_type": "code",
      "source": [
        "print(matthews_corrcoef(y_test, y_pred))"
      ],
      "metadata": {
        "colab": {
          "base_uri": "https://localhost:8080/"
        },
        "id": "nlAtXXssvxwp",
        "outputId": "668437c4-8f15-4c05-9af5-50cce2475fcd"
      },
      "execution_count": null,
      "outputs": [
        {
          "output_type": "stream",
          "name": "stdout",
          "text": [
            "0.4742548230167095\n"
          ]
        }
      ]
    },
    {
      "cell_type": "code",
      "source": [
        "print(specificity(y_test, y_pred)) "
      ],
      "metadata": {
        "colab": {
          "base_uri": "https://localhost:8080/"
        },
        "id": "7JmMvKhdvyIz",
        "outputId": "93a2539e-4f7c-4568-9021-0eea612a2324"
      },
      "execution_count": null,
      "outputs": [
        {
          "output_type": "stream",
          "name": "stdout",
          "text": [
            "0.9734210526315789\n"
          ]
        }
      ]
    },
    {
      "cell_type": "markdown",
      "source": [
        "# Carga de datos 2"
      ],
      "metadata": {
        "id": "kQFvcR40QAQ8"
      }
    },
    {
      "cell_type": "code",
      "source": [
        "path = \"/content/drive/MyDrive/Universidad - Ingeniería Electrónica/10 Semestre/Trabajo de Grado II/datasets/datasetVGG/2-East Asian/train\"\n",
        "\n",
        "list_people = os.listdir(path)\n",
        "\n",
        "type_file = \"*.jpg\"\n",
        "\n",
        "cont = 0\n",
        "cont2 = 0\n",
        "\n",
        "for k in list_people:\n",
        "    \n",
        "    path_image = path + \"/\" + k\n",
        "    list_jpg = glob.glob(path_image + os.sep + type_file)\n",
        "    \n",
        "    cont += len(list_jpg)\n",
        "    \n",
        "print(\"El número de muestras: \",cont)\n",
        "\n",
        "train_data = np.zeros((cont,192,168,2))\n",
        "train_data = train_data.astype('float32')\n",
        "\n",
        "y_train = np.zeros(cont)\n",
        "y_train = y_train.astype('int8')\n",
        "\n",
        "\n",
        "for i in list_people:\n",
        "    \n",
        "    #print(i)\n",
        "    \n",
        "    path_image = path + \"/\" + i\n",
        "    \n",
        "    list_jpg = glob.glob(path_image + os.sep + type_file)\n",
        "    \n",
        "    for j in list_jpg:\n",
        "        \n",
        "        image = cv2.imread(j, cv2.IMREAD_COLOR)\n",
        "        image = cv2.cvtColor(image, cv2.COLOR_BGR2HSV)\n",
        "        image = cv2.resize(image, (168,192))\n",
        "        H,S,V = cv2.split(image)\n",
        "        image_merge = np.zeros((192,168,2))\n",
        "        image_merge[:,:,0] = S\n",
        "        image_merge[:,:,1] = V\n",
        "        train_data[cont2] += image_merge \n",
        "\n",
        "        y_train[cont2] = i[-2] + i[-1]\n",
        "\n",
        "        #print(y_train[cont2])\n",
        "        cont2 += 1\n",
        "\n",
        "#print(y_train)"
      ],
      "metadata": {
        "colab": {
          "base_uri": "https://localhost:8080/"
        },
        "id": "fgayp8lYPwTs",
        "outputId": "c64d52b5-4b51-4eba-e57a-598401554715"
      },
      "execution_count": null,
      "outputs": [
        {
          "output_type": "stream",
          "name": "stdout",
          "text": [
            "El número de muestras:  2669\n"
          ]
        }
      ]
    },
    {
      "cell_type": "code",
      "source": [
        "path = \"/content/drive/MyDrive/Universidad - Ingeniería Electrónica/10 Semestre/Trabajo de Grado II/datasets/datasetVGG/2-East Asian/test\"\n",
        "\n",
        "list_people = os.listdir(path)\n",
        "\n",
        "subcadena = \"yaleB\" #la subcadena que queremos localizar\n",
        "type_file = \"*.jpg\"\n",
        "\n",
        "cont = 0\n",
        "cont2 = 0\n",
        "\n",
        "for k in list_people:\n",
        "    \n",
        "    path_image = path + \"/\" + k\n",
        "    list_jpg = glob.glob(path_image + os.sep + type_file)\n",
        "    \n",
        "    cont += len(list_jpg)\n",
        "    \n",
        "print(\"El número de muestras: \",cont)\n",
        "\n",
        "test_data = np.zeros((cont,192,168,2))\n",
        "test_data = test_data.astype('float32')\n",
        "\n",
        "y_test = np.zeros(cont)\n",
        "y_test = y_test.astype('int8')\n",
        "\n",
        "\n",
        "for i in list_people:\n",
        "    \n",
        "    #print(i)\n",
        "    \n",
        "    path_image = path + \"/\" + i\n",
        "    \n",
        "    list_jpg = glob.glob(path_image + os.sep + type_file)\n",
        "    \n",
        "    for j in list_jpg:\n",
        "        \n",
        "        image = cv2.imread(j, cv2.IMREAD_COLOR)\n",
        "        image = cv2.cvtColor(image, cv2.COLOR_BGR2HSV)\n",
        "        image = cv2.resize(image, (168,192))\n",
        "        H,S,V = cv2.split(image)\n",
        "        image_merge = np.zeros((192,168,2))\n",
        "        image_merge[:,:,0] = S\n",
        "        image_merge[:,:,1] = V\n",
        "        \n",
        "\n",
        "        test_data[cont2] += image_merge \n",
        "\n",
        "        y_test[cont2] = i[-2] + i[-1]\n",
        "        #print(y_train[cont2])\n",
        "        cont2 += 1\n",
        "\n",
        "#print(y_train)"
      ],
      "metadata": {
        "colab": {
          "base_uri": "https://localhost:8080/"
        },
        "id": "Iz6m4JnPPxKM",
        "outputId": "da660743-f569-484f-9e1e-41ecce240568"
      },
      "execution_count": null,
      "outputs": [
        {
          "output_type": "stream",
          "name": "stdout",
          "text": [
            "El número de muestras:  1000\n"
          ]
        }
      ]
    },
    {
      "cell_type": "markdown",
      "source": [
        "# Separar datos en train y test"
      ],
      "metadata": {
        "id": "hllo2PNgglaw"
      }
    },
    {
      "cell_type": "code",
      "source": [
        "nsamples, nx, ny, chanels = train_data.shape\n",
        "\n",
        "train_data = train_data.reshape((nsamples,nx*ny*chanels))\n",
        "\n",
        "X_sparse = coo_matrix(train_data)\n",
        "\n",
        "train_data, X_sparse, y_train = shuffle(train_data, X_sparse,y_train, random_state=0)\n",
        "\n",
        "train_data = train_data.reshape((nsamples,nx,ny,chanels))"
      ],
      "metadata": {
        "id": "WEDfENoqS_Fd"
      },
      "execution_count": null,
      "outputs": []
    },
    {
      "cell_type": "code",
      "source": [
        "nsamples, nx, ny, chanels = test_data.shape\n",
        "\n",
        "test_data = test_data.reshape((nsamples,nx*ny*chanels))\n",
        "\n",
        "X_sparse = coo_matrix(test_data)\n",
        "\n",
        "test_data, X_sparse, y_test = shuffle(test_data, X_sparse,y_test, random_state=0)\n",
        "\n",
        "test_data = test_data.reshape((nsamples,nx,ny,chanels))"
      ],
      "metadata": {
        "id": "AdP1-OY6TAyV"
      },
      "execution_count": null,
      "outputs": []
    },
    {
      "cell_type": "code",
      "source": [
        "train_data = train_data.astype(\"uint8\")\n",
        "nsamples1, nx1, ny1, chanels = train_data.shape\n",
        "train_data = train_data.reshape((nsamples1,nx1*ny1*chanels))\n",
        "train_data = train_data/255\n",
        "\n",
        "test_data = test_data.astype(\"uint8\")\n",
        "nsamples, nx, ny, chanels = test_data.shape\n",
        "test_data = test_data.reshape((nsamples,nx*ny*chanels))\n",
        "test_data = test_data/255"
      ],
      "metadata": {
        "id": "83dpWmjiTFhl"
      },
      "execution_count": null,
      "outputs": []
    },
    {
      "cell_type": "code",
      "source": [
        "train_data = train_data.reshape((nsamples1,nx1,ny1,chanels))\n",
        "test_data = test_data.reshape((nsamples,nx,ny,chanels))"
      ],
      "metadata": {
        "id": "3633DraNOGFM"
      },
      "execution_count": null,
      "outputs": []
    },
    {
      "cell_type": "code",
      "source": [
        "train_data_S = np.zeros((nsamples1,192,168))\n",
        "train_data_S = train_data[:,:,:,0]\n",
        "train_data_V = np.zeros((nsamples1,192,168))\n",
        "train_data_V = train_data[:,:,:,1]\n",
        "\n",
        "test_data_S = np.zeros((nsamples,192,168))\n",
        "test_data_S = test_data[:,:,:,0]\n",
        "test_data_V = np.zeros((nsamples1,192,168))\n",
        "test_data_V = test_data[:,:,:,1]"
      ],
      "metadata": {
        "id": "tAq_nZOmUPS0"
      },
      "execution_count": null,
      "outputs": []
    },
    {
      "cell_type": "markdown",
      "metadata": {
        "id": "Z9vr5iFJhIYn"
      },
      "source": [
        "# LBP\n"
      ]
    },
    {
      "cell_type": "markdown",
      "metadata": {
        "id": "iEjHzUokc5XS"
      },
      "source": [
        "## Extracción de caracteristicas"
      ]
    },
    {
      "cell_type": "code",
      "execution_count": null,
      "metadata": {
        "id": "ypckBUmSbQ2e"
      },
      "outputs": [],
      "source": [
        "# https://github.com/AsoStrife/Computer-Vision-Project\n",
        "\n",
        "def blockshaped(arr, nrows, ncols):\n",
        "\n",
        "    h, w = arr.shape\n",
        "    return (arr.reshape(h//nrows, nrows, -1, ncols)\n",
        "            .swapaxes(1,2)\n",
        "            .reshape(-1, nrows, ncols))\n",
        "def getHistogram(imgArray):\n",
        "    hist, bin_edges = np.histogram(imgArray, density=True)\n",
        "    return hist"
      ]
    },
    {
      "cell_type": "code",
      "execution_count": null,
      "metadata": {
        "colab": {
          "base_uri": "https://localhost:8080/"
        },
        "id": "uWLgW0UmdDsS",
        "outputId": "bbea2222-e423-482b-8245-9108fa9fa639"
      },
      "outputs": [
        {
          "output_type": "stream",
          "name": "stdout",
          "text": [
            "1000\n"
          ]
        }
      ],
      "source": [
        "# tamaño de train y test\n",
        "cont_train = train_data.shape[0]\n",
        "cont_test = test_data.shape[0]\n",
        "print(cont_test)"
      ]
    },
    {
      "cell_type": "code",
      "execution_count": null,
      "metadata": {
        "id": "8PcaXjhSc_zZ"
      },
      "outputs": [],
      "source": [
        "#train_data_LBP = train_data.reshape((cont_train,nx,ny))\n",
        "lbp_feactures  = np.zeros((cont_train,nx,ny))\n",
        "\n",
        "eps = 1e-7\n",
        "radius = 1\n",
        "n_points = 8 * radius\n",
        "\n",
        "lbp_hist_S = np.zeros((cont_train,1440))\n",
        "\n",
        "for i in range(0,cont_train): \n",
        "    lbp = feature.local_binary_pattern(train_data_S[i], n_points, radius)\n",
        "    lbp_feactures[i] +=  lbp\n",
        "    \n",
        "    shaped = blockshaped(lbp_feactures[i], 16, 14)\n",
        "    x = []\n",
        "    xBlocks = []\n",
        "    for s in shaped:\n",
        "        xBlocks.append(getHistogram(s))\n",
        "    # Concatenate the various histogram, the resulting histogram is append into feature vector\n",
        "    x.append(np.concatenate(xBlocks))\n",
        "    \n",
        "    lbp_hist_S[i] += x[0]"
      ]
    },
    {
      "cell_type": "code",
      "execution_count": null,
      "metadata": {
        "id": "Rr_TzQibU1IM"
      },
      "outputs": [],
      "source": [
        "#train_data_LBP = train_data.reshape((cont_train,nx,ny))\n",
        "lbp_feactures  = np.zeros((cont_train,nx,ny))\n",
        "\n",
        "eps = 1e-7\n",
        "radius = 1\n",
        "n_points = 8 * radius\n",
        "\n",
        "lbp_hist_V = np.zeros((cont_train,1440))\n",
        "\n",
        "for i in range(0,cont_train): \n",
        "    lbp = feature.local_binary_pattern(train_data_V[i], n_points, radius)\n",
        "    lbp_feactures[i] +=  lbp\n",
        "    \n",
        "    shaped = blockshaped(lbp_feactures[i], 16, 14)\n",
        "    x = []\n",
        "    xBlocks = []\n",
        "    for s in shaped:\n",
        "        xBlocks.append(getHistogram(s))\n",
        "    # Concatenate the various histogram, the resulting histogram is append into feature vector\n",
        "    x.append(np.concatenate(xBlocks))\n",
        "    \n",
        "    lbp_hist_V[i] += x[0]"
      ]
    },
    {
      "cell_type": "code",
      "execution_count": null,
      "metadata": {
        "id": "8zCECTEndbYp"
      },
      "outputs": [],
      "source": [
        "#test_data_LBP = test_data.reshape((cont_test,nx,ny))\n",
        "lbp_feactures_test  = np.zeros((cont_test,nx,ny))\n",
        "\n",
        "\n",
        "lbp_hist_test_S = np.zeros((cont_test,1440))\n",
        "\n",
        "for i in range(0,cont_test): \n",
        "    lbp = feature.local_binary_pattern(test_data_S[i], n_points, radius)\n",
        "    lbp_feactures_test[i] +=  lbp\n",
        "    \n",
        "    shaped = blockshaped(lbp_feactures_test[i], 16, 14)\n",
        "    x = []\n",
        "    xBlocks = []\n",
        "    for s in shaped:\n",
        "        xBlocks.append(getHistogram(s))\n",
        "    # Concatenate the various histogram, the resulting histogram is append into feature vector\n",
        "    x.append(np.concatenate(xBlocks))\n",
        "    \n",
        "    lbp_hist_test_S[i] += x[0]\n",
        "    "
      ]
    },
    {
      "cell_type": "code",
      "execution_count": null,
      "metadata": {
        "id": "ESTzVdhBVYEU"
      },
      "outputs": [],
      "source": [
        "#test_data_LBP = test_data.reshape((cont_test,nx,ny))\n",
        "lbp_feactures_test  = np.zeros((cont_test,nx,ny))\n",
        "\n",
        "\n",
        "lbp_hist_test_V = np.zeros((cont_test,1440))\n",
        "\n",
        "for i in range(0,cont_test): \n",
        "    lbp = feature.local_binary_pattern(test_data_V[i], n_points, radius)\n",
        "    lbp_feactures_test[i] +=  lbp\n",
        "    \n",
        "    shaped = blockshaped(lbp_feactures_test[i], 16, 14)\n",
        "    x = []\n",
        "    xBlocks = []\n",
        "    for s in shaped:\n",
        "        xBlocks.append(getHistogram(s))\n",
        "    # Concatenate the various histogram, the resulting histogram is append into feature vector\n",
        "    x.append(np.concatenate(xBlocks))\n",
        "    \n",
        "    lbp_hist_test_V[i] += x[0]\n",
        "    "
      ]
    },
    {
      "cell_type": "code",
      "execution_count": null,
      "metadata": {
        "colab": {
          "base_uri": "https://localhost:8080/"
        },
        "id": "PpSnw-5ZWLn7",
        "outputId": "47dd58de-adff-4ed2-ac14-9c0b41128e9e"
      },
      "outputs": [
        {
          "output_type": "execute_result",
          "data": {
            "text/plain": [
              "(1000, 1440)"
            ]
          },
          "metadata": {},
          "execution_count": 52
        }
      ],
      "source": [
        "lbp_hist_test_V.shape"
      ]
    },
    {
      "cell_type": "code",
      "execution_count": null,
      "metadata": {
        "colab": {
          "base_uri": "https://localhost:8080/"
        },
        "id": "7Rfnt2fEZK1e",
        "outputId": "5999861d-ee6a-4209-9bf0-6c614762f84c"
      },
      "outputs": [
        {
          "output_type": "execute_result",
          "data": {
            "text/plain": [
              "(2669, 2880)"
            ]
          },
          "metadata": {},
          "execution_count": 53
        }
      ],
      "source": [
        "lbp_hist = np.concatenate((lbp_hist_S,lbp_hist_V),axis=1)\n",
        "lbp_hist.shape"
      ]
    },
    {
      "cell_type": "code",
      "execution_count": null,
      "metadata": {
        "colab": {
          "base_uri": "https://localhost:8080/"
        },
        "id": "c-WYwnMqZ5vU",
        "outputId": "743aef97-f137-4d1f-d130-31790d4ab3a8"
      },
      "outputs": [
        {
          "output_type": "execute_result",
          "data": {
            "text/plain": [
              "(1000, 2880)"
            ]
          },
          "metadata": {},
          "execution_count": 54
        }
      ],
      "source": [
        "lbp_hist_test = np.concatenate((lbp_hist_test_S,lbp_hist_test_V),axis=1)\n",
        "lbp_hist_test.shape"
      ]
    },
    {
      "cell_type": "markdown",
      "metadata": {
        "id": "K1xiJKp7dddK"
      },
      "source": [
        "## SMV"
      ]
    },
    {
      "cell_type": "code",
      "execution_count": null,
      "metadata": {
        "colab": {
          "base_uri": "https://localhost:8080/"
        },
        "id": "Ku9VLQzddotZ",
        "outputId": "f77c5e47-92fa-4bc9-fd4a-fab1e2a4ee60"
      },
      "outputs": [
        {
          "output_type": "stream",
          "name": "stdout",
          "text": [
            "El mejor conjunto de caracteriticas es: \n",
            "SVC(C=100000.0, class_weight='balanced', gamma=0.001)\n"
          ]
        }
      ],
      "source": [
        "param_grid = {'C': [1e3, 5e3, 1e4, 5e4, 1e5],\n",
        "              'gamma': [0.0001, 0.0005, 0.001, 0.005, 0.01, 0.1], }\n",
        "clf_lbp_svm = GridSearchCV(\n",
        "    SVC(kernel='rbf', class_weight='balanced'), param_grid\n",
        ")\n",
        "clf_lbp_svm = clf_lbp_svm.fit(lbp_hist,y_train )\n",
        "\n",
        "print(\"El mejor conjunto de caracteriticas es: \")\n",
        "print(clf_lbp_svm.best_estimator_)"
      ]
    },
    {
      "cell_type": "code",
      "execution_count": null,
      "metadata": {
        "id": "G6J--DVJd_Xq",
        "colab": {
          "base_uri": "https://localhost:8080/"
        },
        "outputId": "4624744e-13af-40e4-d2b5-7f972eca235d"
      },
      "outputs": [
        {
          "output_type": "stream",
          "name": "stdout",
          "text": [
            "              precision    recall  f1-score   support\n",
            "\n",
            "           1     0.8148    0.8800    0.8462        50\n",
            "           2     0.7069    0.8200    0.7593        50\n",
            "           3     0.5690    0.6600    0.6111        50\n",
            "           4     0.6207    0.7200    0.6667        50\n",
            "           5     0.6833    0.8200    0.7455        50\n",
            "           6     0.7895    0.6000    0.6818        50\n",
            "           7     0.8393    0.9400    0.8868        50\n",
            "           8     0.7917    0.7600    0.7755        50\n",
            "           9     0.6286    0.4400    0.5176        50\n",
            "          10     0.9792    0.9400    0.9592        50\n",
            "          11     0.6596    0.6200    0.6392        50\n",
            "          12     0.5345    0.6200    0.5741        50\n",
            "          13     0.7818    0.8600    0.8190        50\n",
            "          14     0.6923    0.5400    0.6067        50\n",
            "          15     0.7222    0.7800    0.7500        50\n",
            "          16     0.6739    0.6200    0.6458        50\n",
            "          17     0.8125    0.7800    0.7959        50\n",
            "          18     0.7000    0.7000    0.7000        50\n",
            "          19     0.7347    0.7200    0.7273        50\n",
            "          20     0.8537    0.7000    0.7692        50\n",
            "\n",
            "    accuracy                         0.7260      1000\n",
            "   macro avg     0.7294    0.7260    0.7238      1000\n",
            "weighted avg     0.7294    0.7260    0.7238      1000\n",
            "\n"
          ]
        }
      ],
      "source": [
        "y_pred_lbp_svm = clf_lbp_svm.predict(lbp_hist_test)\n",
        "\n",
        "report = classification_report(y_test, y_pred_lbp_svm,digits=4,output_dict=True)\n",
        "df = pandas.DataFrame(report).transpose()\n",
        "df.to_excel(\"svmLBP.xlsx\")\n",
        "print(classification_report(y_test, y_pred_lbp_svm,digits=4))"
      ]
    },
    {
      "cell_type": "code",
      "source": [
        "print(matthews_corrcoef(y_test, y_pred_lbp_svm))"
      ],
      "metadata": {
        "colab": {
          "base_uri": "https://localhost:8080/"
        },
        "id": "kWzp6SvkwhKZ",
        "outputId": "a9b0510a-e875-49d0-d066-df610cd2728c"
      },
      "execution_count": null,
      "outputs": [
        {
          "output_type": "stream",
          "name": "stdout",
          "text": [
            "0.7119755157572578\n"
          ]
        }
      ]
    },
    {
      "cell_type": "code",
      "source": [
        "print(specificity(y_test, y_pred_lbp_svm)) "
      ],
      "metadata": {
        "colab": {
          "base_uri": "https://localhost:8080/"
        },
        "id": "IWvNE8DyxsjN",
        "outputId": "42941f40-381e-454a-f938-954285c550e6"
      },
      "execution_count": null,
      "outputs": [
        {
          "output_type": "stream",
          "name": "stdout",
          "text": [
            "0.985578947368421\n"
          ]
        }
      ]
    },
    {
      "cell_type": "markdown",
      "metadata": {
        "id": "_aqb1aHSdfmJ"
      },
      "source": [
        "## KNN"
      ]
    },
    {
      "cell_type": "code",
      "execution_count": null,
      "metadata": {
        "id": "8q8SsMOReW40"
      },
      "outputs": [],
      "source": [
        "clf_lbp_Kn_3 = KNeighborsClassifier(n_neighbors=7)"
      ]
    },
    {
      "cell_type": "code",
      "execution_count": null,
      "metadata": {
        "id": "7ujXF4D9eUQ4"
      },
      "outputs": [],
      "source": [
        "clf_lbp_Kn_3 = clf_lbp_Kn_3.fit(lbp_hist,y_train)"
      ]
    },
    {
      "cell_type": "code",
      "execution_count": null,
      "metadata": {
        "id": "dVA2n3uZeVXL",
        "colab": {
          "base_uri": "https://localhost:8080/"
        },
        "outputId": "83a06b1f-b5ea-4455-9ca1-16408aad9285"
      },
      "outputs": [
        {
          "output_type": "stream",
          "name": "stdout",
          "text": [
            "              precision    recall  f1-score   support\n",
            "\n",
            "           1     0.4516    0.8400    0.5874        50\n",
            "           2     0.5000    0.5000    0.5000        50\n",
            "           3     0.3548    0.2200    0.2716        50\n",
            "           4     0.3030    0.4000    0.3448        50\n",
            "           5     0.2982    0.3400    0.3178        50\n",
            "           6     0.3636    0.1600    0.2222        50\n",
            "           7     0.2080    0.9400    0.3406        50\n",
            "           8     0.4118    0.1400    0.2090        50\n",
            "           9     0.4333    0.2600    0.3250        50\n",
            "          10     0.5493    0.7800    0.6446        50\n",
            "          11     0.1176    0.0400    0.0597        50\n",
            "          12     0.7500    0.1800    0.2903        50\n",
            "          13     0.6957    0.3200    0.4384        50\n",
            "          14     0.6250    0.1000    0.1724        50\n",
            "          15     0.3944    0.5600    0.4628        50\n",
            "          16     0.3514    0.2600    0.2989        50\n",
            "          17     0.5833    0.4200    0.4884        50\n",
            "          18     0.3659    0.6000    0.4545        50\n",
            "          19     0.6364    0.1400    0.2295        50\n",
            "          20     0.5250    0.4200    0.4667        50\n",
            "\n",
            "    accuracy                         0.3810      1000\n",
            "   macro avg     0.4459    0.3810    0.3562      1000\n",
            "weighted avg     0.4459    0.3810    0.3562      1000\n",
            "\n"
          ]
        }
      ],
      "source": [
        "y_pred_lbp_knn = clf_lbp_Kn_3.predict(lbp_hist_test)\n",
        "\n",
        "report = classification_report(y_test, y_pred_lbp_knn,digits=4,output_dict=True)\n",
        "df = pandas.DataFrame(report).transpose()                   \n",
        "df.to_excel(\"knnLBP.xlsx\")  \n",
        "print(classification_report(y_test, y_pred_lbp_knn,digits=4))"
      ]
    },
    {
      "cell_type": "code",
      "source": [
        "print(matthews_corrcoef(y_test, y_pred_lbp_knn))"
      ],
      "metadata": {
        "colab": {
          "base_uri": "https://localhost:8080/"
        },
        "id": "FrElL2orx7ps",
        "outputId": "99038bf7-a04b-4def-c42d-e4e58b19de6d"
      },
      "execution_count": null,
      "outputs": [
        {
          "output_type": "stream",
          "name": "stdout",
          "text": [
            "0.356915668242514\n"
          ]
        }
      ]
    },
    {
      "cell_type": "code",
      "source": [
        "print(specificity(y_test, y_pred_lbp_knn))  "
      ],
      "metadata": {
        "colab": {
          "base_uri": "https://localhost:8080/"
        },
        "id": "aS2CynNex77C",
        "outputId": "b188cec1-7ad9-44e5-b2f7-d975b00fcd66"
      },
      "execution_count": null,
      "outputs": [
        {
          "output_type": "stream",
          "name": "stdout",
          "text": [
            "0.967421052631579\n"
          ]
        }
      ]
    },
    {
      "cell_type": "markdown",
      "metadata": {
        "id": "1x5pfWiMdhhJ"
      },
      "source": [
        "## Gauss"
      ]
    },
    {
      "cell_type": "code",
      "execution_count": null,
      "metadata": {
        "id": "TgW5wWUMdVUb"
      },
      "outputs": [],
      "source": [
        "clf_lbp_Gauss = GaussianNB()"
      ]
    },
    {
      "cell_type": "code",
      "execution_count": null,
      "metadata": {
        "id": "uDVEpzvLejdJ"
      },
      "outputs": [],
      "source": [
        "clf_lbp_Gauss = clf_lbp_Gauss.fit(lbp_hist,y_train)"
      ]
    },
    {
      "cell_type": "code",
      "execution_count": null,
      "metadata": {
        "id": "g2sVNQZohfMZ",
        "colab": {
          "base_uri": "https://localhost:8080/"
        },
        "outputId": "fab61827-f5dc-4b34-d806-fee6d7120a2c"
      },
      "outputs": [
        {
          "output_type": "stream",
          "name": "stdout",
          "text": [
            "              precision    recall  f1-score   support\n",
            "\n",
            "           1     0.5714    0.0800    0.1404        50\n",
            "           2     0.4250    0.3400    0.3778        50\n",
            "           3     0.1220    0.1000    0.1099        50\n",
            "           4     0.0714    0.0200    0.0312        50\n",
            "           5     0.2892    0.4800    0.3609        50\n",
            "           6     0.2895    0.2200    0.2500        50\n",
            "           7     0.3611    0.7800    0.4937        50\n",
            "           8     0.4762    0.4000    0.4348        50\n",
            "           9     0.1250    0.0200    0.0345        50\n",
            "          10     0.4023    0.7000    0.5109        50\n",
            "          11     0.2143    0.2400    0.2264        50\n",
            "          12     0.2344    0.3000    0.2632        50\n",
            "          13     0.4167    0.5000    0.4545        50\n",
            "          14     0.4062    0.2600    0.3171        50\n",
            "          15     0.3077    0.1600    0.2105        50\n",
            "          16     0.5000    0.0800    0.1379        50\n",
            "          17     0.3494    0.5800    0.4361        50\n",
            "          18     0.3696    0.3400    0.3542        50\n",
            "          19     0.2444    0.4400    0.3143        50\n",
            "          20     0.4478    0.6000    0.5128        50\n",
            "\n",
            "    accuracy                         0.3320      1000\n",
            "   macro avg     0.3312    0.3320    0.2986      1000\n",
            "weighted avg     0.3312    0.3320    0.2986      1000\n",
            "\n"
          ]
        }
      ],
      "source": [
        "y_pred_lbp_gaus = clf_lbp_Gauss.predict(lbp_hist_test)\n",
        "\n",
        "report = classification_report(y_test, y_pred_lbp_gaus,digits=4,output_dict=True)\n",
        "df = pandas.DataFrame(report).transpose()\n",
        "df.to_excel(\"gaussLBP.xlsx\")\n",
        "print(classification_report(y_test, y_pred_lbp_gaus,digits=4))"
      ]
    },
    {
      "cell_type": "code",
      "source": [
        "print(matthews_corrcoef(y_test, y_pred_lbp_gaus))"
      ],
      "metadata": {
        "colab": {
          "base_uri": "https://localhost:8080/"
        },
        "id": "0sK9uJlay2FA",
        "outputId": "cbb4f538-4207-4519-f119-b085d16b47be"
      },
      "execution_count": null,
      "outputs": [
        {
          "output_type": "stream",
          "name": "stdout",
          "text": [
            "0.29955190567413015\n"
          ]
        }
      ]
    },
    {
      "cell_type": "code",
      "source": [
        "print(specificity(y_test, y_pred_lbp_gaus)) "
      ],
      "metadata": {
        "colab": {
          "base_uri": "https://localhost:8080/"
        },
        "id": "k33fNDGcy7Wf",
        "outputId": "bf057aa0-5525-451d-8192-1a7d846bf326"
      },
      "execution_count": null,
      "outputs": [
        {
          "output_type": "stream",
          "name": "stdout",
          "text": [
            "0.964842105263158\n"
          ]
        }
      ]
    }
  ]
}