{
  "nbformat": 4,
  "nbformat_minor": 0,
  "metadata": {
    "colab": {
      "provenance": [],
      "collapsed_sections": [
        "AmVHNheegbup",
        "JgoVNCeeP6QY",
        "2XNZTqCnidvs",
        "mt6kox-L1u02",
        "q7i0d5zQhLwP",
        "5qo3IFfuEiQx",
        "zgaL3Cm1SPOV",
        "r6Z5IplFiYbL",
        "neZeivofiZlo",
        "kQFvcR40QAQ8",
        "hllo2PNgglaw",
        "Z9vr5iFJhIYn",
        "K1xiJKp7dddK",
        "_aqb1aHSdfmJ",
        "1x5pfWiMdhhJ"
      ],
      "machine_shape": "hm"
    },
    "kernelspec": {
      "name": "python3",
      "display_name": "Python 3"
    },
    "language_info": {
      "name": "python"
    },
    "gpuClass": "standard"
  },
  "cells": [
    {
      "cell_type": "markdown",
      "source": [
        "# Cargar datos y librerias"
      ],
      "metadata": {
        "id": "AmVHNheegbup"
      }
    },
    {
      "cell_type": "code",
      "execution_count": null,
      "metadata": {
        "id": "I_C_HFw1Oqxk",
        "colab": {
          "base_uri": "https://localhost:8080/"
        },
        "outputId": "7349bf6a-01e5-4d65-fe25-0da6d86f4834"
      },
      "outputs": [
        {
          "output_type": "stream",
          "name": "stdout",
          "text": [
            "Mounted at /content/drive\n"
          ]
        }
      ],
      "source": [
        "from google.colab import drive\n",
        "drive.mount('/content/drive')"
      ]
    },
    {
      "cell_type": "code",
      "source": [
        "# Basic\n",
        "import numpy as np \n",
        "import pandas as pd \n",
        "import matplotlib.pyplot as plt\n",
        "from statistics import mode\n",
        "import os\n",
        "import glob\n",
        "import random\n",
        "import cv2\n",
        "\n",
        "from sklearn.svm import SVC\n",
        "from sklearn.model_selection import train_test_split\n",
        "from scipy.sparse import coo_matrix\n",
        "from sklearn.utils import shuffle\n",
        "\n",
        "import cv2\n",
        "# Features \n",
        "from sklearn.discriminant_analysis import LinearDiscriminantAnalysis as LDA\n",
        "from sklearn.decomposition import PCA\n",
        "from skimage import feature\n",
        "# Metrics \n",
        "from sklearn.metrics import classification_report\n",
        "from sklearn.metrics import accuracy_score #c alculate accuracy\n",
        "from sklearn.metrics import confusion_matrix, classification_report\n",
        "from sklearn.metrics import plot_confusion_matrix\n",
        "# Classifier\n",
        "from sklearn.naive_bayes import GaussianNB\n",
        "from sklearn.neighbors import KNeighborsClassifier\n",
        "from sklearn.model_selection import GridSearchCV\n",
        "from sklearn import svm\n",
        "#Save model\n",
        "import joblib  "
      ],
      "metadata": {
        "id": "KtqKOxPySqXV"
      },
      "execution_count": null,
      "outputs": []
    },
    {
      "cell_type": "markdown",
      "source": [
        "# Carga de datos 1"
      ],
      "metadata": {
        "id": "JgoVNCeeP6QY"
      }
    },
    {
      "cell_type": "code",
      "source": [
        "path = \"/content/drive/MyDrive/Universidad - Ingeniería Electrónica/10 Semestre/Trabajo de Grado II/datasets/datasetVGG/4-Asian Indian/train\"\n",
        "\n",
        "list_people = os.listdir(path)\n",
        "\n",
        "type_file = \"*.jpg\"\n",
        "\n",
        "cont = 0\n",
        "cont2 = 0\n",
        "\n",
        "for k in list_people:\n",
        "    \n",
        "    path_image = path + \"/\" + k\n",
        "    list_jpg = glob.glob(path_image + os.sep + type_file)\n",
        "    \n",
        "    cont += len(list_jpg)\n",
        "    \n",
        "print(\"El número de muestras: \",cont)\n",
        "\n",
        "train_data = np.zeros((cont,168*192*2))\n",
        "train_data = train_data.astype('float32')\n",
        "\n",
        "y_train = np.zeros(cont)\n",
        "y_train = y_train.astype('int8')\n",
        "\n",
        "\n",
        "for i in list_people:\n",
        "    \n",
        "    #print(i)\n",
        "    \n",
        "    path_image = path + \"/\" + i\n",
        "    \n",
        "    list_jpg = glob.glob(path_image + os.sep + type_file)\n",
        "    \n",
        "    for j in list_jpg:\n",
        "        \n",
        "        image = cv2.imread(j, cv2.IMREAD_COLOR)\n",
        "        image = cv2.cvtColor(image, cv2.COLOR_BGR2HSV)\n",
        "        image = cv2.resize(image, (168,192))\n",
        "        H,S,V = cv2.split(image)\n",
        "        image_merge = np.zeros((192,168,2))\n",
        "        image_merge[:,:,0] = S\n",
        "        image_merge[:,:,1] = V\n",
        "        image_merge = image_merge.ravel()\n",
        "        train_data[cont2] += image_merge \n",
        "\n",
        "        y_train[cont2] = i[-2] + i[-1]\n",
        "\n",
        "        #print(y_train[cont2])\n",
        "        cont2 += 1\n",
        "\n",
        "#print(y_train)"
      ],
      "metadata": {
        "colab": {
          "base_uri": "https://localhost:8080/"
        },
        "id": "yDZlteEXLltf",
        "outputId": "84515668-2bec-47f1-f570-2a7d5cb0d5a2"
      },
      "execution_count": null,
      "outputs": [
        {
          "output_type": "stream",
          "name": "stdout",
          "text": [
            "El número de muestras:  2696\n"
          ]
        }
      ]
    },
    {
      "cell_type": "code",
      "source": [
        "path = \"/content/drive/MyDrive/Universidad - Ingeniería Electrónica/10 Semestre/Trabajo de Grado II/datasets/datasetVGG/4-Asian Indian/test\"\n",
        "\n",
        "list_people = os.listdir(path)\n",
        "\n",
        "subcadena = \"yaleB\" #la subcadena que queremos localizar\n",
        "type_file = \"*.jpg\"\n",
        "\n",
        "cont = 0\n",
        "cont2 = 0\n",
        "\n",
        "for k in list_people:\n",
        "    \n",
        "    path_image = path + \"/\" + k\n",
        "    list_jpg = glob.glob(path_image + os.sep + type_file)\n",
        "    \n",
        "    cont += len(list_jpg)\n",
        "    \n",
        "print(\"El número de muestras: \",cont)\n",
        "\n",
        "test_data = np.zeros((cont,168*192*2))\n",
        "test_data = test_data.astype('float32')\n",
        "\n",
        "y_test = np.zeros(cont)\n",
        "y_test = y_test.astype('int8')\n",
        "\n",
        "\n",
        "for i in list_people:\n",
        "    \n",
        "    #print(i)\n",
        "    \n",
        "    path_image = path + \"/\" + i\n",
        "    \n",
        "    list_jpg = glob.glob(path_image + os.sep + type_file)\n",
        "    \n",
        "    for j in list_jpg:\n",
        "        \n",
        "        image = cv2.imread(j, cv2.IMREAD_COLOR)\n",
        "        image = cv2.cvtColor(image, cv2.COLOR_BGR2HSV)\n",
        "        image = cv2.resize(image, (168,192))\n",
        "        H,S,V = cv2.split(image)\n",
        "        image_merge = np.zeros((192,168,2))\n",
        "        image_merge[:,:,0] = S\n",
        "        image_merge[:,:,1] = V\n",
        "        image_merge = image_merge.ravel()\n",
        "\n",
        "        test_data[cont2] += image_merge \n",
        "\n",
        "        y_test[cont2] = i[-2] + i[-1]\n",
        "        #print(y_train[cont2])\n",
        "        cont2 += 1\n",
        "\n",
        "#print(y_train)"
      ],
      "metadata": {
        "colab": {
          "base_uri": "https://localhost:8080/"
        },
        "id": "_MGvkXCVL6iX",
        "outputId": "1b2a4915-b6cc-4656-8452-9a96cefd02e0"
      },
      "execution_count": null,
      "outputs": [
        {
          "output_type": "stream",
          "name": "stdout",
          "text": [
            "El número de muestras:  1000\n"
          ]
        }
      ]
    },
    {
      "cell_type": "markdown",
      "source": [
        "#Test"
      ],
      "metadata": {
        "id": "2XNZTqCnidvs"
      }
    },
    {
      "cell_type": "code",
      "source": [
        "#image = cv2.imread(\"/content/drive/MyDrive/Colab Notebooks/Base-De-Datos/datasetVGG/1-African American/train/african_001/0001_02.jpg\", cv2.IMREAD_COLOR)"
      ],
      "metadata": {
        "id": "Mv9GVbWPifbE"
      },
      "execution_count": null,
      "outputs": []
    },
    {
      "cell_type": "code",
      "source": [
        "#image = cv2.resize(image, (168,192))\n",
        "#H,S,V = cv2.split(image)\n",
        "#S.shape"
      ],
      "metadata": {
        "id": "q9iJxTAMiy-k"
      },
      "execution_count": null,
      "outputs": []
    },
    {
      "cell_type": "code",
      "source": [
        "#image_merge = np.zeros((192,168,2))\n",
        "\n",
        "#image_merge[:,:,0] = S\n",
        "#image_merge[:,:,1] = V"
      ],
      "metadata": {
        "id": "HqsVIipYi2_z"
      },
      "execution_count": null,
      "outputs": []
    },
    {
      "cell_type": "code",
      "source": [
        "#print(V)"
      ],
      "metadata": {
        "id": "3IgrlPdjjaoM"
      },
      "execution_count": null,
      "outputs": []
    },
    {
      "cell_type": "code",
      "source": [
        "#print(image_merge[:,:,1])"
      ],
      "metadata": {
        "id": "ObQxNBR0i6Nb"
      },
      "execution_count": null,
      "outputs": []
    },
    {
      "cell_type": "code",
      "source": [
        "#train_data, y_train = extract_data(path_train,\"*.jpg\",True)"
      ],
      "metadata": {
        "id": "vbIAXFCFS7vt"
      },
      "execution_count": null,
      "outputs": []
    },
    {
      "cell_type": "code",
      "source": [
        "#test_data, y_test = extract_data(path_test,\"*.jpg\",True)"
      ],
      "metadata": {
        "id": "o7E-V2SFS-s8"
      },
      "execution_count": null,
      "outputs": []
    },
    {
      "cell_type": "code",
      "source": [
        "#import sys\n",
        "#np.set_printoptions(threshold=sys.maxsize)\n",
        "#y_train"
      ],
      "metadata": {
        "id": "p-E3AlP2-LG_"
      },
      "execution_count": null,
      "outputs": []
    },
    {
      "cell_type": "markdown",
      "source": [
        "# Separar datos en train y test"
      ],
      "metadata": {
        "id": "mt6kox-L1u02"
      }
    },
    {
      "cell_type": "code",
      "source": [
        "#nsamples, nx, ny, chanels = train_data.shape\n",
        "\n",
        "#train_data = train_data.reshape((nsamples,nx*ny*chanels))\n",
        "\n",
        "X_sparse = coo_matrix(train_data)\n",
        "\n",
        "train_data, X_sparse, y_train = shuffle(train_data, X_sparse,y_train, random_state=0)\n",
        "\n",
        "#train_data = train_data.reshape((nsamples,nx,ny,chanels))"
      ],
      "metadata": {
        "id": "WF7FfiK61u02"
      },
      "execution_count": null,
      "outputs": []
    },
    {
      "cell_type": "code",
      "source": [
        "#nsamples, nx, ny, chanels = test_data.shape\n",
        "\n",
        "#test_data = test_data.reshape((nsamples,nx*ny*chanels))\n",
        "\n",
        "X_sparse = coo_matrix(test_data)\n",
        "\n",
        "test_data, X_sparse, y_test = shuffle(test_data, X_sparse,y_test, random_state=0)\n",
        "\n",
        "#test_data = test_data.reshape((nsamples,nx,ny,chanels))"
      ],
      "metadata": {
        "id": "LFo-aaAQ1u02"
      },
      "execution_count": null,
      "outputs": []
    },
    {
      "cell_type": "code",
      "source": [
        "train_data = train_data.astype(\"uint8\")\n",
        "#nsamples1, nx1, ny1, chanels = train_data.shape\n",
        "#train_data = train_data.reshape((nsamples1,nx1*ny1*chanels))\n",
        "train_data = train_data/255\n",
        "\n",
        "test_data = test_data.astype(\"uint8\")\n",
        "#nsamples, nx, ny, chanels = test_data.shape\n",
        "#test_data = test_data.reshape((nsamples,nx*ny*chanels))\n",
        "test_data = test_data/255"
      ],
      "metadata": {
        "id": "P8S1_RRX1u03"
      },
      "execution_count": null,
      "outputs": []
    },
    {
      "cell_type": "markdown",
      "metadata": {
        "id": "q7i0d5zQhLwP"
      },
      "source": [
        "# PCA "
      ]
    },
    {
      "cell_type": "markdown",
      "metadata": {
        "id": "nzjHOdXVR6as"
      },
      "source": [
        "## Extracción de caracteristicas "
      ]
    },
    {
      "cell_type": "code",
      "execution_count": null,
      "metadata": {
        "id": "a0lEiq-3IaFU",
        "colab": {
          "base_uri": "https://localhost:8080/"
        },
        "outputId": "e15a36bb-5a16-409b-efb2-82ad9bbb2a4f"
      },
      "outputs": [
        {
          "output_type": "stream",
          "name": "stdout",
          "text": [
            "Extrayendo 150 eigenfaces de 2696 caras\n",
            "Projecting the input data on the eigenfaces orthonormal basis\n"
          ]
        }
      ],
      "source": [
        "n_components = 150\n",
        "\n",
        "print(\"Extrayendo %d eigenfaces de %d caras\"\n",
        "      % (n_components, train_data.shape[0]))\n",
        "\n",
        "pca = PCA(n_components=n_components, svd_solver='randomized',\n",
        "          whiten=True).fit(train_data)\n",
        "\n",
        "\n",
        "#eigenfaces = pca.components_.reshape((n_components,192, 162))\n",
        "\n",
        "print(\"Projecting the input data on the eigenfaces orthonormal basis\")\n",
        "\n",
        "train_data_pca = pca.transform(train_data)\n",
        "test_data_pca = pca.transform(test_data)"
      ]
    },
    {
      "cell_type": "markdown",
      "metadata": {
        "id": "N6hXCmTxSBO0"
      },
      "source": [
        "texto en negrita## SVM\n"
      ]
    },
    {
      "cell_type": "markdown",
      "metadata": {
        "id": "5qo3IFfuEiQx"
      },
      "source": [
        "## SVM"
      ]
    },
    {
      "cell_type": "code",
      "execution_count": null,
      "metadata": {
        "id": "1iMn3VWYEneB",
        "colab": {
          "base_uri": "https://localhost:8080/"
        },
        "outputId": "f5d83497-a496-4caf-d56c-6575728ac0fb"
      },
      "outputs": [
        {
          "output_type": "stream",
          "name": "stdout",
          "text": [
            "Best estimator found by grid search:\n",
            "SVC(C=1000.0, class_weight='balanced', gamma=0.005)\n"
          ]
        }
      ],
      "source": [
        "from sklearn.model_selection import GridSearchCV\n",
        "\n",
        "\n",
        "param_grid = {'C': [1e3, 5e3, 1e4, 5e4, 1e5],\n",
        "              'gamma': [0.0001, 0.0005, 0.001, 0.005, 0.01, 0.1], }\n",
        "\n",
        "clf_pca_svm = GridSearchCV(\n",
        "    SVC(kernel='rbf', class_weight='balanced'), param_grid\n",
        ")\n",
        "clf_pca_svm = clf_pca_svm.fit(train_data_pca,y_train )\n",
        "\n",
        "print(\"Best estimator found by grid search:\")\n",
        "print(clf_pca_svm.best_estimator_)"
      ]
    },
    {
      "cell_type": "code",
      "execution_count": null,
      "metadata": {
        "id": "42mgax0rFfxY",
        "colab": {
          "base_uri": "https://localhost:8080/"
        },
        "outputId": "b6d75c4b-f04d-4f25-b00f-965de9fc0d09"
      },
      "outputs": [
        {
          "output_type": "stream",
          "name": "stdout",
          "text": [
            "              precision    recall  f1-score   support\n",
            "\n",
            "           1     0.9565    0.8800    0.9167        50\n",
            "           2     0.7447    0.7000    0.7216        50\n",
            "           3     0.7308    0.7600    0.7451        50\n",
            "           4     0.9000    0.9000    0.9000        50\n",
            "           5     0.5556    0.7000    0.6195        50\n",
            "           6     0.7170    0.7600    0.7379        50\n",
            "           7     0.8542    0.8200    0.8367        50\n",
            "           8     0.6731    0.7000    0.6863        50\n",
            "           9     0.9020    0.9200    0.9109        50\n",
            "          10     0.6981    0.7400    0.7184        50\n",
            "          11     0.8654    0.9000    0.8824        50\n",
            "          12     0.8431    0.8600    0.8515        50\n",
            "          13     0.7857    0.6600    0.7174        50\n",
            "          14     0.6226    0.6600    0.6408        50\n",
            "          15     0.9792    0.9400    0.9592        50\n",
            "          16     0.6727    0.7400    0.7048        50\n",
            "          17     0.6379    0.7400    0.6852        50\n",
            "          18     0.8462    0.6600    0.7416        50\n",
            "          19     0.8125    0.7800    0.7959        50\n",
            "          20     0.9231    0.7200    0.8090        50\n",
            "\n",
            "    accuracy                         0.7770      1000\n",
            "   macro avg     0.7860    0.7770    0.7790      1000\n",
            "weighted avg     0.7860    0.7770    0.7790      1000\n",
            "\n",
            "[[44  1  0  0  1  0  1  0  1  2  0  0  0  0  0  0  0  0  0  0]\n",
            " [ 0 35  4  1  1  0  0  1  0  0  0  1  2  1  0  2  0  0  1  1]\n",
            " [ 0  2 38  0  1  0  1  3  0  0  0  0  0  0  0  0  3  0  2  0]\n",
            " [ 0  0  0 45  1  0  1  1  0  0  1  0  0  0  0  1  0  0  0  0]\n",
            " [ 0  1  2  2 35  0  0  1  0  0  0  0  0  3  0  4  0  1  0  1]\n",
            " [ 0  0  0  0  3 38  0  1  0  1  0  3  0  1  0  0  3  0  0  0]\n",
            " [ 0  0  3  0  0  0 41  0  0  1  1  0  0  0  1  0  1  2  0  0]\n",
            " [ 0  2  0  0  4  2  0 35  0  2  0  0  0  0  0  2  2  0  1  0]\n",
            " [ 0  0  0  0  0  0  3  0 46  0  0  0  0  0  0  0  0  0  0  1]\n",
            " [ 0  0  0  0  0  6  0  0  0 37  0  1  2  1  0  0  2  0  1  0]\n",
            " [ 0  0  0  1  0  0  0  0  1  0 45  0  0  0  0  2  0  0  1  0]\n",
            " [ 0  0  1  0  1  0  0  1  0  0  1 43  0  1  0  1  1  0  0  0]\n",
            " [ 0  2  0  0  0  0  0  1  0  6  0  0 33  6  0  2  0  0  0  0]\n",
            " [ 0  1  1  0  3  2  0  1  0  1  0  0  1 33  0  2  3  0  2  0]\n",
            " [ 0  0  0  0  0  0  0  1  0  0  0  1  1  0 47  0  0  0  0  0]\n",
            " [ 0  0  0  0  5  0  0  2  1  0  0  0  0  2  0 37  2  1  0  0]\n",
            " [ 0  2  1  0  3  0  0  1  0  1  1  0  2  1  0  0 37  1  0  0]\n",
            " [ 0  0  1  0  3  3  0  2  1  2  0  1  1  0  0  1  2 33  0  0]\n",
            " [ 0  1  1  0  2  1  0  1  0  0  1  0  0  3  0  1  0  0 39  0]\n",
            " [ 2  0  0  1  0  1  1  0  1  0  2  1  0  1  0  0  2  1  1 36]]\n"
          ]
        }
      ],
      "source": [
        "y_pred = clf_pca_svm.predict(test_data_pca)\n",
        "report = classification_report(y_test, y_pred,digits=4,output_dict=True)\n",
        "print(classification_report(y_test, y_pred,digits=4))\n",
        "print(confusion_matrix(y_test, y_pred))"
      ]
    },
    {
      "cell_type": "code",
      "source": [
        "import pandas\n",
        "df = pandas.DataFrame(report).transpose()\n",
        "df.to_excel(\"svmPCA.xlsx\")  "
      ],
      "metadata": {
        "id": "RqM72cAcjmq6"
      },
      "execution_count": null,
      "outputs": []
    },
    {
      "cell_type": "code",
      "source": [
        "def specificity(y_true,y_pred):\n",
        "        cm=confusion_matrix(y_true, y_pred)\n",
        "        FP = cm.sum(axis=0) - np.diag(cm)  \n",
        "        FN = cm.sum(axis=1) - np.diag(cm)\n",
        "        TP = np.diag(cm)\n",
        "        TN = cm.sum() - (FP + FN + TP)\n",
        "        Specificity = TN/(TN+FP)    \n",
        "        return np.mean(Specificity)\n",
        "        \n",
        "print(specificity(y_test, y_pred))"
      ],
      "metadata": {
        "id": "WYQc6v9jkAaL",
        "colab": {
          "base_uri": "https://localhost:8080/"
        },
        "outputId": "f6aa075b-53dd-4196-be82-1ab570045eb3"
      },
      "execution_count": null,
      "outputs": [
        {
          "output_type": "stream",
          "name": "stdout",
          "text": [
            "0.9882631578947368\n"
          ]
        }
      ]
    },
    {
      "cell_type": "markdown",
      "metadata": {
        "id": "zgaL3Cm1SPOV"
      },
      "source": [
        "## knn"
      ]
    },
    {
      "cell_type": "code",
      "execution_count": null,
      "metadata": {
        "id": "QekXhpPBZ9WT"
      },
      "outputs": [],
      "source": [
        "clf_PCA_Knn_3 = KNeighborsClassifier(n_neighbors=3)"
      ]
    },
    {
      "cell_type": "code",
      "execution_count": null,
      "metadata": {
        "id": "AGxTlHskaDK7"
      },
      "outputs": [],
      "source": [
        "clf_lbp_Kn_3 = clf_PCA_Knn_3.fit(train_data_pca,y_train)"
      ]
    },
    {
      "cell_type": "code",
      "execution_count": null,
      "metadata": {
        "id": "sfnktivHEHXq",
        "colab": {
          "base_uri": "https://localhost:8080/"
        },
        "outputId": "150d6e80-2579-41aa-ea00-fd8f810b133b"
      },
      "outputs": [
        {
          "output_type": "stream",
          "name": "stdout",
          "text": [
            "              precision    recall  f1-score   support\n",
            "\n",
            "           1     0.5600    0.5600    0.5600        50\n",
            "           2     0.5091    0.5600    0.5333        50\n",
            "           3     0.1834    0.6200    0.2831        50\n",
            "           4     0.8667    0.5200    0.6500        50\n",
            "           5     0.4118    0.2800    0.3333        50\n",
            "           6     0.2812    0.5400    0.3699        50\n",
            "           7     0.3448    0.8000    0.4819        50\n",
            "           8     0.3750    0.4800    0.4211        50\n",
            "           9     1.0000    0.4200    0.5915        50\n",
            "          10     0.3333    0.2200    0.2651        50\n",
            "          11     0.8800    0.4400    0.5867        50\n",
            "          12     0.2013    0.6200    0.3039        50\n",
            "          13     0.4000    0.1200    0.1846        50\n",
            "          14     0.2963    0.1600    0.2078        50\n",
            "          15     1.0000    0.3000    0.4615        50\n",
            "          16     0.5600    0.2800    0.3733        50\n",
            "          17     0.5600    0.2800    0.3733        50\n",
            "          18     0.6000    0.1200    0.2000        50\n",
            "          19     0.5556    0.1000    0.1695        50\n",
            "          20     0.7037    0.3800    0.4935        50\n",
            "\n",
            "    accuracy                         0.3900      1000\n",
            "   macro avg     0.5311    0.3900    0.3922      1000\n",
            "weighted avg     0.5311    0.3900    0.3922      1000\n",
            "\n",
            "[[28  1  3  1  0  2  6  0  0  0  0  8  0  0  0  0  0  0  1  0]\n",
            " [ 0 28  8  0  1  3  0  1  0  0  0  6  1  0  0  0  1  1  0  0]\n",
            " [ 2  1 31  1  1  4  1  1  0  0  0  3  1  0  0  0  2  0  1  1]\n",
            " [ 5  0  5 26  1  2  5  0  0  0  1  4  0  1  0  0  0  0  0  0]\n",
            " [ 0  0 14  0 14  3  7  1  0  2  1  6  0  0  0  2  0  0  0  0]\n",
            " [ 0  4  6  0  1 27  3  1  0  0  0  6  0  0  0  0  0  0  1  1]\n",
            " [ 2  1  1  0  0  0 40  1  0  0  0  4  0  0  0  0  1  0  0  0]\n",
            " [ 0  1  8  0  0  3  5 24  0  2  0  5  1  1  0  0  0  0  0  0]\n",
            " [ 3  0  6  2  0  1  8  1 21  1  0  4  0  0  0  1  0  0  0  2]\n",
            " [ 0  1 11  0  1  8  4  1  0 11  0  8  2  1  0  0  2  0  0  0]\n",
            " [ 2  0  5  0  2  0 10  2  0  0 22  7  0  0  0  0  0  0  0  0]\n",
            " [ 0  1  5  0  1  4  5  3  0  0  0 31  0  0  0  0  0  0  0  0]\n",
            " [ 2  1  8  0  1  4  2  5  0  4  0  9  6  4  0  2  2  0  0  0]\n",
            " [ 1  2 14  0  1  6  1  3  0  3  0  8  0  8  0  1  1  1  0  0]\n",
            " [ 0  1  1  0  2  6  5  2  0  2  1 10  1  0 15  1  1  0  0  2]\n",
            " [ 0  6  6  0  2  4  1  6  0  1  0  4  0  3  0 14  0  0  1  2]\n",
            " [ 1  4 12  0  1  2  2  2  0  3  0  4  0  2  0  2 14  1  0  0]\n",
            " [ 1  1  6  0  3 10  1  4  0  1  0 11  1  3  0  2  0  6  0  0]\n",
            " [ 2  1 12  0  2  4  2  5  0  2  0  9  1  4  0  0  1  0  5  0]\n",
            " [ 1  1  7  0  0  3  8  1  0  1  0  7  1  0  0  0  0  1  0 19]]\n"
          ]
        }
      ],
      "source": [
        "y_pred = clf_PCA_Knn_3.predict(test_data_pca)\n",
        "report = classification_report(y_test, y_pred,digits=4,output_dict=True)\n",
        "df = pandas.DataFrame(report).transpose()                   \n",
        "df.to_excel(\"knnPCA.xlsx\")\n",
        "print(classification_report(y_test, y_pred,digits=4))\n",
        "print(confusion_matrix(y_test, y_pred))"
      ]
    },
    {
      "cell_type": "code",
      "source": [
        "from sklearn.metrics import matthews_corrcoef\n",
        "print(matthews_corrcoef(y_test, y_pred))"
      ],
      "metadata": {
        "id": "0BFzVZ4Cnd9d",
        "colab": {
          "base_uri": "https://localhost:8080/"
        },
        "outputId": "0c2c88f7-f341-4a85-a55f-f0671989102b"
      },
      "execution_count": null,
      "outputs": [
        {
          "output_type": "stream",
          "name": "stdout",
          "text": [
            "0.3661026646796131\n"
          ]
        }
      ]
    },
    {
      "cell_type": "code",
      "source": [
        "print(specificity(y_test, y_pred))    "
      ],
      "metadata": {
        "id": "uCURh8O1neOh",
        "colab": {
          "base_uri": "https://localhost:8080/"
        },
        "outputId": "73895aca-e390-453f-e162-39e49daf8351"
      },
      "execution_count": null,
      "outputs": [
        {
          "output_type": "stream",
          "name": "stdout",
          "text": [
            "0.9678947368421055\n"
          ]
        }
      ]
    },
    {
      "cell_type": "markdown",
      "metadata": {
        "id": "1eOxICXHSs4e"
      },
      "source": [
        "## Gauss"
      ]
    },
    {
      "cell_type": "code",
      "execution_count": null,
      "metadata": {
        "id": "kEjCohrCKU5M"
      },
      "outputs": [],
      "source": [
        "clf_PCA_Gauss = GaussianNB()"
      ]
    },
    {
      "cell_type": "code",
      "execution_count": null,
      "metadata": {
        "id": "zGSEngljKVVU"
      },
      "outputs": [],
      "source": [
        "clf_lbp_Gauss = clf_PCA_Gauss.fit(train_data_pca,y_train)"
      ]
    },
    {
      "cell_type": "code",
      "execution_count": null,
      "metadata": {
        "id": "NRiyYjiqKYSs",
        "colab": {
          "base_uri": "https://localhost:8080/"
        },
        "outputId": "1dcf6519-528a-43fb-d293-5fa02043b02e"
      },
      "outputs": [
        {
          "output_type": "stream",
          "name": "stdout",
          "text": [
            "              precision    recall  f1-score   support\n",
            "\n",
            "           1     0.8710    0.5400    0.6667        50\n",
            "           2     0.7143    0.6000    0.6522        50\n",
            "           3     0.4286    0.6000    0.5000        50\n",
            "           4     0.7500    0.6600    0.7021        50\n",
            "           5     0.4364    0.4800    0.4571        50\n",
            "           6     0.6000    0.6600    0.6286        50\n",
            "           7     0.6415    0.6800    0.6602        50\n",
            "           8     0.5405    0.4000    0.4598        50\n",
            "           9     0.7209    0.6200    0.6667        50\n",
            "          10     0.5455    0.6000    0.5714        50\n",
            "          11     0.7736    0.8200    0.7961        50\n",
            "          12     0.2745    0.8400    0.4138        50\n",
            "          13     0.5758    0.3800    0.4578        50\n",
            "          14     0.4167    0.4000    0.4082        50\n",
            "          15     0.9231    0.7200    0.8090        50\n",
            "          16     0.4839    0.3000    0.3704        50\n",
            "          17     0.4364    0.4800    0.4571        50\n",
            "          18     0.8333    0.5000    0.6250        50\n",
            "          19     0.8000    0.5600    0.6588        50\n",
            "          20     0.6053    0.4600    0.5227        50\n",
            "\n",
            "    accuracy                         0.5650      1000\n",
            "   macro avg     0.6186    0.5650    0.5742      1000\n",
            "weighted avg     0.6186    0.5650    0.5742      1000\n",
            "\n",
            "[[27  0  0  2  0  0  3  0  2  0  3 11  1  0  0  1  0  0  0  0]\n",
            " [ 0 30  4  0  3  3  0  1  0  0  0  6  0  2  0  0  0  0  0  1]\n",
            " [ 1  2 30  0  1  0  1  0  1  2  2  2  1  0  0  2  3  0  2  0]\n",
            " [ 1  0  1 33  0  3  1  2  1  0  1  3  1  1  1  0  1  0  0  0]\n",
            " [ 0  2  4  2 24  0  0  1  1  4  0  5  0  1  0  2  2  2  0  0]\n",
            " [ 1  0  1  1  1 33  1  1  0  1  1  3  1  1  0  0  2  0  1  1]\n",
            " [ 1  0  0  0  2  0 34  0  1  3  1  5  0  0  0  0  1  0  0  2]\n",
            " [ 0  1  6  0  4  2  0 20  1  2  0  8  1  1  0  3  0  0  0  1]\n",
            " [ 0  0  0  0  0  1  5  1 31  1  1  3  0  0  0  0  1  0  0  6]\n",
            " [ 0  0  2  0  1  3  0  0  0 30  0  4  4  3  0  0  1  1  1  0]\n",
            " [ 0  1  0  0  1  2  2  0  1  0 41  1  0  0  0  0  1  0  0  0]\n",
            " [ 0  1  0  0  0  1  0  1  0  1  0 42  0  1  0  0  2  0  1  0]\n",
            " [ 0  1  0  0  1  3  0  2  0  5  0  9 19  6  0  1  2  0  1  0]\n",
            " [ 0  1  6  0  4  2  0  1  0  1  0  8  0 20  0  2  3  0  0  2]\n",
            " [ 0  0  0  0  0  0  1  0  0  0  0 10  0  0 36  0  3  0  0  0]\n",
            " [ 0  1  0  1  4  0  0  3  0  0  0  9  5  5  0 15  5  1  0  1]\n",
            " [ 0  2  6  0  3  0  0  1  0  2  0  5  0  3  1  3 24  0  0  0]\n",
            " [ 0  0  6  0  2  2  2  2  1  3  0  4  0  0  0  2  0 25  0  1]\n",
            " [ 0  0  3  2  1  0  1  1  0  0  1  8  0  4  0  0  1  0 28  0]\n",
            " [ 0  0  1  3  3  0  2  0  3  0  2  7  0  0  1  0  3  1  1 23]]\n"
          ]
        }
      ],
      "source": [
        "y_pred = clf_lbp_Gauss.predict(test_data_pca)\n",
        "\n",
        "report = classification_report(y_test, y_pred,digits=4,output_dict=True)\n",
        "df = pandas.DataFrame(report).transpose()\n",
        "df.to_excel(\"gaussPCA.xlsx\")\n",
        "print(classification_report(y_test, y_pred,digits=4))\n",
        "print(confusion_matrix(y_test, y_pred))"
      ]
    },
    {
      "cell_type": "code",
      "source": [
        "print(matthews_corrcoef(y_test, y_pred))"
      ],
      "metadata": {
        "id": "i-vQ_buPokHM",
        "colab": {
          "base_uri": "https://localhost:8080/"
        },
        "outputId": "8ab948d1-8ff5-48ab-d848-b932e4c00920"
      },
      "execution_count": null,
      "outputs": [
        {
          "output_type": "stream",
          "name": "stdout",
          "text": [
            "0.545954886784818\n"
          ]
        }
      ]
    },
    {
      "cell_type": "code",
      "source": [
        "print(specificity(y_test, y_pred)) "
      ],
      "metadata": {
        "id": "a4eBiGtdosB4",
        "colab": {
          "base_uri": "https://localhost:8080/"
        },
        "outputId": "d6ae7147-e932-4fd6-b728-12042f7b2eec"
      },
      "execution_count": null,
      "outputs": [
        {
          "output_type": "stream",
          "name": "stdout",
          "text": [
            "0.9771052631578945\n"
          ]
        }
      ]
    },
    {
      "cell_type": "markdown",
      "metadata": {
        "id": "M4mhpqpKhQZg"
      },
      "source": [
        "# LDA"
      ]
    },
    {
      "cell_type": "markdown",
      "metadata": {
        "id": "zStmGeCYexo0"
      },
      "source": [
        "## Extracción de caracteristicas "
      ]
    },
    {
      "cell_type": "code",
      "execution_count": null,
      "metadata": {
        "id": "3SX9bvwye2lZ"
      },
      "outputs": [],
      "source": [
        "lda = LDA(n_components=19)\n",
        "X_train = lda.fit_transform(train_data, y_train)\n",
        "train_data_LDA = lda.transform(train_data)\n",
        "test_data_LDA = lda.transform(test_data)"
      ]
    },
    {
      "cell_type": "markdown",
      "metadata": {
        "id": "r6Z5IplFiYbL"
      },
      "source": [
        "## SVM"
      ]
    },
    {
      "cell_type": "code",
      "execution_count": null,
      "metadata": {
        "id": "TIpDL93BiJyY",
        "colab": {
          "base_uri": "https://localhost:8080/"
        },
        "outputId": "191b34aa-8e44-4708-ba28-7e19544bfcb2"
      },
      "outputs": [
        {
          "output_type": "stream",
          "name": "stdout",
          "text": [
            "Best estimator found by grid search:\n",
            "SVC(C=1000.0, class_weight='balanced', gamma=0.01)\n"
          ]
        }
      ],
      "source": [
        "clf_lda_svm = GridSearchCV(\n",
        "    SVC(kernel='rbf', class_weight='balanced'), param_grid\n",
        ")\n",
        "clf_lda_svm = clf_lda_svm.fit(train_data_LDA,y_train )\n",
        "\n",
        "print(\"Best estimator found by grid search:\")\n",
        "print(clf_lda_svm.best_estimator_)"
      ]
    },
    {
      "cell_type": "code",
      "execution_count": null,
      "metadata": {
        "id": "FwdX6xQWiepv",
        "colab": {
          "base_uri": "https://localhost:8080/"
        },
        "outputId": "ba5d4c01-1282-40b3-e064-ecce2e4728f7"
      },
      "outputs": [
        {
          "output_type": "stream",
          "name": "stdout",
          "text": [
            "              precision    recall  f1-score   support\n",
            "\n",
            "           1     0.9762    0.8200    0.8913        50\n",
            "           2     0.7391    0.6800    0.7083        50\n",
            "           3     0.4474    0.6800    0.5397        50\n",
            "           4     0.9070    0.7800    0.8387        50\n",
            "           5     0.7500    0.4200    0.5385        50\n",
            "           6     0.7200    0.7200    0.7200        50\n",
            "           7     0.4286    0.8400    0.5676        50\n",
            "           8     0.4079    0.6200    0.4921        50\n",
            "           9     0.9688    0.6200    0.7561        50\n",
            "          10     0.7059    0.4800    0.5714        50\n",
            "          11     0.8409    0.7400    0.7872        50\n",
            "          12     0.4242    0.8400    0.5638        50\n",
            "          13     0.7619    0.3200    0.4507        50\n",
            "          14     0.4925    0.6600    0.5641        50\n",
            "          15     0.9722    0.7000    0.8140        50\n",
            "          16     0.5000    0.4000    0.4444        50\n",
            "          17     0.8387    0.5200    0.6420        50\n",
            "          18     0.7021    0.6600    0.6804        50\n",
            "          19     0.8462    0.6600    0.7416        50\n",
            "          20     0.7255    0.7400    0.7327        50\n",
            "\n",
            "    accuracy                         0.6450      1000\n",
            "   macro avg     0.7078    0.6450    0.6522      1000\n",
            "weighted avg     0.7078    0.6450    0.6522      1000\n",
            "\n"
          ]
        }
      ],
      "source": [
        "y_pred_lda_svm = clf_lda_svm.predict(test_data_LDA)\n",
        "report = classification_report(y_test, y_pred_lda_svm,digits=4,output_dict=True)\n",
        "df = pandas.DataFrame(report).transpose()\n",
        "df.to_excel(\"svmLDA.xlsx\")  \n",
        "print(classification_report(y_test, y_pred_lda_svm,digits=4))"
      ]
    },
    {
      "cell_type": "code",
      "source": [
        "print(matthews_corrcoef(y_test, y_pred_lda_svm))"
      ],
      "metadata": {
        "id": "VFtoyVb8s3Sn",
        "colab": {
          "base_uri": "https://localhost:8080/"
        },
        "outputId": "d8a5c44d-031c-409a-db07-282c242a80c1"
      },
      "execution_count": null,
      "outputs": [
        {
          "output_type": "stream",
          "name": "stdout",
          "text": [
            "0.6293720205711818\n"
          ]
        }
      ]
    },
    {
      "cell_type": "code",
      "source": [
        "print(specificity(y_test, y_pred_lda_svm)) "
      ],
      "metadata": {
        "id": "oXOjD31DtVlr",
        "colab": {
          "base_uri": "https://localhost:8080/"
        },
        "outputId": "ef6a0630-58ef-44dc-bf62-391bfdcb85a9"
      },
      "execution_count": null,
      "outputs": [
        {
          "output_type": "stream",
          "name": "stdout",
          "text": [
            "0.9813157894736839\n"
          ]
        }
      ]
    },
    {
      "cell_type": "markdown",
      "metadata": {
        "id": "neZeivofiZlo"
      },
      "source": [
        "## knn"
      ]
    },
    {
      "cell_type": "code",
      "execution_count": null,
      "metadata": {
        "id": "gHa4hEZLj6L_"
      },
      "outputs": [],
      "source": [
        "clf_LDA_Knn_3 = KNeighborsClassifier(n_neighbors=3)"
      ]
    },
    {
      "cell_type": "code",
      "execution_count": null,
      "metadata": {
        "id": "huRH2xOokEGP"
      },
      "outputs": [],
      "source": [
        "clf_LDA_Knn_3 = clf_PCA_Knn_3.fit(train_data_LDA,y_train)"
      ]
    },
    {
      "cell_type": "code",
      "execution_count": null,
      "metadata": {
        "id": "8kouVFqGkHCv",
        "colab": {
          "base_uri": "https://localhost:8080/"
        },
        "outputId": "660bcb0a-3ad5-4c17-e85e-780c94d17fc4"
      },
      "outputs": [
        {
          "output_type": "stream",
          "name": "stdout",
          "text": [
            "              precision    recall  f1-score   support\n",
            "\n",
            "           1     0.9778    0.8800    0.9263        50\n",
            "           2     0.6491    0.7400    0.6916        50\n",
            "           3     0.5694    0.8200    0.6721        50\n",
            "           4     0.8400    0.8400    0.8400        50\n",
            "           5     0.7045    0.6200    0.6596        50\n",
            "           6     0.6333    0.7600    0.6909        50\n",
            "           7     0.8200    0.8200    0.8200        50\n",
            "           8     0.5455    0.6000    0.5714        50\n",
            "           9     0.8837    0.7600    0.8172        50\n",
            "          10     0.5800    0.5800    0.5800        50\n",
            "          11     0.8478    0.7800    0.8125        50\n",
            "          12     0.5616    0.8200    0.6667        50\n",
            "          13     0.7059    0.7200    0.7129        50\n",
            "          14     0.6522    0.6000    0.6250        50\n",
            "          15     0.9512    0.7800    0.8571        50\n",
            "          16     0.6750    0.5400    0.6000        50\n",
            "          17     0.7143    0.7000    0.7071        50\n",
            "          18     0.8049    0.6600    0.7253        50\n",
            "          19     0.9048    0.7600    0.8261        50\n",
            "          20     0.8000    0.7200    0.7579        50\n",
            "\n",
            "    accuracy                         0.7250      1000\n",
            "   macro avg     0.7411    0.7250    0.7280      1000\n",
            "weighted avg     0.7411    0.7250    0.7280      1000\n",
            "\n",
            "[[44  0  0  0  1  0  0  0  0  1  1  1  1  0  0  0  0  0  0  1]\n",
            " [ 0 37  2  0  1  0  0  1  0  0  0  3  3  0  0  2  0  0  1  0]\n",
            " [ 0  2 41  0  1  2  0  0  0  1  0  0  0  1  0  0  1  0  1  0]\n",
            " [ 0  0  0 42  0  1  1  0  1  0  2  1  0  0  0  0  0  1  0  1]\n",
            " [ 0  0  3  1 31  1  0  2  0  5  0  1  1  1  1  2  0  1  0  0]\n",
            " [ 0  1  2  0  1 38  0  2  0  0  0  3  0  0  0  0  1  0  0  2]\n",
            " [ 0  0  1  0  0  2 41  1  0  1  0  1  0  1  1  0  0  0  0  1]\n",
            " [ 0  2  3  0  1  2  0 30  0  2  0  2  2  0  0  1  1  3  1  0]\n",
            " [ 1  0  0  3  0  0  2  2 38  0  2  0  1  0  0  0  0  0  0  1]\n",
            " [ 0  1  6  0  0  1  0  5  0 29  0  1  0  3  0  2  2  0  0  0]\n",
            " [ 0  0  1  1  0  0  3  0  0  0 39  3  0  0  0  1  0  0  0  2]\n",
            " [ 0  2  1  0  0  1  0  0  0  0  0 41  1  0  0  2  1  0  1  0]\n",
            " [ 0  2  0  0  2  1  0  3  0  3  0  1 36  2  0  0  0  0  0  0]\n",
            " [ 0  2  6  1  0  2  0  2  0  3  0  1  1 30  0  0  1  0  0  1]\n",
            " [ 0  1  1  0  0  0  0  0  1  0  0  5  1  0 39  0  2  0  0  0]\n",
            " [ 0  1  2  0  1  5  1  0  0  1  0  2  3  4  0 27  1  2  0  0]\n",
            " [ 0  1  1  0  3  1  0  3  0  0  0  1  1  2  0  1 35  1  0  0]\n",
            " [ 0  2  0  1  1  2  0  3  0  4  0  2  0  0  0  1  1 33  0  0]\n",
            " [ 0  1  1  0  1  0  0  1  0  0  0  3  0  2  0  1  2  0 38  0]\n",
            " [ 0  2  1  1  0  1  2  0  3  0  2  1  0  0  0  0  1  0  0 36]]\n"
          ]
        }
      ],
      "source": [
        "y_pred = clf_LDA_Knn_3.predict(test_data_LDA)\n",
        "\n",
        "report = classification_report(y_test, y_pred,digits=4,output_dict=True)\n",
        "df = pandas.DataFrame(report).transpose()\n",
        "df.to_excel(\"knnLDA.xlsx\")  \n",
        "print(classification_report(y_test, y_pred,digits=4))\n",
        "print(confusion_matrix(y_test, y_pred))"
      ]
    },
    {
      "cell_type": "code",
      "source": [
        "print(matthews_corrcoef(y_test, y_pred))"
      ],
      "metadata": {
        "id": "erK7A5qZtrXp",
        "colab": {
          "base_uri": "https://localhost:8080/"
        },
        "outputId": "f81bf18a-e5da-4e52-9b7f-1c63e21c5a52"
      },
      "execution_count": null,
      "outputs": [
        {
          "output_type": "stream",
          "name": "stdout",
          "text": [
            "0.7111561550432962\n"
          ]
        }
      ]
    },
    {
      "cell_type": "code",
      "source": [
        "print(specificity(y_test, y_pred)) "
      ],
      "metadata": {
        "id": "yAxV-RPDvBJK",
        "colab": {
          "base_uri": "https://localhost:8080/"
        },
        "outputId": "ec623d77-cee3-488e-c8c9-b8423f476420"
      },
      "execution_count": null,
      "outputs": [
        {
          "output_type": "stream",
          "name": "stdout",
          "text": [
            "0.9855263157894736\n"
          ]
        }
      ]
    },
    {
      "cell_type": "markdown",
      "metadata": {
        "id": "zW9tSFYmib3X"
      },
      "source": [
        "## Gauss"
      ]
    },
    {
      "cell_type": "code",
      "execution_count": null,
      "metadata": {
        "id": "hbApsO2ila8P"
      },
      "outputs": [],
      "source": [
        "clf_LDA_Gauss = GaussianNB()"
      ]
    },
    {
      "cell_type": "code",
      "execution_count": null,
      "metadata": {
        "id": "T5BXcCJ-lasn"
      },
      "outputs": [],
      "source": [
        "clf_LDA_Gauss = clf_LDA_Gauss.fit(train_data_LDA,y_train)"
      ]
    },
    {
      "cell_type": "code",
      "execution_count": null,
      "metadata": {
        "id": "xfLG8morj6if",
        "colab": {
          "base_uri": "https://localhost:8080/"
        },
        "outputId": "370287b1-2496-43e9-849d-2ac12d567991"
      },
      "outputs": [
        {
          "output_type": "stream",
          "name": "stdout",
          "text": [
            "              precision    recall  f1-score   support\n",
            "\n",
            "           1     0.9744    0.7600    0.8539        50\n",
            "           2     0.8966    0.5200    0.6582        50\n",
            "           3     0.5395    0.8200    0.6508        50\n",
            "           4     1.0000    0.7000    0.8235        50\n",
            "           5     0.9000    0.3600    0.5143        50\n",
            "           6     0.8421    0.6400    0.7273        50\n",
            "           7     0.3382    0.9200    0.4946        50\n",
            "           8     0.5926    0.6400    0.6154        50\n",
            "           9     1.0000    0.4200    0.5915        50\n",
            "          10     0.8824    0.3000    0.4478        50\n",
            "          11     0.8750    0.7000    0.7778        50\n",
            "          12     0.2541    0.9200    0.3983        50\n",
            "          13     0.8824    0.3000    0.4478        50\n",
            "          14     0.3871    0.7200    0.5035        50\n",
            "          15     1.0000    0.5800    0.7342        50\n",
            "          16     0.9048    0.3800    0.5352        50\n",
            "          17     0.9474    0.3600    0.5217        50\n",
            "          18     0.9062    0.5800    0.7073        50\n",
            "          19     0.9730    0.7200    0.8276        50\n",
            "          20     0.5606    0.7400    0.6379        50\n",
            "\n",
            "    accuracy                         0.6040      1000\n",
            "   macro avg     0.7828    0.6040    0.6234      1000\n",
            "weighted avg     0.7828    0.6040    0.6234      1000\n",
            "\n",
            "[[38  0  1  0  0  0  5  0  0  0  1  4  0  0  0  0  0  0  0  1]\n",
            " [ 0 26  3  0  1  0  1  1  0  0  0 11  1  5  0  0  0  0  0  1]\n",
            " [ 0  0 41  0  0  0  2  1  0  0  0  1  0  4  0  0  0  0  0  1]\n",
            " [ 0  0  0 35  0  0  9  0  0  0  2  2  0  0  0  0  0  0  0  2]\n",
            " [ 0  1  3  0 18  0  8  1  0  0  0 15  0  1  0  1  0  0  0  2]\n",
            " [ 0  0  2  0  0 32  1  1  0  0  0  8  0  4  0  0  0  0  0  2]\n",
            " [ 0  0  0  0  0  0 46  0  0  0  0  2  0  1  0  0  0  0  0  1]\n",
            " [ 0  0  3  0  1  1  2 32  0  0  0  8  0  2  0  0  0  0  0  1]\n",
            " [ 0  0  0  0  0  0 21  0 21  0  1  1  0  0  0  0  0  0  0  6]\n",
            " [ 0  0  4  0  0  1  1  4  0 15  0 14  0 10  0  0  1  0  0  0]\n",
            " [ 0  0  0  0  0  0  8  0  0  0 35  4  0  0  0  0  0  0  0  3]\n",
            " [ 0  0  0  0  0  0  1  0  0  0  0 46  0  2  0  1  0  0  0  0]\n",
            " [ 0  2  0  0  0  0  1  4  0  0  0 17 15 11  0  0  0  0  0  0]\n",
            " [ 0  0  4  0  0  0  2  3  0  0  0  3  0 36  0  0  0  0  1  1]\n",
            " [ 1  0  0  0  0  0  6  0  0  0  0 10  0  0 29  0  0  0  0  4]\n",
            " [ 0  0  4  0  0  2  7  1  0  0  0  6  0  8  0 19  0  2  0  1]\n",
            " [ 0  0  7  0  0  0  5  3  0  0  0  8  1  6  0  0 18  1  0  1]\n",
            " [ 0  0  2  0  0  2  3  1  0  2  0  9  0  0  0  0  0 29  0  2]\n",
            " [ 0  0  2  0  0  0  0  2  0  0  0  7  0  3  0  0  0  0 36  0]\n",
            " [ 0  0  0  0  0  0  7  0  0  0  1  5  0  0  0  0  0  0  0 37]]\n"
          ]
        }
      ],
      "source": [
        "y_pred = clf_LDA_Gauss.predict(test_data_LDA)\n",
        "\n",
        "report = classification_report(y_test, y_pred,digits=4,output_dict=True)\n",
        "df = pandas.DataFrame(report).transpose()\n",
        "df.to_excel(\"gaussLDA.xlsx\") \n",
        "print(classification_report(y_test, y_pred,digits=4))\n",
        "print(confusion_matrix(y_test, y_pred))"
      ]
    },
    {
      "cell_type": "code",
      "source": [
        "print(matthews_corrcoef(y_test, y_pred))"
      ],
      "metadata": {
        "id": "nlAtXXssvxwp",
        "colab": {
          "base_uri": "https://localhost:8080/"
        },
        "outputId": "e1e6e3a3-8196-4146-9b42-7f36e813c033"
      },
      "execution_count": null,
      "outputs": [
        {
          "output_type": "stream",
          "name": "stdout",
          "text": [
            "0.5942195115708553\n"
          ]
        }
      ]
    },
    {
      "cell_type": "code",
      "source": [
        "print(specificity(y_test, y_pred)) "
      ],
      "metadata": {
        "id": "7JmMvKhdvyIz",
        "colab": {
          "base_uri": "https://localhost:8080/"
        },
        "outputId": "d2caac73-3403-413b-ab43-a42b9372c643"
      },
      "execution_count": null,
      "outputs": [
        {
          "output_type": "stream",
          "name": "stdout",
          "text": [
            "0.9791578947368421\n"
          ]
        }
      ]
    },
    {
      "cell_type": "markdown",
      "source": [
        "# Carga de datos 2"
      ],
      "metadata": {
        "id": "kQFvcR40QAQ8"
      }
    },
    {
      "cell_type": "code",
      "source": [
        "path = \"/content/drive/MyDrive/Universidad - Ingeniería Electrónica/10 Semestre/Trabajo de Grado II/datasets/datasetVGG/4-Asian Indian/train\"\n",
        "\n",
        "list_people = os.listdir(path)\n",
        "\n",
        "type_file = \"*.jpg\"\n",
        "\n",
        "cont = 0\n",
        "cont2 = 0\n",
        "\n",
        "for k in list_people:\n",
        "    \n",
        "    path_image = path + \"/\" + k\n",
        "    list_jpg = glob.glob(path_image + os.sep + type_file)\n",
        "    \n",
        "    cont += len(list_jpg)\n",
        "    \n",
        "print(\"El número de muestras: \",cont)\n",
        "\n",
        "train_data = np.zeros((cont,192,168,2))\n",
        "train_data = train_data.astype('float32')\n",
        "\n",
        "y_train = np.zeros(cont)\n",
        "y_train = y_train.astype('int8')\n",
        "\n",
        "\n",
        "for i in list_people:\n",
        "    \n",
        "    #print(i)\n",
        "    \n",
        "    path_image = path + \"/\" + i\n",
        "    \n",
        "    list_jpg = glob.glob(path_image + os.sep + type_file)\n",
        "    \n",
        "    for j in list_jpg:\n",
        "        \n",
        "        image = cv2.imread(j, cv2.IMREAD_COLOR)\n",
        "        image = cv2.cvtColor(image, cv2.COLOR_BGR2HSV)\n",
        "        image = cv2.resize(image, (168,192))\n",
        "        H,S,V = cv2.split(image)\n",
        "        image_merge = np.zeros((192,168,2))\n",
        "        image_merge[:,:,0] = S\n",
        "        image_merge[:,:,1] = V\n",
        "        train_data[cont2] += image_merge \n",
        "\n",
        "        y_train[cont2] = i[-2] + i[-1]\n",
        "\n",
        "        #print(y_train[cont2])\n",
        "        cont2 += 1\n",
        "\n",
        "#print(y_train)"
      ],
      "metadata": {
        "colab": {
          "base_uri": "https://localhost:8080/"
        },
        "id": "fgayp8lYPwTs",
        "outputId": "771f9a49-342f-476f-a4e8-369f5de1d425"
      },
      "execution_count": null,
      "outputs": [
        {
          "output_type": "stream",
          "name": "stdout",
          "text": [
            "El número de muestras:  2696\n"
          ]
        }
      ]
    },
    {
      "cell_type": "code",
      "source": [
        "path = \"/content/drive/MyDrive/Universidad - Ingeniería Electrónica/10 Semestre/Trabajo de Grado II/datasets/datasetVGG/4-Asian Indian/test\"\n",
        "\n",
        "list_people = os.listdir(path)\n",
        "\n",
        "subcadena = \"yaleB\" #la subcadena que queremos localizar\n",
        "type_file = \"*.jpg\"\n",
        "\n",
        "cont = 0\n",
        "cont2 = 0\n",
        "\n",
        "for k in list_people:\n",
        "    \n",
        "    path_image = path + \"/\" + k\n",
        "    list_jpg = glob.glob(path_image + os.sep + type_file)\n",
        "    \n",
        "    cont += len(list_jpg)\n",
        "    \n",
        "print(\"El número de muestras: \",cont)\n",
        "\n",
        "test_data = np.zeros((cont,192,168,2))\n",
        "test_data = test_data.astype('float32')\n",
        "\n",
        "y_test = np.zeros(cont)\n",
        "y_test = y_test.astype('int8')\n",
        "\n",
        "\n",
        "for i in list_people:\n",
        "    \n",
        "    #print(i)\n",
        "    \n",
        "    path_image = path + \"/\" + i\n",
        "    \n",
        "    list_jpg = glob.glob(path_image + os.sep + type_file)\n",
        "    \n",
        "    for j in list_jpg:\n",
        "        \n",
        "        image = cv2.imread(j, cv2.IMREAD_COLOR)\n",
        "        image = cv2.cvtColor(image, cv2.COLOR_BGR2HSV)\n",
        "        image = cv2.resize(image, (168,192))\n",
        "        H,S,V = cv2.split(image)\n",
        "        image_merge = np.zeros((192,168,2))\n",
        "        image_merge[:,:,0] = S\n",
        "        image_merge[:,:,1] = V\n",
        "        \n",
        "\n",
        "        test_data[cont2] += image_merge \n",
        "\n",
        "        y_test[cont2] = i[-2] + i[-1]\n",
        "        #print(y_train[cont2])\n",
        "        cont2 += 1\n",
        "\n",
        "#print(y_train)"
      ],
      "metadata": {
        "colab": {
          "base_uri": "https://localhost:8080/"
        },
        "id": "Iz6m4JnPPxKM",
        "outputId": "f4383784-6000-4b9b-f0b0-0999cb251dde"
      },
      "execution_count": null,
      "outputs": [
        {
          "output_type": "stream",
          "name": "stdout",
          "text": [
            "El número de muestras:  1000\n"
          ]
        }
      ]
    },
    {
      "cell_type": "markdown",
      "source": [
        "# Separar datos en train y test"
      ],
      "metadata": {
        "id": "hllo2PNgglaw"
      }
    },
    {
      "cell_type": "code",
      "source": [
        "nsamples, nx, ny, chanels = train_data.shape\n",
        "\n",
        "train_data = train_data.reshape((nsamples,nx*ny*chanels))\n",
        "\n",
        "X_sparse = coo_matrix(train_data)\n",
        "\n",
        "train_data, X_sparse, y_train = shuffle(train_data, X_sparse,y_train, random_state=0)\n",
        "\n",
        "train_data = train_data.reshape((nsamples,nx,ny,chanels))"
      ],
      "metadata": {
        "id": "WEDfENoqS_Fd"
      },
      "execution_count": null,
      "outputs": []
    },
    {
      "cell_type": "code",
      "source": [
        "nsamples, nx, ny, chanels = test_data.shape\n",
        "\n",
        "test_data = test_data.reshape((nsamples,nx*ny*chanels))\n",
        "\n",
        "X_sparse = coo_matrix(test_data)\n",
        "\n",
        "test_data, X_sparse, y_test = shuffle(test_data, X_sparse,y_test, random_state=0)\n",
        "\n",
        "test_data = test_data.reshape((nsamples,nx,ny,chanels))"
      ],
      "metadata": {
        "id": "AdP1-OY6TAyV"
      },
      "execution_count": null,
      "outputs": []
    },
    {
      "cell_type": "code",
      "source": [
        "train_data = train_data.astype(\"uint8\")\n",
        "nsamples1, nx1, ny1, chanels = train_data.shape\n",
        "train_data = train_data.reshape((nsamples1,nx1*ny1*chanels))\n",
        "train_data = train_data/255\n",
        "\n",
        "test_data = test_data.astype(\"uint8\")\n",
        "nsamples, nx, ny, chanels = test_data.shape\n",
        "test_data = test_data.reshape((nsamples,nx*ny*chanels))\n",
        "test_data = test_data/255"
      ],
      "metadata": {
        "id": "83dpWmjiTFhl"
      },
      "execution_count": null,
      "outputs": []
    },
    {
      "cell_type": "code",
      "source": [
        "train_data = train_data.reshape((nsamples1,nx1,ny1,chanels))\n",
        "test_data = test_data.reshape((nsamples,nx,ny,chanels))"
      ],
      "metadata": {
        "id": "3633DraNOGFM"
      },
      "execution_count": null,
      "outputs": []
    },
    {
      "cell_type": "code",
      "source": [
        "train_data_S = np.zeros((nsamples1,192,168))\n",
        "train_data_S = train_data[:,:,:,0]\n",
        "train_data_V = np.zeros((nsamples1,192,168))\n",
        "train_data_V = train_data[:,:,:,1]\n",
        "\n",
        "test_data_S = np.zeros((nsamples,192,168))\n",
        "test_data_S = test_data[:,:,:,0]\n",
        "test_data_V = np.zeros((nsamples1,192,168))\n",
        "test_data_V = test_data[:,:,:,1]"
      ],
      "metadata": {
        "id": "tAq_nZOmUPS0"
      },
      "execution_count": null,
      "outputs": []
    },
    {
      "cell_type": "markdown",
      "metadata": {
        "id": "Z9vr5iFJhIYn"
      },
      "source": [
        "# LBP\n"
      ]
    },
    {
      "cell_type": "markdown",
      "metadata": {
        "id": "iEjHzUokc5XS"
      },
      "source": [
        "## Extracción de caracteristicas"
      ]
    },
    {
      "cell_type": "code",
      "execution_count": null,
      "metadata": {
        "id": "ypckBUmSbQ2e"
      },
      "outputs": [],
      "source": [
        "# https://github.com/AsoStrife/Computer-Vision-Project\n",
        "\n",
        "def blockshaped(arr, nrows, ncols):\n",
        "\n",
        "    h, w = arr.shape\n",
        "    return (arr.reshape(h//nrows, nrows, -1, ncols)\n",
        "            .swapaxes(1,2)\n",
        "            .reshape(-1, nrows, ncols))\n",
        "def getHistogram(imgArray):\n",
        "    hist, bin_edges = np.histogram(imgArray, density=True)\n",
        "    return hist"
      ]
    },
    {
      "cell_type": "code",
      "execution_count": null,
      "metadata": {
        "colab": {
          "base_uri": "https://localhost:8080/"
        },
        "id": "uWLgW0UmdDsS",
        "outputId": "a0ed1d24-294e-4bce-8340-fd27cd5145f9"
      },
      "outputs": [
        {
          "output_type": "stream",
          "name": "stdout",
          "text": [
            "1000\n"
          ]
        }
      ],
      "source": [
        "# tamaño de train y test\n",
        "cont_train = train_data.shape[0]\n",
        "cont_test = test_data.shape[0]\n",
        "print(cont_test)"
      ]
    },
    {
      "cell_type": "code",
      "execution_count": null,
      "metadata": {
        "id": "8PcaXjhSc_zZ"
      },
      "outputs": [],
      "source": [
        "#train_data_LBP = train_data.reshape((cont_train,nx,ny))\n",
        "lbp_feactures  = np.zeros((cont_train,nx,ny))\n",
        "\n",
        "eps = 1e-7\n",
        "radius = 1\n",
        "n_points = 8 * radius\n",
        "\n",
        "lbp_hist_S = np.zeros((cont_train,1440))\n",
        "\n",
        "for i in range(0,cont_train): \n",
        "    lbp = feature.local_binary_pattern(train_data_S[i], n_points, radius)\n",
        "    lbp_feactures[i] +=  lbp\n",
        "    \n",
        "    shaped = blockshaped(lbp_feactures[i], 16, 14)\n",
        "    x = []\n",
        "    xBlocks = []\n",
        "    for s in shaped:\n",
        "        xBlocks.append(getHistogram(s))\n",
        "    # Concatenate the various histogram, the resulting histogram is append into feature vector\n",
        "    x.append(np.concatenate(xBlocks))\n",
        "    \n",
        "    lbp_hist_S[i] += x[0]"
      ]
    },
    {
      "cell_type": "code",
      "execution_count": null,
      "metadata": {
        "id": "Rr_TzQibU1IM"
      },
      "outputs": [],
      "source": [
        "#train_data_LBP = train_data.reshape((cont_train,nx,ny))\n",
        "lbp_feactures  = np.zeros((cont_train,nx,ny))\n",
        "\n",
        "eps = 1e-7\n",
        "radius = 1\n",
        "n_points = 8 * radius\n",
        "\n",
        "lbp_hist_V = np.zeros((cont_train,1440))\n",
        "\n",
        "for i in range(0,cont_train): \n",
        "    lbp = feature.local_binary_pattern(train_data_V[i], n_points, radius)\n",
        "    lbp_feactures[i] +=  lbp\n",
        "    \n",
        "    shaped = blockshaped(lbp_feactures[i], 16, 14)\n",
        "    x = []\n",
        "    xBlocks = []\n",
        "    for s in shaped:\n",
        "        xBlocks.append(getHistogram(s))\n",
        "    # Concatenate the various histogram, the resulting histogram is append into feature vector\n",
        "    x.append(np.concatenate(xBlocks))\n",
        "    \n",
        "    lbp_hist_V[i] += x[0]"
      ]
    },
    {
      "cell_type": "code",
      "execution_count": null,
      "metadata": {
        "id": "8zCECTEndbYp"
      },
      "outputs": [],
      "source": [
        "#test_data_LBP = test_data.reshape((cont_test,nx,ny))\n",
        "lbp_feactures_test  = np.zeros((cont_test,nx,ny))\n",
        "\n",
        "\n",
        "lbp_hist_test_S = np.zeros((cont_test,1440))\n",
        "\n",
        "for i in range(0,cont_test): \n",
        "    lbp = feature.local_binary_pattern(test_data_S[i], n_points, radius)\n",
        "    lbp_feactures_test[i] +=  lbp\n",
        "    \n",
        "    shaped = blockshaped(lbp_feactures_test[i], 16, 14)\n",
        "    x = []\n",
        "    xBlocks = []\n",
        "    for s in shaped:\n",
        "        xBlocks.append(getHistogram(s))\n",
        "    # Concatenate the various histogram, the resulting histogram is append into feature vector\n",
        "    x.append(np.concatenate(xBlocks))\n",
        "    \n",
        "    lbp_hist_test_S[i] += x[0]\n",
        "    "
      ]
    },
    {
      "cell_type": "code",
      "execution_count": null,
      "metadata": {
        "id": "ESTzVdhBVYEU"
      },
      "outputs": [],
      "source": [
        "#test_data_LBP = test_data.reshape((cont_test,nx,ny))\n",
        "lbp_feactures_test  = np.zeros((cont_test,nx,ny))\n",
        "\n",
        "\n",
        "lbp_hist_test_V = np.zeros((cont_test,1440))\n",
        "\n",
        "for i in range(0,cont_test): \n",
        "    lbp = feature.local_binary_pattern(test_data_V[i], n_points, radius)\n",
        "    lbp_feactures_test[i] +=  lbp\n",
        "    \n",
        "    shaped = blockshaped(lbp_feactures_test[i], 16, 14)\n",
        "    x = []\n",
        "    xBlocks = []\n",
        "    for s in shaped:\n",
        "        xBlocks.append(getHistogram(s))\n",
        "    # Concatenate the various histogram, the resulting histogram is append into feature vector\n",
        "    x.append(np.concatenate(xBlocks))\n",
        "    \n",
        "    lbp_hist_test_V[i] += x[0]\n",
        "    "
      ]
    },
    {
      "cell_type": "code",
      "execution_count": null,
      "metadata": {
        "colab": {
          "base_uri": "https://localhost:8080/"
        },
        "id": "PpSnw-5ZWLn7",
        "outputId": "e94f4391-4364-45e6-eead-42a4976f6460"
      },
      "outputs": [
        {
          "output_type": "execute_result",
          "data": {
            "text/plain": [
              "(1000, 1440)"
            ]
          },
          "metadata": {},
          "execution_count": 51
        }
      ],
      "source": [
        "lbp_hist_test_V.shape"
      ]
    },
    {
      "cell_type": "code",
      "execution_count": null,
      "metadata": {
        "colab": {
          "base_uri": "https://localhost:8080/"
        },
        "id": "7Rfnt2fEZK1e",
        "outputId": "8312db30-022e-48dd-a769-3a7a9a12424f"
      },
      "outputs": [
        {
          "output_type": "execute_result",
          "data": {
            "text/plain": [
              "(2696, 2880)"
            ]
          },
          "metadata": {},
          "execution_count": 52
        }
      ],
      "source": [
        "lbp_hist = np.concatenate((lbp_hist_S,lbp_hist_V),axis=1)\n",
        "lbp_hist.shape"
      ]
    },
    {
      "cell_type": "code",
      "execution_count": null,
      "metadata": {
        "colab": {
          "base_uri": "https://localhost:8080/"
        },
        "id": "c-WYwnMqZ5vU",
        "outputId": "9556e498-5ea1-4e84-e964-a1100d7b095f"
      },
      "outputs": [
        {
          "output_type": "execute_result",
          "data": {
            "text/plain": [
              "(1000, 2880)"
            ]
          },
          "metadata": {},
          "execution_count": 53
        }
      ],
      "source": [
        "lbp_hist_test = np.concatenate((lbp_hist_test_S,lbp_hist_test_V),axis=1)\n",
        "lbp_hist_test.shape"
      ]
    },
    {
      "cell_type": "markdown",
      "metadata": {
        "id": "K1xiJKp7dddK"
      },
      "source": [
        "## SMV"
      ]
    },
    {
      "cell_type": "code",
      "execution_count": null,
      "metadata": {
        "colab": {
          "base_uri": "https://localhost:8080/"
        },
        "id": "Ku9VLQzddotZ",
        "outputId": "53e1e7c6-07c7-4568-f6ca-6d0ed4e98bea"
      },
      "outputs": [
        {
          "output_type": "stream",
          "name": "stdout",
          "text": [
            "El mejor conjunto de caracteriticas es: \n",
            "SVC(C=50000.0, class_weight='balanced', gamma=0.001)\n"
          ]
        }
      ],
      "source": [
        "param_grid = {'C': [1e3, 5e3, 1e4, 5e4, 1e5],\n",
        "              'gamma': [0.0001, 0.0005, 0.001, 0.005, 0.01, 0.1], }\n",
        "clf_lbp_svm = GridSearchCV(\n",
        "    SVC(kernel='rbf', class_weight='balanced'), param_grid\n",
        ")\n",
        "clf_lbp_svm = clf_lbp_svm.fit(lbp_hist,y_train )\n",
        "\n",
        "print(\"El mejor conjunto de caracteriticas es: \")\n",
        "print(clf_lbp_svm.best_estimator_)"
      ]
    },
    {
      "cell_type": "code",
      "execution_count": null,
      "metadata": {
        "id": "G6J--DVJd_Xq",
        "colab": {
          "base_uri": "https://localhost:8080/"
        },
        "outputId": "bda4ecf2-b69b-4088-b09b-010e1741b0a4"
      },
      "outputs": [
        {
          "output_type": "stream",
          "name": "stdout",
          "text": [
            "              precision    recall  f1-score   support\n",
            "\n",
            "           1     0.9302    0.8000    0.8602        50\n",
            "           2     0.7917    0.7600    0.7755        50\n",
            "           3     0.7636    0.8400    0.8000        50\n",
            "           4     0.8571    0.9600    0.9057        50\n",
            "           5     0.8542    0.8200    0.8367        50\n",
            "           6     0.6557    0.8000    0.7207        50\n",
            "           7     0.7885    0.8200    0.8039        50\n",
            "           8     0.7955    0.7000    0.7447        50\n",
            "           9     0.8846    0.9200    0.9020        50\n",
            "          10     0.8000    0.8000    0.8000        50\n",
            "          11     0.8571    0.8400    0.8485        50\n",
            "          12     0.7736    0.8200    0.7961        50\n",
            "          13     0.7755    0.7600    0.7677        50\n",
            "          14     0.7115    0.7400    0.7255        50\n",
            "          15     0.9375    0.9000    0.9184        50\n",
            "          16     0.7358    0.7800    0.7573        50\n",
            "          17     0.7778    0.8400    0.8077        50\n",
            "          18     0.8571    0.7200    0.7826        50\n",
            "          19     0.9167    0.8800    0.8980        50\n",
            "          20     0.8837    0.7600    0.8172        50\n",
            "\n",
            "    accuracy                         0.8130      1000\n",
            "   macro avg     0.8174    0.8130    0.8134      1000\n",
            "weighted avg     0.8174    0.8130    0.8134      1000\n",
            "\n"
          ]
        }
      ],
      "source": [
        "y_pred_lbp_svm = clf_lbp_svm.predict(lbp_hist_test)\n",
        "\n",
        "report = classification_report(y_test, y_pred_lbp_svm,digits=4,output_dict=True)\n",
        "df = pandas.DataFrame(report).transpose()\n",
        "df.to_excel(\"svmLBP.xlsx\")\n",
        "print(classification_report(y_test, y_pred_lbp_svm,digits=4))"
      ]
    },
    {
      "cell_type": "code",
      "source": [
        "print(matthews_corrcoef(y_test, y_pred_lbp_svm))"
      ],
      "metadata": {
        "colab": {
          "base_uri": "https://localhost:8080/"
        },
        "id": "kWzp6SvkwhKZ",
        "outputId": "1157e8d5-cbaf-4cc9-c017-006f96e21138"
      },
      "execution_count": null,
      "outputs": [
        {
          "output_type": "stream",
          "name": "stdout",
          "text": [
            "0.8033456458696784\n"
          ]
        }
      ]
    },
    {
      "cell_type": "code",
      "source": [
        "print(specificity(y_test, y_pred_lbp_svm)) "
      ],
      "metadata": {
        "colab": {
          "base_uri": "https://localhost:8080/"
        },
        "id": "IWvNE8DyxsjN",
        "outputId": "edd81a74-3f3d-4e8b-8376-02d05f118346"
      },
      "execution_count": null,
      "outputs": [
        {
          "output_type": "stream",
          "name": "stdout",
          "text": [
            "0.9901578947368421\n"
          ]
        }
      ]
    },
    {
      "cell_type": "markdown",
      "metadata": {
        "id": "_aqb1aHSdfmJ"
      },
      "source": [
        "## KNN"
      ]
    },
    {
      "cell_type": "code",
      "execution_count": null,
      "metadata": {
        "id": "8q8SsMOReW40"
      },
      "outputs": [],
      "source": [
        "clf_lbp_Kn_3 = KNeighborsClassifier(n_neighbors=7)"
      ]
    },
    {
      "cell_type": "code",
      "execution_count": null,
      "metadata": {
        "id": "7ujXF4D9eUQ4"
      },
      "outputs": [],
      "source": [
        "clf_lbp_Kn_3 = clf_lbp_Kn_3.fit(lbp_hist,y_train)"
      ]
    },
    {
      "cell_type": "code",
      "execution_count": null,
      "metadata": {
        "id": "dVA2n3uZeVXL",
        "colab": {
          "base_uri": "https://localhost:8080/"
        },
        "outputId": "13603fc6-b3c2-4eee-b0d1-6407635bf35c"
      },
      "outputs": [
        {
          "output_type": "stream",
          "name": "stdout",
          "text": [
            "              precision    recall  f1-score   support\n",
            "\n",
            "           1     0.3860    0.8800    0.5366        50\n",
            "           2     0.4681    0.4400    0.4536        50\n",
            "           3     0.3117    0.4800    0.3780        50\n",
            "           4     0.7547    0.8000    0.7767        50\n",
            "           5     0.6000    0.6000    0.6000        50\n",
            "           6     0.4444    0.4800    0.4615        50\n",
            "           7     0.6250    0.4000    0.4878        50\n",
            "           8     0.5610    0.4600    0.5055        50\n",
            "           9     0.6600    0.6600    0.6600        50\n",
            "          10     0.4894    0.4600    0.4742        50\n",
            "          11     0.8148    0.4400    0.5714        50\n",
            "          12     0.6087    0.2800    0.3836        50\n",
            "          13     0.3171    0.5200    0.3939        50\n",
            "          14     0.3750    0.1800    0.2432        50\n",
            "          15     0.8889    0.6400    0.7442        50\n",
            "          16     0.4603    0.5800    0.5133        50\n",
            "          17     0.3077    0.6400    0.4156        50\n",
            "          18     0.5417    0.2600    0.3514        50\n",
            "          19     0.4865    0.3600    0.4138        50\n",
            "          20     0.4667    0.1400    0.2154        50\n",
            "\n",
            "    accuracy                         0.4850      1000\n",
            "   macro avg     0.5284    0.4850    0.4790      1000\n",
            "weighted avg     0.5284    0.4850    0.4790      1000\n",
            "\n"
          ]
        }
      ],
      "source": [
        "y_pred_lbp_knn = clf_lbp_Kn_3.predict(lbp_hist_test)\n",
        "\n",
        "report = classification_report(y_test, y_pred_lbp_knn,digits=4,output_dict=True)\n",
        "df = pandas.DataFrame(report).transpose()                   \n",
        "df.to_excel(\"knnLBP.xlsx\")  \n",
        "print(classification_report(y_test, y_pred_lbp_knn,digits=4))"
      ]
    },
    {
      "cell_type": "code",
      "source": [
        "print(matthews_corrcoef(y_test, y_pred_lbp_knn))"
      ],
      "metadata": {
        "colab": {
          "base_uri": "https://localhost:8080/"
        },
        "id": "FrElL2orx7ps",
        "outputId": "d3e30800-132c-4263-884e-58499c8a0931"
      },
      "execution_count": null,
      "outputs": [
        {
          "output_type": "stream",
          "name": "stdout",
          "text": [
            "0.4612034822508878\n"
          ]
        }
      ]
    },
    {
      "cell_type": "code",
      "source": [
        "print(specificity(y_test, y_pred_lbp_knn))  "
      ],
      "metadata": {
        "colab": {
          "base_uri": "https://localhost:8080/"
        },
        "id": "aS2CynNex77C",
        "outputId": "3e6fdde3-f1c9-4028-db6c-3f25eafd655e"
      },
      "execution_count": null,
      "outputs": [
        {
          "output_type": "stream",
          "name": "stdout",
          "text": [
            "0.9728947368421054\n"
          ]
        }
      ]
    },
    {
      "cell_type": "markdown",
      "metadata": {
        "id": "1x5pfWiMdhhJ"
      },
      "source": [
        "## Gauss"
      ]
    },
    {
      "cell_type": "code",
      "execution_count": null,
      "metadata": {
        "id": "TgW5wWUMdVUb"
      },
      "outputs": [],
      "source": [
        "clf_lbp_Gauss = GaussianNB()"
      ]
    },
    {
      "cell_type": "code",
      "execution_count": null,
      "metadata": {
        "id": "uDVEpzvLejdJ"
      },
      "outputs": [],
      "source": [
        "clf_lbp_Gauss = clf_lbp_Gauss.fit(lbp_hist,y_train)"
      ]
    },
    {
      "cell_type": "code",
      "execution_count": null,
      "metadata": {
        "id": "g2sVNQZohfMZ",
        "colab": {
          "base_uri": "https://localhost:8080/"
        },
        "outputId": "c1d29a7f-3108-47f1-c0f0-82a260e2d630"
      },
      "outputs": [
        {
          "output_type": "stream",
          "name": "stdout",
          "text": [
            "              precision    recall  f1-score   support\n",
            "\n",
            "           1     0.5484    0.3400    0.4198        50\n",
            "           2     0.4737    0.3600    0.4091        50\n",
            "           3     0.4000    0.3600    0.3789        50\n",
            "           4     0.6341    0.5200    0.5714        50\n",
            "           5     0.3297    0.6000    0.4255        50\n",
            "           6     0.3333    0.2800    0.3043        50\n",
            "           7     0.5714    0.4800    0.5217        50\n",
            "           8     0.4783    0.2200    0.3014        50\n",
            "           9     0.6122    0.6000    0.6061        50\n",
            "          10     0.3182    0.1400    0.1944        50\n",
            "          11     0.5000    0.5000    0.5000        50\n",
            "          12     0.2899    0.4000    0.3361        50\n",
            "          13     0.3898    0.4600    0.4220        50\n",
            "          14     0.2321    0.2600    0.2453        50\n",
            "          15     0.7692    0.6000    0.6742        50\n",
            "          16     0.2941    0.2000    0.2381        50\n",
            "          17     0.2000    0.6600    0.3070        50\n",
            "          18     0.4118    0.2800    0.3333        50\n",
            "          19     0.2647    0.1800    0.2143        50\n",
            "          20     0.5000    0.3600    0.4186        50\n",
            "\n",
            "    accuracy                         0.3900      1000\n",
            "   macro avg     0.4275    0.3900    0.3911      1000\n",
            "weighted avg     0.4275    0.3900    0.3911      1000\n",
            "\n"
          ]
        }
      ],
      "source": [
        "y_pred_lbp_gaus = clf_lbp_Gauss.predict(lbp_hist_test)\n",
        "\n",
        "report = classification_report(y_test, y_pred_lbp_gaus,digits=4,output_dict=True)\n",
        "df = pandas.DataFrame(report).transpose()\n",
        "df.to_excel(\"gaussLBP.xlsx\")\n",
        "print(classification_report(y_test, y_pred_lbp_gaus,digits=4))"
      ]
    },
    {
      "cell_type": "code",
      "source": [
        "print(matthews_corrcoef(y_test, y_pred_lbp_gaus))"
      ],
      "metadata": {
        "colab": {
          "base_uri": "https://localhost:8080/"
        },
        "id": "0sK9uJlay2FA",
        "outputId": "5222ca2d-2917-47cd-c468-8ade5db8e6c5"
      },
      "execution_count": null,
      "outputs": [
        {
          "output_type": "stream",
          "name": "stdout",
          "text": [
            "0.3614743143559303\n"
          ]
        }
      ]
    },
    {
      "cell_type": "code",
      "source": [
        "print(specificity(y_test, y_pred_lbp_gaus)) "
      ],
      "metadata": {
        "colab": {
          "base_uri": "https://localhost:8080/"
        },
        "id": "k33fNDGcy7Wf",
        "outputId": "29b29d72-15f7-4017-f4e7-3026b7c4d2ff"
      },
      "execution_count": null,
      "outputs": [
        {
          "output_type": "stream",
          "name": "stdout",
          "text": [
            "0.9678947368421053\n"
          ]
        }
      ]
    }
  ]
}