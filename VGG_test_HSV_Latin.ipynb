{
  "nbformat": 4,
  "nbformat_minor": 0,
  "metadata": {
    "colab": {
      "provenance": [],
      "collapsed_sections": [
        "AmVHNheegbup",
        "JgoVNCeeP6QY",
        "kQFvcR40QAQ8",
        "2XNZTqCnidvs",
        "hllo2PNgglaw",
        "Z9vr5iFJhIYn",
        "K1xiJKp7dddK",
        "_aqb1aHSdfmJ",
        "1x5pfWiMdhhJ",
        "q7i0d5zQhLwP",
        "5qo3IFfuEiQx",
        "zgaL3Cm1SPOV",
        "M4mhpqpKhQZg",
        "r6Z5IplFiYbL",
        "neZeivofiZlo"
      ],
      "machine_shape": "hm"
    },
    "kernelspec": {
      "name": "python3",
      "display_name": "Python 3"
    },
    "language_info": {
      "name": "python"
    },
    "gpuClass": "standard"
  },
  "cells": [
    {
      "cell_type": "markdown",
      "source": [
        "# Cargar datos y librerias"
      ],
      "metadata": {
        "id": "AmVHNheegbup"
      }
    },
    {
      "cell_type": "code",
      "execution_count": null,
      "metadata": {
        "id": "I_C_HFw1Oqxk",
        "colab": {
          "base_uri": "https://localhost:8080/"
        },
        "outputId": "dc2ad886-48a3-4c2d-aa33-ce5aae32a708"
      },
      "outputs": [
        {
          "output_type": "stream",
          "name": "stdout",
          "text": [
            "Drive already mounted at /content/drive; to attempt to forcibly remount, call drive.mount(\"/content/drive\", force_remount=True).\n"
          ]
        }
      ],
      "source": [
        "from google.colab import drive\n",
        "drive.mount('/content/drive')"
      ]
    },
    {
      "cell_type": "code",
      "source": [
        "# Basic\n",
        "import numpy as np \n",
        "import pandas as pd \n",
        "import matplotlib.pyplot as plt\n",
        "from statistics import mode\n",
        "import os\n",
        "import glob\n",
        "import random\n",
        "import cv2\n",
        "\n",
        "from sklearn.svm import SVC\n",
        "from sklearn.model_selection import train_test_split\n",
        "from scipy.sparse import coo_matrix\n",
        "from sklearn.utils import shuffle\n",
        "\n",
        "import cv2\n",
        "# Features \n",
        "from sklearn.discriminant_analysis import LinearDiscriminantAnalysis as LDA\n",
        "from sklearn.decomposition import PCA\n",
        "from skimage import feature\n",
        "# Metrics \n",
        "from sklearn.metrics import classification_report\n",
        "from sklearn.metrics import accuracy_score #c alculate accuracy\n",
        "from sklearn.metrics import confusion_matrix, classification_report\n",
        "from sklearn.metrics import plot_confusion_matrix\n",
        "# Classifier\n",
        "from sklearn.naive_bayes import GaussianNB\n",
        "from sklearn.neighbors import KNeighborsClassifier\n",
        "from sklearn.model_selection import GridSearchCV\n",
        "from sklearn import svm\n",
        "#Save model\n",
        "import joblib  "
      ],
      "metadata": {
        "id": "KtqKOxPySqXV"
      },
      "execution_count": null,
      "outputs": []
    },
    {
      "cell_type": "markdown",
      "source": [
        "# Carga de datos 1"
      ],
      "metadata": {
        "id": "JgoVNCeeP6QY"
      }
    },
    {
      "cell_type": "code",
      "source": [
        "path = \"/content/drive/MyDrive/Universidad - Ingeniería Electrónica/10 Semestre/Trabajo de Grado II/datasets/datasetVGG/3-Caucasian Latin/train\"\n",
        "\n",
        "list_people = os.listdir(path)\n",
        "\n",
        "type_file = \"*.jpg\"\n",
        "\n",
        "cont = 0\n",
        "cont2 = 0\n",
        "\n",
        "for k in list_people:\n",
        "    \n",
        "    path_image = path + \"/\" + k\n",
        "    list_jpg = glob.glob(path_image + os.sep + type_file)\n",
        "    \n",
        "    cont += len(list_jpg)\n",
        "    \n",
        "print(\"El número de muestras: \",cont)\n",
        "\n",
        "train_data = np.zeros((cont,168*192*2))\n",
        "train_data = train_data.astype('float32')\n",
        "\n",
        "y_train = np.zeros(cont)\n",
        "y_train = y_train.astype('int8')\n",
        "\n",
        "\n",
        "for i in list_people:\n",
        "    \n",
        "    #print(i)\n",
        "    \n",
        "    path_image = path + \"/\" + i\n",
        "    \n",
        "    list_jpg = glob.glob(path_image + os.sep + type_file)\n",
        "    \n",
        "    for j in list_jpg:\n",
        "        \n",
        "        image = cv2.imread(j, cv2.IMREAD_COLOR)\n",
        "        image = cv2.cvtColor(image, cv2.COLOR_BGR2HSV)\n",
        "        image = cv2.resize(image, (168,192))\n",
        "        H,S,V = cv2.split(image)\n",
        "        image_merge = np.zeros((192,168,2))\n",
        "        image_merge[:,:,0] = S\n",
        "        image_merge[:,:,1] = V\n",
        "        image_merge = image_merge.ravel()\n",
        "        train_data[cont2] += image_merge \n",
        "\n",
        "        y_train[cont2] = i[-2] + i[-1]\n",
        "\n",
        "        #print(y_train[cont2])\n",
        "        cont2 += 1\n",
        "\n",
        "#print(y_train)"
      ],
      "metadata": {
        "colab": {
          "base_uri": "https://localhost:8080/"
        },
        "id": "yDZlteEXLltf",
        "outputId": "e56ce037-c1c4-46a7-c453-4adedd366751"
      },
      "execution_count": null,
      "outputs": [
        {
          "output_type": "stream",
          "name": "stdout",
          "text": [
            "El número de muestras:  2749\n"
          ]
        }
      ]
    },
    {
      "cell_type": "code",
      "source": [
        "path = \"/content/drive/MyDrive/Universidad - Ingeniería Electrónica/10 Semestre/Trabajo de Grado II/datasets/datasetVGG/3-Caucasian Latin/test\"\n",
        "\n",
        "list_people = os.listdir(path)\n",
        "\n",
        "subcadena = \"yaleB\" #la subcadena que queremos localizar\n",
        "type_file = \"*.jpg\"\n",
        "\n",
        "cont = 0\n",
        "cont2 = 0\n",
        "\n",
        "for k in list_people:\n",
        "    \n",
        "    path_image = path + \"/\" + k\n",
        "    list_jpg = glob.glob(path_image + os.sep + type_file)\n",
        "    \n",
        "    cont += len(list_jpg)\n",
        "    \n",
        "print(\"El número de muestras: \",cont)\n",
        "\n",
        "test_data = np.zeros((cont,168*192*2))\n",
        "test_data = test_data.astype('float32')\n",
        "\n",
        "y_test = np.zeros(cont)\n",
        "y_test = y_test.astype('int8')\n",
        "\n",
        "\n",
        "for i in list_people:\n",
        "    \n",
        "    #print(i)\n",
        "    \n",
        "    path_image = path + \"/\" + i\n",
        "    \n",
        "    list_jpg = glob.glob(path_image + os.sep + type_file)\n",
        "    \n",
        "    for j in list_jpg:\n",
        "        \n",
        "        image = cv2.imread(j, cv2.IMREAD_COLOR)\n",
        "        image = cv2.cvtColor(image, cv2.COLOR_BGR2HSV)\n",
        "        image = cv2.resize(image, (168,192))\n",
        "        H,S,V = cv2.split(image)\n",
        "        image_merge = np.zeros((192,168,2))\n",
        "        image_merge[:,:,0] = S\n",
        "        image_merge[:,:,1] = V\n",
        "        image_merge = image_merge.ravel()\n",
        "\n",
        "        test_data[cont2] += image_merge \n",
        "\n",
        "        y_test[cont2] = i[-2] + i[-1]\n",
        "        #print(y_train[cont2])\n",
        "        cont2 += 1\n",
        "\n",
        "#print(y_train)"
      ],
      "metadata": {
        "colab": {
          "base_uri": "https://localhost:8080/"
        },
        "id": "_MGvkXCVL6iX",
        "outputId": "175fcf4b-3ac7-4dc6-eb5e-ef7e7acf0b99"
      },
      "execution_count": null,
      "outputs": [
        {
          "output_type": "stream",
          "name": "stdout",
          "text": [
            "El número de muestras:  1000\n"
          ]
        }
      ]
    },
    {
      "cell_type": "markdown",
      "source": [
        "#Test"
      ],
      "metadata": {
        "id": "2XNZTqCnidvs"
      }
    },
    {
      "cell_type": "code",
      "source": [
        "#image = cv2.imread(\"/content/drive/MyDrive/Colab Notebooks/Base-De-Datos/datasetVGG/1-African American/train/african_001/0001_02.jpg\", cv2.IMREAD_COLOR)"
      ],
      "metadata": {
        "id": "Mv9GVbWPifbE"
      },
      "execution_count": null,
      "outputs": []
    },
    {
      "cell_type": "code",
      "source": [
        "#image = cv2.resize(image, (168,192))\n",
        "#H,S,V = cv2.split(image)\n",
        "#S.shape"
      ],
      "metadata": {
        "id": "q9iJxTAMiy-k"
      },
      "execution_count": null,
      "outputs": []
    },
    {
      "cell_type": "code",
      "source": [
        "#image_merge = np.zeros((192,168,2))\n",
        "\n",
        "#image_merge[:,:,0] = S\n",
        "#image_merge[:,:,1] = V"
      ],
      "metadata": {
        "id": "HqsVIipYi2_z"
      },
      "execution_count": null,
      "outputs": []
    },
    {
      "cell_type": "code",
      "source": [
        "#print(V)"
      ],
      "metadata": {
        "id": "3IgrlPdjjaoM"
      },
      "execution_count": null,
      "outputs": []
    },
    {
      "cell_type": "code",
      "source": [
        "#print(image_merge[:,:,1])"
      ],
      "metadata": {
        "id": "ObQxNBR0i6Nb"
      },
      "execution_count": null,
      "outputs": []
    },
    {
      "cell_type": "code",
      "source": [
        "#train_data, y_train = extract_data(path_train,\"*.jpg\",True)"
      ],
      "metadata": {
        "id": "vbIAXFCFS7vt"
      },
      "execution_count": null,
      "outputs": []
    },
    {
      "cell_type": "code",
      "source": [
        "#test_data, y_test = extract_data(path_test,\"*.jpg\",True)"
      ],
      "metadata": {
        "id": "o7E-V2SFS-s8"
      },
      "execution_count": null,
      "outputs": []
    },
    {
      "cell_type": "code",
      "source": [
        "#import sys\n",
        "#np.set_printoptions(threshold=sys.maxsize)\n",
        "#y_train"
      ],
      "metadata": {
        "id": "p-E3AlP2-LG_"
      },
      "execution_count": null,
      "outputs": []
    },
    {
      "cell_type": "markdown",
      "source": [
        "# Separar datos en train y test"
      ],
      "metadata": {
        "id": "mt6kox-L1u02"
      }
    },
    {
      "cell_type": "code",
      "source": [
        "#nsamples, nx, ny, chanels = train_data.shape\n",
        "\n",
        "#train_data = train_data.reshape((nsamples,nx*ny*chanels))\n",
        "\n",
        "X_sparse = coo_matrix(train_data)\n",
        "\n",
        "train_data, X_sparse, y_train = shuffle(train_data, X_sparse,y_train, random_state=0)\n",
        "\n",
        "#train_data = train_data.reshape((nsamples,nx,ny,chanels))"
      ],
      "metadata": {
        "id": "WF7FfiK61u02"
      },
      "execution_count": null,
      "outputs": []
    },
    {
      "cell_type": "code",
      "source": [
        "#nsamples, nx, ny, chanels = test_data.shape\n",
        "\n",
        "#test_data = test_data.reshape((nsamples,nx*ny*chanels))\n",
        "\n",
        "X_sparse = coo_matrix(test_data)\n",
        "\n",
        "test_data, X_sparse, y_test = shuffle(test_data, X_sparse,y_test, random_state=0)\n",
        "\n",
        "#test_data = test_data.reshape((nsamples,nx,ny,chanels))"
      ],
      "metadata": {
        "id": "LFo-aaAQ1u02"
      },
      "execution_count": null,
      "outputs": []
    },
    {
      "cell_type": "code",
      "source": [
        "train_data = train_data.astype(\"uint8\")\n",
        "#nsamples1, nx1, ny1, chanels = train_data.shape\n",
        "#train_data = train_data.reshape((nsamples1,nx1*ny1*chanels))\n",
        "train_data = train_data/255\n",
        "\n",
        "test_data = test_data.astype(\"uint8\")\n",
        "#nsamples, nx, ny, chanels = test_data.shape\n",
        "#test_data = test_data.reshape((nsamples,nx*ny*chanels))\n",
        "test_data = test_data/255 "
      ],
      "metadata": {
        "id": "P8S1_RRX1u03"
      },
      "execution_count": null,
      "outputs": []
    },
    {
      "cell_type": "markdown",
      "metadata": {
        "id": "q7i0d5zQhLwP"
      },
      "source": [
        "# PCA "
      ]
    },
    {
      "cell_type": "markdown",
      "metadata": {
        "id": "nzjHOdXVR6as"
      },
      "source": [
        "## Extracción de caracteristicas "
      ]
    },
    {
      "cell_type": "code",
      "execution_count": null,
      "metadata": {
        "id": "a0lEiq-3IaFU",
        "colab": {
          "base_uri": "https://localhost:8080/"
        },
        "outputId": "b57670a5-1b92-4c40-f707-08b829c9520f"
      },
      "outputs": [
        {
          "output_type": "stream",
          "name": "stdout",
          "text": [
            "Extrayendo 150 eigenfaces de 2749 caras\n",
            "Projecting the input data on the eigenfaces orthonormal basis\n"
          ]
        }
      ],
      "source": [
        "n_components = 150\n",
        "\n",
        "print(\"Extrayendo %d eigenfaces de %d caras\"\n",
        "      % (n_components, train_data.shape[0]))\n",
        "\n",
        "pca = PCA(n_components=n_components, svd_solver='randomized',\n",
        "          whiten=True).fit(train_data)\n",
        "\n",
        "\n",
        "#eigenfaces = pca.components_.reshape((n_components,192, 162))\n",
        "\n",
        "print(\"Projecting the input data on the eigenfaces orthonormal basis\")\n",
        "\n",
        "train_data_pca = pca.transform(train_data)\n",
        "test_data_pca = pca.transform(test_data)"
      ]
    },
    {
      "cell_type": "markdown",
      "metadata": {
        "id": "N6hXCmTxSBO0"
      },
      "source": [
        "texto en negrita## SVM\n"
      ]
    },
    {
      "cell_type": "markdown",
      "metadata": {
        "id": "5qo3IFfuEiQx"
      },
      "source": [
        "## SVM"
      ]
    },
    {
      "cell_type": "code",
      "execution_count": null,
      "metadata": {
        "id": "1iMn3VWYEneB",
        "colab": {
          "base_uri": "https://localhost:8080/"
        },
        "outputId": "f30beda9-b61d-4a2d-b9e5-bdf7c0dccf54"
      },
      "outputs": [
        {
          "output_type": "stream",
          "name": "stdout",
          "text": [
            "Best estimator found by grid search:\n",
            "SVC(C=1000.0, class_weight='balanced', gamma=0.005)\n"
          ]
        }
      ],
      "source": [
        "from sklearn.model_selection import GridSearchCV\n",
        "\n",
        "\n",
        "param_grid = {'C': [1e3, 5e3, 1e4, 5e4, 1e5],\n",
        "              'gamma': [0.0001, 0.0005, 0.001, 0.005, 0.01, 0.1], }\n",
        "\n",
        "clf_pca_svm = GridSearchCV(\n",
        "    SVC(kernel='rbf', class_weight='balanced'), param_grid\n",
        ")\n",
        "clf_pca_svm = clf_pca_svm.fit(train_data_pca,y_train )\n",
        "\n",
        "print(\"Best estimator found by grid search:\")\n",
        "print(clf_pca_svm.best_estimator_)"
      ]
    },
    {
      "cell_type": "code",
      "execution_count": null,
      "metadata": {
        "id": "42mgax0rFfxY",
        "colab": {
          "base_uri": "https://localhost:8080/"
        },
        "outputId": "73b136fd-4fc7-43c2-c2e3-d072ff3ac8f4"
      },
      "outputs": [
        {
          "output_type": "stream",
          "name": "stdout",
          "text": [
            "              precision    recall  f1-score   support\n",
            "\n",
            "           1     0.7500    0.8400    0.7925        50\n",
            "           2     0.6607    0.7400    0.6981        50\n",
            "           3     0.5909    0.7800    0.6724        50\n",
            "           4     0.9792    0.9400    0.9592        50\n",
            "           5     0.9362    0.8800    0.9072        50\n",
            "           6     0.7885    0.8200    0.8039        50\n",
            "           7     0.9375    0.9000    0.9184        50\n",
            "           8     0.9167    0.8800    0.8980        50\n",
            "           9     0.9783    0.9000    0.9375        50\n",
            "          10     0.8409    0.7400    0.7872        50\n",
            "          11     0.9000    0.7200    0.8000        50\n",
            "          12     0.8776    0.8600    0.8687        50\n",
            "          13     0.6923    0.9000    0.7826        50\n",
            "          14     0.8776    0.8600    0.8687        50\n",
            "          15     0.9535    0.8200    0.8817        50\n",
            "          16     0.7959    0.7800    0.7879        50\n",
            "          17     0.8478    0.7800    0.8125        50\n",
            "          18     0.8571    0.9600    0.9057        50\n",
            "          19     0.9111    0.8200    0.8632        50\n",
            "          20     0.9149    0.8600    0.8866        50\n",
            "\n",
            "    accuracy                         0.8390      1000\n",
            "   macro avg     0.8503    0.8390    0.8416      1000\n",
            "weighted avg     0.8503    0.8390    0.8416      1000\n",
            "\n",
            "[[42  0  2  0  0  0  0  0  0  0  1  1  0  1  0  1  2  0  0  0]\n",
            " [ 2 37  1  0  0  0  0  1  0  0  1  0  4  1  1  2  0  0  0  0]\n",
            " [ 1  1 39  0  0  4  0  0  0  2  0  0  2  0  0  0  1  0  0  0]\n",
            " [ 0  0  0 47  1  0  1  0  0  0  0  0  0  1  0  0  0  0  0  0]\n",
            " [ 2  1  0  0 44  1  0  1  0  0  1  0  0  0  0  0  0  0  0  0]\n",
            " [ 0  0  3  0  1 41  0  0  0  1  0  0  3  0  0  0  0  0  1  0]\n",
            " [ 0  0  1  1  0  3 45  0  0  0  0  0  0  0  0  0  0  0  0  0]\n",
            " [ 0  0  1  0  0  0  0 44  0  0  0  0  1  2  0  1  0  0  0  1]\n",
            " [ 0  0  0  0  0  0  1  0 45  2  0  0  0  0  0  0  1  0  1  0]\n",
            " [ 1  2  3  0  0  2  0  2  0 37  0  0  2  1  0  0  0  0  0  0]\n",
            " [ 2  2  3  0  1  1  0  0  0  1 36  0  2  0  0  0  0  2  0  0]\n",
            " [ 2  0  0  0  0  0  0  0  0  1  0 43  1  0  0  1  1  0  1  0]\n",
            " [ 1  0  0  0  0  0  0  0  1  0  0  0 45  0  0  0  1  1  0  1]\n",
            " [ 0  0  5  0  0  0  0  0  0  0  0  0  0 43  0  0  1  1  0  0]\n",
            " [ 1  4  1  0  0  0  0  0  0  0  0  0  0  0 41  1  0  0  1  1]\n",
            " [ 0  1  3  0  0  0  0  0  0  0  1  2  2  0  0 39  0  2  0  0]\n",
            " [ 2  3  2  0  0  0  1  0  0  0  0  0  1  0  0  2 39  0  0  0]\n",
            " [ 0  1  0  0  0  0  0  0  0  0  0  1  0  0  0  0  0 48  0  0]\n",
            " [ 0  2  2  0  0  0  0  0  0  0  0  1  1  0  0  2  0  0 41  1]\n",
            " [ 0  2  0  0  0  0  0  0  0  0  0  1  1  0  1  0  0  2  0 43]]\n"
          ]
        }
      ],
      "source": [
        "y_pred = clf_pca_svm.predict(test_data_pca)\n",
        "report = classification_report(y_test, y_pred,digits=4,output_dict=True)\n",
        "print(classification_report(y_test, y_pred,digits=4))\n",
        "print(confusion_matrix(y_test, y_pred))"
      ]
    },
    {
      "cell_type": "code",
      "source": [
        "import pandas\n",
        "df = pandas.DataFrame(report).transpose()\n",
        "df.to_excel(\"svmPCA.xlsx\")  "
      ],
      "metadata": {
        "id": "RqM72cAcjmq6"
      },
      "execution_count": null,
      "outputs": []
    },
    {
      "cell_type": "code",
      "source": [
        "def specificity(y_true,y_pred):\n",
        "        cm=confusion_matrix(y_true, y_pred)\n",
        "        FP = cm.sum(axis=0) - np.diag(cm)  \n",
        "        FN = cm.sum(axis=1) - np.diag(cm)\n",
        "        TP = np.diag(cm)\n",
        "        TN = cm.sum() - (FP + FN + TP)\n",
        "        Specificity = TN/(TN+FP)    \n",
        "        return np.mean(Specificity)\n",
        "        \n",
        "print(specificity(y_test, y_pred))"
      ],
      "metadata": {
        "id": "WYQc6v9jkAaL",
        "colab": {
          "base_uri": "https://localhost:8080/"
        },
        "outputId": "104dfe85-bc58-408c-a65f-1ec712fd7379"
      },
      "execution_count": null,
      "outputs": [
        {
          "output_type": "stream",
          "name": "stdout",
          "text": [
            "0.9915263157894738\n"
          ]
        }
      ]
    },
    {
      "cell_type": "markdown",
      "metadata": {
        "id": "zgaL3Cm1SPOV"
      },
      "source": [
        "## knn"
      ]
    },
    {
      "cell_type": "code",
      "execution_count": null,
      "metadata": {
        "id": "QekXhpPBZ9WT"
      },
      "outputs": [],
      "source": [
        "clf_PCA_Knn_3 = KNeighborsClassifier(n_neighbors=3)"
      ]
    },
    {
      "cell_type": "code",
      "execution_count": null,
      "metadata": {
        "id": "AGxTlHskaDK7"
      },
      "outputs": [],
      "source": [
        "clf_lbp_Kn_3 = clf_PCA_Knn_3.fit(train_data_pca,y_train)"
      ]
    },
    {
      "cell_type": "code",
      "execution_count": null,
      "metadata": {
        "id": "sfnktivHEHXq",
        "colab": {
          "base_uri": "https://localhost:8080/"
        },
        "outputId": "8cd80ddf-36c7-4e21-f399-bf12894a3d7f"
      },
      "outputs": [
        {
          "output_type": "stream",
          "name": "stdout",
          "text": [
            "              precision    recall  f1-score   support\n",
            "\n",
            "           1     0.3820    0.6800    0.4892        50\n",
            "           2     0.2597    0.4000    0.3150        50\n",
            "           3     0.4474    0.3400    0.3864        50\n",
            "           4     0.6897    0.8000    0.7407        50\n",
            "           5     0.5278    0.3800    0.4419        50\n",
            "           6     0.5741    0.6200    0.5962        50\n",
            "           7     0.8636    0.7600    0.8085        50\n",
            "           8     0.5000    0.4400    0.4681        50\n",
            "           9     0.1959    0.9600    0.3254        50\n",
            "          10     0.4681    0.4400    0.4536        50\n",
            "          11     0.5417    0.2600    0.3514        50\n",
            "          12     0.6000    0.3000    0.4000        50\n",
            "          13     0.2812    0.3600    0.3158        50\n",
            "          14     0.9167    0.2200    0.3548        50\n",
            "          15     0.8421    0.3200    0.4638        50\n",
            "          16     0.8421    0.3200    0.4638        50\n",
            "          17     0.8667    0.2600    0.4000        50\n",
            "          18     1.0000    0.2600    0.4127        50\n",
            "          19     0.8750    0.2800    0.4242        50\n",
            "          20     0.5574    0.6800    0.6126        50\n",
            "\n",
            "    accuracy                         0.4540      1000\n",
            "   macro avg     0.6116    0.4540    0.4612      1000\n",
            "weighted avg     0.6116    0.4540    0.4612      1000\n",
            "\n",
            "[[34  1  1  0  0  1  0  0  7  0  1  0  3  0  0  0  0  0  0  2]\n",
            " [ 7 20  1  1  1  0  0  0  7  1  1  0  8  1  0  1  0  0  0  1]\n",
            " [ 3  4 17  1  1  0  0  0 11  2  0  1  6  0  0  0  0  0  1  3]\n",
            " [ 1  0  0 40  0  1  0  0  6  1  1  0  0  0  0  0  0  0  0  0]\n",
            " [ 3  0  1  3 19  0  1  1 15  3  2  0  1  0  0  0  0  0  0  1]\n",
            " [ 3  2  0  2  0 31  1  1  6  0  1  1  1  0  0  0  0  0  0  1]\n",
            " [ 1  0  0  4  1  1 38  0  4  1  0  0  0  0  0  0  0  0  0  0]\n",
            " [ 3  5  3  1  2  0  0 22  6  3  0  0  4  0  0  0  0  0  0  1]\n",
            " [ 0  1  0  0  1  0  0  0 48  0  0  0  0  0  0  0  0  0  0  0]\n",
            " [ 0  6  0  1  1  1  1  0 17 22  1  0  0  0  0  0  0  0  0  0]\n",
            " [ 4  3  0  1  2  3  0  1 15  5 13  1  0  0  0  0  1  0  0  1]\n",
            " [ 2  1  0  0  1  0  0  1 25  1  0 15  4  0  0  0  0  0  0  0]\n",
            " [ 5  3  1  0  0  2  0  2 11  0  2  0 18  0  0  1  0  0  1  4]\n",
            " [ 3  4  4  0  2  2  1  3 14  2  0  0  2 11  0  0  0  0  0  2]\n",
            " [ 9  2  3  1  1  1  0  1  8  1  0  1  1  0 16  0  0  0  0  5]\n",
            " [ 2  7  0  1  0  3  0  3  6  2  1  0  7  0  0 16  0  0  0  2]\n",
            " [ 1  8  3  0  0  0  1  3 13  2  0  0  3  0  1  1 13  0  0  1]\n",
            " [ 3  3  3  1  3  3  1  2 11  0  1  3  1  0  0  0  1 13  0  1]\n",
            " [ 4  5  1  1  0  3  0  2 11  0  0  1  4  0  2  0  0  0 14  2]\n",
            " [ 1  2  0  0  1  2  0  2  4  1  0  2  1  0  0  0  0  0  0 34]]\n"
          ]
        }
      ],
      "source": [
        "y_pred = clf_PCA_Knn_3.predict(test_data_pca)\n",
        "report = classification_report(y_test, y_pred,digits=4,output_dict=True)\n",
        "df = pandas.DataFrame(report).transpose()                   \n",
        "df.to_excel(\"knnPCA.xlsx\")\n",
        "print(classification_report(y_test, y_pred,digits=4))\n",
        "print(confusion_matrix(y_test, y_pred))"
      ]
    },
    {
      "cell_type": "code",
      "source": [
        "from sklearn.metrics import matthews_corrcoef\n",
        "print(matthews_corrcoef(y_test, y_pred))"
      ],
      "metadata": {
        "id": "0BFzVZ4Cnd9d",
        "colab": {
          "base_uri": "https://localhost:8080/"
        },
        "outputId": "d9f0cd4f-0b21-466a-8472-0f55b0ec9377"
      },
      "execution_count": null,
      "outputs": [
        {
          "output_type": "stream",
          "name": "stdout",
          "text": [
            "0.43679747111395995\n"
          ]
        }
      ]
    },
    {
      "cell_type": "code",
      "source": [
        "print(specificity(y_test, y_pred))    "
      ],
      "metadata": {
        "id": "uCURh8O1neOh",
        "colab": {
          "base_uri": "https://localhost:8080/"
        },
        "outputId": "87638e8f-8df1-4238-9549-3bac6a757a44"
      },
      "execution_count": null,
      "outputs": [
        {
          "output_type": "stream",
          "name": "stdout",
          "text": [
            "0.9712631578947368\n"
          ]
        }
      ]
    },
    {
      "cell_type": "markdown",
      "metadata": {
        "id": "1eOxICXHSs4e"
      },
      "source": [
        "## Gauss"
      ]
    },
    {
      "cell_type": "code",
      "execution_count": null,
      "metadata": {
        "id": "kEjCohrCKU5M"
      },
      "outputs": [],
      "source": [
        "clf_PCA_Gauss = GaussianNB()"
      ]
    },
    {
      "cell_type": "code",
      "execution_count": null,
      "metadata": {
        "id": "zGSEngljKVVU"
      },
      "outputs": [],
      "source": [
        "clf_lbp_Gauss = clf_PCA_Gauss.fit(train_data_pca,y_train)"
      ]
    },
    {
      "cell_type": "code",
      "execution_count": null,
      "metadata": {
        "id": "NRiyYjiqKYSs",
        "colab": {
          "base_uri": "https://localhost:8080/"
        },
        "outputId": "1d7fb5db-d427-466d-ac61-52739e2357b5"
      },
      "outputs": [
        {
          "output_type": "stream",
          "name": "stdout",
          "text": [
            "              precision    recall  f1-score   support\n",
            "\n",
            "           1     0.7143    0.6000    0.6522        50\n",
            "           2     0.4561    0.5200    0.4860        50\n",
            "           3     0.2432    0.3600    0.2903        50\n",
            "           4     0.9767    0.8400    0.9032        50\n",
            "           5     0.8684    0.6600    0.7500        50\n",
            "           6     0.6667    0.4400    0.5301        50\n",
            "           7     0.7727    0.6800    0.7234        50\n",
            "           8     0.7959    0.7800    0.7879        50\n",
            "           9     0.3206    0.8400    0.4641        50\n",
            "          10     0.7442    0.6400    0.6882        50\n",
            "          11     0.9200    0.4600    0.6133        50\n",
            "          12     0.9487    0.7400    0.8315        50\n",
            "          13     0.5614    0.6400    0.5981        50\n",
            "          14     0.8000    0.7200    0.7579        50\n",
            "          15     0.9375    0.6000    0.7317        50\n",
            "          16     0.7556    0.6800    0.7158        50\n",
            "          17     0.6400    0.6400    0.6400        50\n",
            "          18     0.6863    0.7000    0.6931        50\n",
            "          19     0.8000    0.5600    0.6588        50\n",
            "          20     0.5821    0.7800    0.6667        50\n",
            "\n",
            "    accuracy                         0.6440      1000\n",
            "   macro avg     0.7095    0.6440    0.6591      1000\n",
            "weighted avg     0.7095    0.6440    0.6591      1000\n",
            "\n",
            "[[30  2  3  0  1  0  0  1  4  0  0  0  2  1  1  0  1  2  1  1]\n",
            " [ 2 26  3  0  1  0  0  0  6  0  1  0  5  0  0  1  0  2  0  3]\n",
            " [ 2  3 18  0  0  2  0  2  1  2  0  0  4  3  0  1 10  1  0  1]\n",
            " [ 0  0  0 42  2  1  3  0  1  0  0  0  0  1  0  0  0  0  0  0]\n",
            " [ 0  4  2  0 33  0  0  1  4  3  0  0  1  0  0  1  0  0  0  1]\n",
            " [ 0  2  6  0  0 22  2  2  8  0  0  0  3  2  0  0  0  0  0  3]\n",
            " [ 0  1  4  0  0  2 34  0  7  0  0  0  0  0  0  0  0  2  0  0]\n",
            " [ 0  2  3  0  0  0  0 39  3  0  0  0  0  0  0  0  1  0  2  0]\n",
            " [ 0  1  0  0  0  0  3  0 42  1  0  1  1  0  0  0  0  0  0  1]\n",
            " [ 0  1  6  0  0  1  1  2  6 32  0  0  1  0  0  0  0  0  0  0]\n",
            " [ 0  1  4  1  1  3  1  0  9  3 23  0  0  0  0  0  0  1  2  1]\n",
            " [ 1  0  0  0  0  1  0  1  3  0  0 37  1  0  0  2  0  1  1  2]\n",
            " [ 1  2  2  0  0  0  0  0 10  1  0  0 32  0  0  0  0  0  0  2]\n",
            " [ 0  0  8  0  0  1  0  1  1  0  0  0  0 36  0  0  1  1  0  1]\n",
            " [ 1  4  1  0  0  0  0  0  4  0  0  0  1  1 30  3  1  0  1  3]\n",
            " [ 0  1  3  0  0  0  0  0  3  0  1  1  1  0  0 34  0  4  0  2]\n",
            " [ 2  5  0  0  0  0  0  0  5  1  0  0  1  0  1  2 32  1  0  0]\n",
            " [ 1  0  5  0  0  0  0  0  1  0  0  0  2  0  0  0  2 35  0  4]\n",
            " [ 2  1  5  0  0  0  0  0  9  0  0  0  1  0  0  1  0  0 28  3]\n",
            " [ 0  1  1  0  0  0  0  0  4  0  0  0  1  1  0  0  2  1  0 39]]\n"
          ]
        }
      ],
      "source": [
        "y_pred = clf_lbp_Gauss.predict(test_data_pca)\n",
        "\n",
        "report = classification_report(y_test, y_pred,digits=4,output_dict=True)\n",
        "df = pandas.DataFrame(report).transpose()\n",
        "df.to_excel(\"gaussPCA.xlsx\")\n",
        "print(classification_report(y_test, y_pred,digits=4))\n",
        "print(confusion_matrix(y_test, y_pred))"
      ]
    },
    {
      "cell_type": "code",
      "source": [
        "print(matthews_corrcoef(y_test, y_pred))"
      ],
      "metadata": {
        "id": "i-vQ_buPokHM",
        "colab": {
          "base_uri": "https://localhost:8080/"
        },
        "outputId": "4d9100ec-fdf6-4863-90f7-431f7e0e6920"
      },
      "execution_count": null,
      "outputs": [
        {
          "output_type": "stream",
          "name": "stdout",
          "text": [
            "0.6284137863428524\n"
          ]
        }
      ]
    },
    {
      "cell_type": "code",
      "source": [
        "print(specificity(y_test, y_pred)) "
      ],
      "metadata": {
        "id": "a4eBiGtdosB4",
        "colab": {
          "base_uri": "https://localhost:8080/"
        },
        "outputId": "290fb46a-ace4-4480-ebd0-6c839010c34f"
      },
      "execution_count": null,
      "outputs": [
        {
          "output_type": "stream",
          "name": "stdout",
          "text": [
            "0.9812631578947366\n"
          ]
        }
      ]
    },
    {
      "cell_type": "markdown",
      "metadata": {
        "id": "M4mhpqpKhQZg"
      },
      "source": [
        "# LDA"
      ]
    },
    {
      "cell_type": "markdown",
      "metadata": {
        "id": "zStmGeCYexo0"
      },
      "source": [
        "## Extracción de caracteristicas "
      ]
    },
    {
      "cell_type": "code",
      "execution_count": null,
      "metadata": {
        "id": "3SX9bvwye2lZ"
      },
      "outputs": [],
      "source": [
        "lda = LDA(n_components=19)\n",
        "X_train = lda.fit_transform(train_data, y_train)\n",
        "train_data_LDA = lda.transform(train_data)\n",
        "test_data_LDA = lda.transform(test_data)"
      ]
    },
    {
      "cell_type": "markdown",
      "metadata": {
        "id": "r6Z5IplFiYbL"
      },
      "source": [
        "## SVM"
      ]
    },
    {
      "cell_type": "code",
      "execution_count": null,
      "metadata": {
        "id": "TIpDL93BiJyY",
        "colab": {
          "base_uri": "https://localhost:8080/"
        },
        "outputId": "18d194ee-0f98-4c5f-eafc-dce7da2cde95"
      },
      "outputs": [
        {
          "output_type": "stream",
          "name": "stdout",
          "text": [
            "Best estimator found by grid search:\n",
            "SVC(C=1000.0, class_weight='balanced', gamma=0.01)\n"
          ]
        }
      ],
      "source": [
        "clf_lda_svm = GridSearchCV(\n",
        "    SVC(kernel='rbf', class_weight='balanced'), param_grid\n",
        ")\n",
        "clf_lda_svm = clf_lda_svm.fit(train_data_LDA,y_train )\n",
        "\n",
        "print(\"Best estimator found by grid search:\")\n",
        "print(clf_lda_svm.best_estimator_)"
      ]
    },
    {
      "cell_type": "code",
      "execution_count": null,
      "metadata": {
        "id": "FwdX6xQWiepv",
        "colab": {
          "base_uri": "https://localhost:8080/"
        },
        "outputId": "7693a551-3971-4eff-b23d-bc02b7497658"
      },
      "outputs": [
        {
          "output_type": "stream",
          "name": "stdout",
          "text": [
            "              precision    recall  f1-score   support\n",
            "\n",
            "           1     0.4535    0.7800    0.5735        50\n",
            "           2     0.6383    0.6000    0.6186        50\n",
            "           3     0.6970    0.4600    0.5542        50\n",
            "           4     0.7797    0.9200    0.8440        50\n",
            "           5     0.9394    0.6200    0.7470        50\n",
            "           6     0.5098    0.5200    0.5149        50\n",
            "           7     0.6800    0.6800    0.6800        50\n",
            "           8     0.7917    0.7600    0.7755        50\n",
            "           9     0.7143    0.9000    0.7965        50\n",
            "          10     0.7292    0.7000    0.7143        50\n",
            "          11     0.8529    0.5800    0.6905        50\n",
            "          12     0.9737    0.7400    0.8409        50\n",
            "          13     0.3491    0.7400    0.4744        50\n",
            "          14     0.9286    0.7800    0.8478        50\n",
            "          15     0.9500    0.7600    0.8444        50\n",
            "          16     0.8684    0.6600    0.7500        50\n",
            "          17     0.8462    0.6600    0.7416        50\n",
            "          18     0.9118    0.6200    0.7381        50\n",
            "          19     0.8372    0.7200    0.7742        50\n",
            "          20     0.6029    0.8200    0.6949        50\n",
            "\n",
            "    accuracy                         0.7010      1000\n",
            "   macro avg     0.7527    0.7010    0.7108      1000\n",
            "weighted avg     0.7527    0.7010    0.7108      1000\n",
            "\n"
          ]
        }
      ],
      "source": [
        "y_pred_lda_svm = clf_lda_svm.predict(test_data_LDA)\n",
        "report = classification_report(y_test, y_pred_lda_svm,digits=4,output_dict=True)\n",
        "df = pandas.DataFrame(report).transpose()\n",
        "df.to_excel(\"svmLDA.xlsx\")  \n",
        "print(classification_report(y_test, y_pred_lda_svm,digits=4))"
      ]
    },
    {
      "cell_type": "code",
      "source": [
        "print(matthews_corrcoef(y_test, y_pred_lda_svm))"
      ],
      "metadata": {
        "id": "VFtoyVb8s3Sn",
        "colab": {
          "base_uri": "https://localhost:8080/"
        },
        "outputId": "1cddf127-123a-4cbc-e45e-05fb4357c2b6"
      },
      "execution_count": null,
      "outputs": [
        {
          "output_type": "stream",
          "name": "stdout",
          "text": [
            "0.6877055924336665\n"
          ]
        }
      ]
    },
    {
      "cell_type": "code",
      "source": [
        "print(specificity(y_test, y_pred_lda_svm)) "
      ],
      "metadata": {
        "id": "oXOjD31DtVlr",
        "colab": {
          "base_uri": "https://localhost:8080/"
        },
        "outputId": "b37a69c0-6f2e-4375-d4ed-f8e12e8932df"
      },
      "execution_count": null,
      "outputs": [
        {
          "output_type": "stream",
          "name": "stdout",
          "text": [
            "0.9842631578947367\n"
          ]
        }
      ]
    },
    {
      "cell_type": "markdown",
      "metadata": {
        "id": "neZeivofiZlo"
      },
      "source": [
        "## knn"
      ]
    },
    {
      "cell_type": "code",
      "execution_count": null,
      "metadata": {
        "id": "gHa4hEZLj6L_"
      },
      "outputs": [],
      "source": [
        "clf_LDA_Knn_3 = KNeighborsClassifier(n_neighbors=3)"
      ]
    },
    {
      "cell_type": "code",
      "execution_count": null,
      "metadata": {
        "id": "huRH2xOokEGP"
      },
      "outputs": [],
      "source": [
        "clf_LDA_Knn_3 = clf_PCA_Knn_3.fit(train_data_LDA,y_train)"
      ]
    },
    {
      "cell_type": "code",
      "execution_count": null,
      "metadata": {
        "id": "8kouVFqGkHCv",
        "colab": {
          "base_uri": "https://localhost:8080/"
        },
        "outputId": "df773994-6f1e-49da-b594-70f6d162589c"
      },
      "outputs": [
        {
          "output_type": "stream",
          "name": "stdout",
          "text": [
            "              precision    recall  f1-score   support\n",
            "\n",
            "           1     0.6724    0.7800    0.7222        50\n",
            "           2     0.5714    0.6400    0.6038        50\n",
            "           3     0.6905    0.5800    0.6304        50\n",
            "           4     0.8103    0.9400    0.8704        50\n",
            "           5     0.7755    0.7600    0.7677        50\n",
            "           6     0.5957    0.5600    0.5773        50\n",
            "           7     0.8043    0.7400    0.7708        50\n",
            "           8     0.6406    0.8200    0.7193        50\n",
            "           9     0.7143    0.9000    0.7965        50\n",
            "          10     0.6731    0.7000    0.6863        50\n",
            "          11     0.7317    0.6000    0.6593        50\n",
            "          12     0.9268    0.7600    0.8352        50\n",
            "          13     0.5532    0.5200    0.5361        50\n",
            "          14     0.9333    0.8400    0.8842        50\n",
            "          15     0.9556    0.8600    0.9053        50\n",
            "          16     0.8125    0.7800    0.7959        50\n",
            "          17     0.8163    0.8000    0.8081        50\n",
            "          18     0.7800    0.7800    0.7800        50\n",
            "          19     0.8723    0.8200    0.8454        50\n",
            "          20     0.7692    0.8000    0.7843        50\n",
            "\n",
            "    accuracy                         0.7490      1000\n",
            "   macro avg     0.7550    0.7490    0.7489      1000\n",
            "weighted avg     0.7550    0.7490    0.7489      1000\n",
            "\n",
            "[[39  0  0  0  0  0  0  3  0  0  3  0  1  0  0  0  1  0  1  2]\n",
            " [ 2 32  1  0  0  2  1  1  2  2  1  1  3  0  0  0  0  1  1  0]\n",
            " [ 3  1 29  0  0  3  0  3  0  3  0  0  3  1  0  0  4  0  0  0]\n",
            " [ 0  0  0 47  0  0  2  0  0  0  0  0  0  1  0  0  0  0  0  0]\n",
            " [ 1  1  0  3 38  1  0  0  0  1  2  0  1  0  0  1  0  1  0  0]\n",
            " [ 0  0  1  3  2 28  3  1  1  6  1  0  2  0  0  0  0  1  1  0]\n",
            " [ 0  0  0  4  2  5 37  0  1  0  0  0  1  0  0  0  0  0  0  0]\n",
            " [ 0  0  0  0  0  1  0 41  1  1  0  0  2  0  0  1  1  0  0  2]\n",
            " [ 1  0  0  0  0  0  1  1 45  1  0  0  1  0  0  0  0  0  0  0]\n",
            " [ 2  1  0  0  2  3  0  3  2 35  0  0  0  1  0  1  0  0  0  0]\n",
            " [ 1  2  1  1  3  2  0  3  4  1 30  0  0  0  0  0  0  1  0  1]\n",
            " [ 2  0  2  0  0  0  0  0  3  0  0 38  0  0  1  2  0  0  1  1]\n",
            " [ 1  8  2  0  1  1  1  4  2  0  1  0 26  0  0  0  1  1  0  1]\n",
            " [ 1  1  2  0  0  1  1  0  0  0  1  0  0 42  0  0  0  0  0  1]\n",
            " [ 0  1  1  0  1  0  0  0  0  0  0  0  0  0 43  2  0  1  0  1]\n",
            " [ 0  1  1  0  0  0  0  1  0  1  1  1  1  0  0 39  1  2  0  1]\n",
            " [ 1  4  0  0  0  0  0  1  0  0  0  0  1  0  1  0 40  1  1  0]\n",
            " [ 3  2  0  0  0  0  0  0  1  0  1  0  3  0  0  0  0 39  0  1]\n",
            " [ 1  1  1  0  0  0  0  0  0  1  0  1  0  0  0  2  1  0 41  1]\n",
            " [ 0  1  1  0  0  0  0  2  1  0  0  0  2  0  0  0  0  2  1 40]]\n"
          ]
        }
      ],
      "source": [
        "y_pred = clf_LDA_Knn_3.predict(test_data_LDA)\n",
        "\n",
        "report = classification_report(y_test, y_pred,digits=4,output_dict=True)\n",
        "df = pandas.DataFrame(report).transpose()\n",
        "df.to_excel(\"knnLDA.xlsx\")  \n",
        "print(classification_report(y_test, y_pred,digits=4))\n",
        "print(confusion_matrix(y_test, y_pred))"
      ]
    },
    {
      "cell_type": "code",
      "source": [
        "print(matthews_corrcoef(y_test, y_pred))"
      ],
      "metadata": {
        "id": "erK7A5qZtrXp",
        "colab": {
          "base_uri": "https://localhost:8080/"
        },
        "outputId": "8fce6a54-67ad-4c72-e9da-63c5273e1bef"
      },
      "execution_count": null,
      "outputs": [
        {
          "output_type": "stream",
          "name": "stdout",
          "text": [
            "0.7361235170932198\n"
          ]
        }
      ]
    },
    {
      "cell_type": "code",
      "source": [
        "print(specificity(y_test, y_pred)) "
      ],
      "metadata": {
        "id": "yAxV-RPDvBJK",
        "colab": {
          "base_uri": "https://localhost:8080/"
        },
        "outputId": "743270c6-51fd-4eb8-b453-1c068704206f"
      },
      "execution_count": null,
      "outputs": [
        {
          "output_type": "stream",
          "name": "stdout",
          "text": [
            "0.9867894736842105\n"
          ]
        }
      ]
    },
    {
      "cell_type": "markdown",
      "metadata": {
        "id": "zW9tSFYmib3X"
      },
      "source": [
        "## Gauss"
      ]
    },
    {
      "cell_type": "code",
      "execution_count": null,
      "metadata": {
        "id": "hbApsO2ila8P"
      },
      "outputs": [],
      "source": [
        "clf_LDA_Gauss = GaussianNB()"
      ]
    },
    {
      "cell_type": "code",
      "execution_count": null,
      "metadata": {
        "id": "T5BXcCJ-lasn"
      },
      "outputs": [],
      "source": [
        "clf_LDA_Gauss = clf_LDA_Gauss.fit(train_data_LDA,y_train)"
      ]
    },
    {
      "cell_type": "code",
      "execution_count": null,
      "metadata": {
        "id": "xfLG8morj6if",
        "colab": {
          "base_uri": "https://localhost:8080/"
        },
        "outputId": "bf4a81b6-cc43-4f78-e897-925725bf4902"
      },
      "outputs": [
        {
          "output_type": "stream",
          "name": "stdout",
          "text": [
            "              precision    recall  f1-score   support\n",
            "\n",
            "           1     0.6774    0.8400    0.7500        50\n",
            "           2     0.5000    0.6600    0.5690        50\n",
            "           3     0.8571    0.2400    0.3750        50\n",
            "           4     0.9130    0.8400    0.8750        50\n",
            "           5     1.0000    0.4600    0.6301        50\n",
            "           6     0.3304    0.7600    0.4606        50\n",
            "           7     0.8718    0.6800    0.7640        50\n",
            "           8     0.8780    0.7200    0.7912        50\n",
            "           9     0.3453    0.9600    0.5079        50\n",
            "          10     0.8750    0.5600    0.6829        50\n",
            "          11     0.9474    0.3600    0.5217        50\n",
            "          12     1.0000    0.5600    0.7179        50\n",
            "          13     0.3333    0.8600    0.4804        50\n",
            "          14     0.9667    0.5800    0.7250        50\n",
            "          15     1.0000    0.6400    0.7805        50\n",
            "          16     0.9375    0.6000    0.7317        50\n",
            "          17     0.9583    0.4600    0.6216        50\n",
            "          18     0.9714    0.6800    0.8000        50\n",
            "          19     0.9722    0.7000    0.8140        50\n",
            "          20     0.6897    0.8000    0.7407        50\n",
            "\n",
            "    accuracy                         0.6480      1000\n",
            "   macro avg     0.8012    0.6480    0.6670      1000\n",
            "weighted avg     0.8012    0.6480    0.6670      1000\n",
            "\n",
            "[[42  0  0  0  0  0  0  1  2  0  0  0  5  0  0  0  0  0  0  0]\n",
            " [ 2 33  0  0  0  0  1  1  7  0  0  0  6  0  0  0  0  0  0  0]\n",
            " [ 4  2 12  0  0 16  0  1  4  0  0  0 10  0  0  0  0  0  0  1]\n",
            " [ 0  0  0 42  0  4  3  0  0  0  0  0  0  1  0  0  0  0  0  0]\n",
            " [ 1  1  0  0 23  5  0  0  6  1  0  0 13  0  0  0  0  0  0  0]\n",
            " [ 0  0  0  1  0 38  1  0  3  1  1  0  4  0  0  0  0  0  1  0]\n",
            " [ 0  0  0  3  0  9 34  0  2  0  0  0  2  0  0  0  0  0  0  0]\n",
            " [ 0  1  0  0  0  2  0 36  2  0  0  0  8  0  0  0  0  0  0  1]\n",
            " [ 0  0  0  0  0  2  0  0 48  0  0  0  0  0  0  0  0  0  0  0]\n",
            " [ 2  0  0  0  0  5  0  1 14 28  0  0  0  0  0  0  0  0  0  0]\n",
            " [ 2  4  0  0  0  5  0  0 12  2 18  0  6  0  0  0  0  0  0  1]\n",
            " [ 2  1  0  0  0  1  0  0 12  0  0 28  3  0  0  0  0  0  0  3]\n",
            " [ 0  3  0  0  0  1  0  0  1  0  0  0 43  0  0  0  1  0  0  1]\n",
            " [ 0  2  1  0  0 12  0  0  4  0  0  0  2 29  0  0  0  0  0  0]\n",
            " [ 1  1  1  0  0  2  0  0  1  0  0  0  4  0 32  1  0  1  0  6]\n",
            " [ 0  7  0  0  0  1  0  1  5  0  0  0  3  0  0 30  0  0  0  3]\n",
            " [ 2  5  0  0  0  7  0  0  9  0  0  0  4  0  0  0 23  0  0  0]\n",
            " [ 3  1  0  0  0  3  0  0  3  0  0  0  5  0  0  0  0 34  0  1]\n",
            " [ 1  3  0  0  0  1  0  0  3  0  0  0  5  0  0  1  0  0 35  1]\n",
            " [ 0  2  0  0  0  1  0  0  1  0  0  0  6  0  0  0  0  0  0 40]]\n"
          ]
        }
      ],
      "source": [
        "y_pred = clf_LDA_Gauss.predict(test_data_LDA)\n",
        "\n",
        "report = classification_report(y_test, y_pred,digits=4,output_dict=True)\n",
        "df = pandas.DataFrame(report).transpose()\n",
        "df.to_excel(\"gaussLDA.xlsx\") \n",
        "print(classification_report(y_test, y_pred,digits=4))\n",
        "print(confusion_matrix(y_test, y_pred))"
      ]
    },
    {
      "cell_type": "code",
      "source": [
        "print(matthews_corrcoef(y_test, y_pred))"
      ],
      "metadata": {
        "id": "nlAtXXssvxwp",
        "colab": {
          "base_uri": "https://localhost:8080/"
        },
        "outputId": "e851e397-64a0-45ea-f2b0-b24fd627a58a"
      },
      "execution_count": null,
      "outputs": [
        {
          "output_type": "stream",
          "name": "stdout",
          "text": [
            "0.637926132092402\n"
          ]
        }
      ]
    },
    {
      "cell_type": "code",
      "source": [
        "print(specificity(y_test, y_pred)) "
      ],
      "metadata": {
        "id": "7JmMvKhdvyIz",
        "colab": {
          "base_uri": "https://localhost:8080/"
        },
        "outputId": "3631bfbd-ba9e-4698-b12d-7aa83aba3e79"
      },
      "execution_count": null,
      "outputs": [
        {
          "output_type": "stream",
          "name": "stdout",
          "text": [
            "0.9814736842105264\n"
          ]
        }
      ]
    },
    {
      "cell_type": "markdown",
      "source": [
        "# Carga de datos 2"
      ],
      "metadata": {
        "id": "kQFvcR40QAQ8"
      }
    },
    {
      "cell_type": "code",
      "source": [
        "path = \"/content/drive/MyDrive/Universidad - Ingeniería Electrónica/10 Semestre/Trabajo de Grado II/datasets/datasetVGG/3-Caucasian Latin/train\"\n",
        "\n",
        "list_people = os.listdir(path)\n",
        "\n",
        "type_file = \"*.jpg\"\n",
        "\n",
        "cont = 0\n",
        "cont2 = 0\n",
        "\n",
        "for k in list_people:\n",
        "    \n",
        "    path_image = path + \"/\" + k\n",
        "    list_jpg = glob.glob(path_image + os.sep + type_file)\n",
        "    \n",
        "    cont += len(list_jpg)\n",
        "    \n",
        "print(\"El número de muestras: \",cont)\n",
        "\n",
        "train_data = np.zeros((cont,192,168,2))\n",
        "train_data = train_data.astype('float32')\n",
        "\n",
        "y_train = np.zeros(cont)\n",
        "y_train = y_train.astype('int8')\n",
        "\n",
        "\n",
        "for i in list_people:\n",
        "    \n",
        "    #print(i)\n",
        "    \n",
        "    path_image = path + \"/\" + i\n",
        "    \n",
        "    list_jpg = glob.glob(path_image + os.sep + type_file)\n",
        "    \n",
        "    for j in list_jpg:\n",
        "        \n",
        "        image = cv2.imread(j, cv2.IMREAD_COLOR)\n",
        "        image = cv2.cvtColor(image, cv2.COLOR_BGR2HSV)\n",
        "        image = cv2.resize(image, (168,192))\n",
        "        H,S,V = cv2.split(image)\n",
        "        image_merge = np.zeros((192,168,2))\n",
        "        image_merge[:,:,0] = S\n",
        "        image_merge[:,:,1] = V\n",
        "        train_data[cont2] += image_merge \n",
        "\n",
        "        y_train[cont2] = i[-2] + i[-1]\n",
        "\n",
        "        #print(y_train[cont2])\n",
        "        cont2 += 1\n",
        "\n",
        "#print(y_train)"
      ],
      "metadata": {
        "colab": {
          "base_uri": "https://localhost:8080/"
        },
        "id": "fgayp8lYPwTs",
        "outputId": "2f675057-ebf3-4c8f-d401-156673ad8d34"
      },
      "execution_count": null,
      "outputs": [
        {
          "output_type": "stream",
          "name": "stdout",
          "text": [
            "El número de muestras:  2749\n"
          ]
        }
      ]
    },
    {
      "cell_type": "code",
      "source": [
        "path = \"/content/drive/MyDrive/Universidad - Ingeniería Electrónica/10 Semestre/Trabajo de Grado II/datasets/datasetVGG/3-Caucasian Latin/test\"\n",
        "\n",
        "list_people = os.listdir(path)\n",
        "\n",
        "subcadena = \"yaleB\" #la subcadena que queremos localizar\n",
        "type_file = \"*.jpg\"\n",
        "\n",
        "cont = 0\n",
        "cont2 = 0\n",
        "\n",
        "for k in list_people:\n",
        "    \n",
        "    path_image = path + \"/\" + k\n",
        "    list_jpg = glob.glob(path_image + os.sep + type_file)\n",
        "    \n",
        "    cont += len(list_jpg)\n",
        "    \n",
        "print(\"El número de muestras: \",cont)\n",
        "\n",
        "test_data = np.zeros((cont,192,168,2))\n",
        "test_data = test_data.astype('float32')\n",
        "\n",
        "y_test = np.zeros(cont)\n",
        "y_test = y_test.astype('int8')\n",
        "\n",
        "\n",
        "for i in list_people:\n",
        "    \n",
        "    #print(i)\n",
        "    \n",
        "    path_image = path + \"/\" + i\n",
        "    \n",
        "    list_jpg = glob.glob(path_image + os.sep + type_file)\n",
        "    \n",
        "    for j in list_jpg:\n",
        "        \n",
        "        image = cv2.imread(j, cv2.IMREAD_COLOR)\n",
        "        image = cv2.cvtColor(image, cv2.COLOR_BGR2HSV)\n",
        "        image = cv2.resize(image, (168,192))\n",
        "        H,S,V = cv2.split(image)\n",
        "        image_merge = np.zeros((192,168,2))\n",
        "        image_merge[:,:,0] = S\n",
        "        image_merge[:,:,1] = V\n",
        "        \n",
        "\n",
        "        test_data[cont2] += image_merge \n",
        "\n",
        "        y_test[cont2] = i[-2] + i[-1]\n",
        "        #print(y_train[cont2])\n",
        "        cont2 += 1\n",
        "\n",
        "#print(y_train)"
      ],
      "metadata": {
        "colab": {
          "base_uri": "https://localhost:8080/"
        },
        "id": "Iz6m4JnPPxKM",
        "outputId": "bcee7107-0d78-461f-eea6-0b58d46c7dca"
      },
      "execution_count": null,
      "outputs": [
        {
          "output_type": "stream",
          "name": "stdout",
          "text": [
            "El número de muestras:  1000\n"
          ]
        }
      ]
    },
    {
      "cell_type": "markdown",
      "source": [
        "# Separar datos en train y test"
      ],
      "metadata": {
        "id": "hllo2PNgglaw"
      }
    },
    {
      "cell_type": "code",
      "source": [
        "nsamples, nx, ny, chanels = train_data.shape\n",
        "\n",
        "train_data = train_data.reshape((nsamples,nx*ny*chanels))\n",
        "\n",
        "X_sparse = coo_matrix(train_data)\n",
        "\n",
        "train_data, X_sparse, y_train = shuffle(train_data, X_sparse,y_train, random_state=0)\n",
        "\n",
        "train_data = train_data.reshape((nsamples,nx,ny,chanels))"
      ],
      "metadata": {
        "id": "WEDfENoqS_Fd"
      },
      "execution_count": null,
      "outputs": []
    },
    {
      "cell_type": "code",
      "source": [
        "nsamples, nx, ny, chanels = test_data.shape\n",
        "\n",
        "test_data = test_data.reshape((nsamples,nx*ny*chanels))\n",
        "\n",
        "X_sparse = coo_matrix(test_data)\n",
        "\n",
        "test_data, X_sparse, y_test = shuffle(test_data, X_sparse,y_test, random_state=0)\n",
        "\n",
        "test_data = test_data.reshape((nsamples,nx,ny,chanels))"
      ],
      "metadata": {
        "id": "AdP1-OY6TAyV"
      },
      "execution_count": null,
      "outputs": []
    },
    {
      "cell_type": "code",
      "source": [
        "train_data = train_data.astype(\"uint8\")\n",
        "nsamples1, nx1, ny1, chanels = train_data.shape\n",
        "train_data = train_data.reshape((nsamples1,nx1*ny1*chanels))\n",
        "train_data = train_data/255\n",
        "\n",
        "test_data = test_data.astype(\"uint8\")\n",
        "nsamples, nx, ny, chanels = test_data.shape\n",
        "test_data = test_data.reshape((nsamples,nx*ny*chanels))\n",
        "test_data = test_data/255"
      ],
      "metadata": {
        "id": "83dpWmjiTFhl"
      },
      "execution_count": null,
      "outputs": []
    },
    {
      "cell_type": "code",
      "source": [
        "train_data = train_data.reshape((nsamples1,nx1,ny1,chanels))\n",
        "test_data = test_data.reshape((nsamples,nx,ny,chanels))"
      ],
      "metadata": {
        "id": "3633DraNOGFM"
      },
      "execution_count": null,
      "outputs": []
    },
    {
      "cell_type": "code",
      "source": [
        "train_data_S = np.zeros((nsamples1,192,168))\n",
        "train_data_S = train_data[:,:,:,0]\n",
        "train_data_V = np.zeros((nsamples1,192,168))\n",
        "train_data_V = train_data[:,:,:,1]\n",
        "\n",
        "test_data_S = np.zeros((nsamples,192,168))\n",
        "test_data_S = test_data[:,:,:,0]\n",
        "test_data_V = np.zeros((nsamples1,192,168))\n",
        "test_data_V = test_data[:,:,:,1] "
      ],
      "metadata": {
        "id": "tAq_nZOmUPS0"
      },
      "execution_count": null,
      "outputs": []
    },
    {
      "cell_type": "markdown",
      "metadata": {
        "id": "Z9vr5iFJhIYn"
      },
      "source": [
        "# LBP\n"
      ]
    },
    {
      "cell_type": "markdown",
      "metadata": {
        "id": "iEjHzUokc5XS"
      },
      "source": [
        "## Extracción de caracteristicas"
      ]
    },
    {
      "cell_type": "code",
      "execution_count": null,
      "metadata": {
        "id": "ypckBUmSbQ2e"
      },
      "outputs": [],
      "source": [
        "# https://github.com/AsoStrife/Computer-Vision-Project\n",
        "\n",
        "def blockshaped(arr, nrows, ncols):\n",
        "\n",
        "    h, w = arr.shape\n",
        "    return (arr.reshape(h//nrows, nrows, -1, ncols)\n",
        "            .swapaxes(1,2)\n",
        "            .reshape(-1, nrows, ncols))\n",
        "def getHistogram(imgArray):\n",
        "    hist, bin_edges = np.histogram(imgArray, density=True)\n",
        "    return hist"
      ]
    },
    {
      "cell_type": "code",
      "execution_count": null,
      "metadata": {
        "colab": {
          "base_uri": "https://localhost:8080/"
        },
        "id": "uWLgW0UmdDsS",
        "outputId": "4aae1904-2711-455f-a3d8-fa535adea2a0"
      },
      "outputs": [
        {
          "output_type": "stream",
          "name": "stdout",
          "text": [
            "1000\n"
          ]
        }
      ],
      "source": [
        "# tamaño de train y test\n",
        "cont_train = train_data.shape[0]\n",
        "cont_test = test_data.shape[0]\n",
        "print(cont_test)"
      ]
    },
    {
      "cell_type": "code",
      "execution_count": null,
      "metadata": {
        "id": "8PcaXjhSc_zZ"
      },
      "outputs": [],
      "source": [
        "#train_data_LBP = train_data.reshape((cont_train,nx,ny))\n",
        "lbp_feactures  = np.zeros((cont_train,nx,ny))\n",
        "\n",
        "eps = 1e-7\n",
        "radius = 1\n",
        "n_points = 8 * radius\n",
        "\n",
        "lbp_hist_S = np.zeros((cont_train,1440))\n",
        "\n",
        "for i in range(0,cont_train): \n",
        "    lbp = feature.local_binary_pattern(train_data_S[i], n_points, radius)\n",
        "    lbp_feactures[i] +=  lbp\n",
        "    \n",
        "    shaped = blockshaped(lbp_feactures[i], 16, 14)\n",
        "    x = []\n",
        "    xBlocks = []\n",
        "    for s in shaped:\n",
        "        xBlocks.append(getHistogram(s))\n",
        "    # Concatenate the various histogram, the resulting histogram is append into feature vector\n",
        "    x.append(np.concatenate(xBlocks))\n",
        "    \n",
        "    lbp_hist_S[i] += x[0]"
      ]
    },
    {
      "cell_type": "code",
      "execution_count": null,
      "metadata": {
        "id": "Rr_TzQibU1IM"
      },
      "outputs": [],
      "source": [
        "#train_data_LBP = train_data.reshape((cont_train,nx,ny))\n",
        "lbp_feactures  = np.zeros((cont_train,nx,ny))\n",
        "\n",
        "eps = 1e-7\n",
        "radius = 1\n",
        "n_points = 8 * radius\n",
        "\n",
        "lbp_hist_V = np.zeros((cont_train,1440))\n",
        "\n",
        "for i in range(0,cont_train): \n",
        "    lbp = feature.local_binary_pattern(train_data_V[i], n_points, radius)\n",
        "    lbp_feactures[i] +=  lbp\n",
        "    \n",
        "    shaped = blockshaped(lbp_feactures[i], 16, 14)\n",
        "    x = []\n",
        "    xBlocks = []\n",
        "    for s in shaped:\n",
        "        xBlocks.append(getHistogram(s))\n",
        "    # Concatenate the various histogram, the resulting histogram is append into feature vector\n",
        "    x.append(np.concatenate(xBlocks))\n",
        "    \n",
        "    lbp_hist_V[i] += x[0]"
      ]
    },
    {
      "cell_type": "code",
      "execution_count": null,
      "metadata": {
        "id": "8zCECTEndbYp"
      },
      "outputs": [],
      "source": [
        "#test_data_LBP = test_data.reshape((cont_test,nx,ny))\n",
        "lbp_feactures_test  = np.zeros((cont_test,nx,ny))\n",
        "\n",
        "\n",
        "lbp_hist_test_S = np.zeros((cont_test,1440))\n",
        "\n",
        "for i in range(0,cont_test): \n",
        "    lbp = feature.local_binary_pattern(test_data_S[i], n_points, radius)\n",
        "    lbp_feactures_test[i] +=  lbp\n",
        "    \n",
        "    shaped = blockshaped(lbp_feactures_test[i], 16, 14)\n",
        "    x = []\n",
        "    xBlocks = []\n",
        "    for s in shaped:\n",
        "        xBlocks.append(getHistogram(s))\n",
        "    # Concatenate the various histogram, the resulting histogram is append into feature vector\n",
        "    x.append(np.concatenate(xBlocks))\n",
        "    \n",
        "    lbp_hist_test_S[i] += x[0]\n",
        "    "
      ]
    },
    {
      "cell_type": "code",
      "execution_count": null,
      "metadata": {
        "id": "ESTzVdhBVYEU"
      },
      "outputs": [],
      "source": [
        "#test_data_LBP = test_data.reshape((cont_test,nx,ny))\n",
        "lbp_feactures_test  = np.zeros((cont_test,nx,ny))\n",
        "\n",
        "\n",
        "lbp_hist_test_V = np.zeros((cont_test,1440))\n",
        "\n",
        "for i in range(0,cont_test): \n",
        "    lbp = feature.local_binary_pattern(test_data_V[i], n_points, radius)\n",
        "    lbp_feactures_test[i] +=  lbp\n",
        "    \n",
        "    shaped = blockshaped(lbp_feactures_test[i], 16, 14)\n",
        "    x = []\n",
        "    xBlocks = []\n",
        "    for s in shaped:\n",
        "        xBlocks.append(getHistogram(s))\n",
        "    # Concatenate the various histogram, the resulting histogram is append into feature vector\n",
        "    x.append(np.concatenate(xBlocks))\n",
        "    \n",
        "    lbp_hist_test_V[i] += x[0]\n",
        "    "
      ]
    },
    {
      "cell_type": "code",
      "execution_count": null,
      "metadata": {
        "colab": {
          "base_uri": "https://localhost:8080/"
        },
        "id": "PpSnw-5ZWLn7",
        "outputId": "2052ba1e-c6b7-44e6-f8fa-d1374996ef81"
      },
      "outputs": [
        {
          "output_type": "execute_result",
          "data": {
            "text/plain": [
              "(1000, 1440)"
            ]
          },
          "metadata": {},
          "execution_count": 54
        }
      ],
      "source": [
        "lbp_hist_test_V.shape"
      ]
    },
    {
      "cell_type": "code",
      "execution_count": null,
      "metadata": {
        "colab": {
          "base_uri": "https://localhost:8080/"
        },
        "id": "7Rfnt2fEZK1e",
        "outputId": "3ee3bf5b-f9eb-42d8-e0ac-82b2c9dbc8ba"
      },
      "outputs": [
        {
          "output_type": "execute_result",
          "data": {
            "text/plain": [
              "(2749, 2880)"
            ]
          },
          "metadata": {},
          "execution_count": 55
        }
      ],
      "source": [
        "lbp_hist = np.concatenate((lbp_hist_S,lbp_hist_V),axis=1)\n",
        "lbp_hist.shape"
      ]
    },
    {
      "cell_type": "code",
      "execution_count": null,
      "metadata": {
        "colab": {
          "base_uri": "https://localhost:8080/"
        },
        "id": "c-WYwnMqZ5vU",
        "outputId": "a8e84392-eeb5-41d6-929e-d40b878d7755"
      },
      "outputs": [
        {
          "output_type": "execute_result",
          "data": {
            "text/plain": [
              "(1000, 2880)"
            ]
          },
          "metadata": {},
          "execution_count": 56
        }
      ],
      "source": [
        "lbp_hist_test = np.concatenate((lbp_hist_test_S,lbp_hist_test_V),axis=1)\n",
        "lbp_hist_test.shape"
      ]
    },
    {
      "cell_type": "markdown",
      "metadata": {
        "id": "K1xiJKp7dddK"
      },
      "source": [
        "## SMV"
      ]
    },
    {
      "cell_type": "code",
      "execution_count": null,
      "metadata": {
        "colab": {
          "base_uri": "https://localhost:8080/"
        },
        "id": "Ku9VLQzddotZ",
        "outputId": "212ae3b4-95ed-47cd-ef85-cdf8b50eb7d7"
      },
      "outputs": [
        {
          "output_type": "stream",
          "name": "stdout",
          "text": [
            "El mejor conjunto de caracteriticas es: \n",
            "SVC(C=50000.0, class_weight='balanced', gamma=0.001)\n"
          ]
        }
      ],
      "source": [
        "param_grid = {'C': [1e3, 5e3, 1e4, 5e4, 1e5],\n",
        "              'gamma': [0.0001, 0.0005, 0.001, 0.005, 0.01, 0.1], }\n",
        "clf_lbp_svm = GridSearchCV(\n",
        "    SVC(kernel='rbf', class_weight='balanced'), param_grid\n",
        ")\n",
        "clf_lbp_svm = clf_lbp_svm.fit(lbp_hist,y_train )\n",
        "\n",
        "print(\"El mejor conjunto de caracteriticas es: \")\n",
        "print(clf_lbp_svm.best_estimator_)"
      ]
    },
    {
      "cell_type": "code",
      "execution_count": null,
      "metadata": {
        "id": "G6J--DVJd_Xq",
        "colab": {
          "base_uri": "https://localhost:8080/"
        },
        "outputId": "2178daf2-05bd-422e-ec5c-f3075ef3d2be"
      },
      "outputs": [
        {
          "output_type": "stream",
          "name": "stdout",
          "text": [
            "              precision    recall  f1-score   support\n",
            "\n",
            "           1     0.8723    0.8200    0.8454        50\n",
            "           2     0.6667    0.7600    0.7103        50\n",
            "           3     0.8400    0.8400    0.8400        50\n",
            "           4     0.9608    0.9800    0.9703        50\n",
            "           5     0.8750    0.8400    0.8571        50\n",
            "           6     0.9286    0.7800    0.8478        50\n",
            "           7     0.8364    0.9200    0.8762        50\n",
            "           8     0.8571    0.8400    0.8485        50\n",
            "           9     0.9375    0.9000    0.9184        50\n",
            "          10     0.9074    0.9800    0.9423        50\n",
            "          11     0.8000    0.8800    0.8381        50\n",
            "          12     0.9388    0.9200    0.9293        50\n",
            "          13     0.6897    0.8000    0.7407        50\n",
            "          14     0.8936    0.8400    0.8660        50\n",
            "          15     0.8462    0.8800    0.8627        50\n",
            "          16     0.9512    0.7800    0.8571        50\n",
            "          17     0.8837    0.7600    0.8172        50\n",
            "          18     0.9038    0.9400    0.9216        50\n",
            "          19     0.7959    0.7800    0.7879        50\n",
            "          20     0.8679    0.9200    0.8932        50\n",
            "\n",
            "    accuracy                         0.8580      1000\n",
            "   macro avg     0.8626    0.8580    0.8585      1000\n",
            "weighted avg     0.8626    0.8580    0.8585      1000\n",
            "\n"
          ]
        }
      ],
      "source": [
        "y_pred_lbp_svm = clf_lbp_svm.predict(lbp_hist_test)\n",
        "\n",
        "report = classification_report(y_test, y_pred_lbp_svm,digits=4,output_dict=True)\n",
        "df = pandas.DataFrame(report).transpose()\n",
        "df.to_excel(\"svmLBP.xlsx\")\n",
        "print(classification_report(y_test, y_pred_lbp_svm,digits=4))"
      ]
    },
    {
      "cell_type": "code",
      "source": [
        "print(matthews_corrcoef(y_test, y_pred_lbp_svm))"
      ],
      "metadata": {
        "colab": {
          "base_uri": "https://localhost:8080/"
        },
        "id": "kWzp6SvkwhKZ",
        "outputId": "9364e0a5-80a4-4d7b-d0c5-04106a799ee0"
      },
      "execution_count": null,
      "outputs": [
        {
          "output_type": "stream",
          "name": "stdout",
          "text": [
            "0.8507143892332987\n"
          ]
        }
      ]
    },
    {
      "cell_type": "code",
      "source": [
        "print(specificity(y_test, y_pred_lbp_svm)) "
      ],
      "metadata": {
        "colab": {
          "base_uri": "https://localhost:8080/"
        },
        "id": "IWvNE8DyxsjN",
        "outputId": "5d3939ac-cbff-48a2-8f2b-47ce7b8cc9eb"
      },
      "execution_count": null,
      "outputs": [
        {
          "output_type": "stream",
          "name": "stdout",
          "text": [
            "0.9925263157894735\n"
          ]
        }
      ]
    },
    {
      "cell_type": "markdown",
      "metadata": {
        "id": "_aqb1aHSdfmJ"
      },
      "source": [
        "## KNN"
      ]
    },
    {
      "cell_type": "code",
      "execution_count": null,
      "metadata": {
        "id": "8q8SsMOReW40"
      },
      "outputs": [],
      "source": [
        "clf_lbp_Kn_3 = KNeighborsClassifier(n_neighbors=7)"
      ]
    },
    {
      "cell_type": "code",
      "execution_count": null,
      "metadata": {
        "id": "7ujXF4D9eUQ4"
      },
      "outputs": [],
      "source": [
        "clf_lbp_Kn_3 = clf_lbp_Kn_3.fit(lbp_hist,y_train)"
      ]
    },
    {
      "cell_type": "code",
      "execution_count": null,
      "metadata": {
        "id": "dVA2n3uZeVXL",
        "colab": {
          "base_uri": "https://localhost:8080/"
        },
        "outputId": "dac63c41-b259-4fb1-e327-873cc1845402"
      },
      "outputs": [
        {
          "output_type": "stream",
          "name": "stdout",
          "text": [
            "              precision    recall  f1-score   support\n",
            "\n",
            "           1     0.3585    0.7600    0.4872        50\n",
            "           2     0.2889    0.5200    0.3714        50\n",
            "           3     0.7333    0.2200    0.3385        50\n",
            "           4     0.6104    0.9400    0.7402        50\n",
            "           5     0.6129    0.7600    0.6786        50\n",
            "           6     0.7917    0.3800    0.5135        50\n",
            "           7     0.8684    0.6600    0.7500        50\n",
            "           8     0.8000    0.4800    0.6000        50\n",
            "           9     0.8261    0.7600    0.7917        50\n",
            "          10     0.7500    0.6000    0.6667        50\n",
            "          11     0.6346    0.6600    0.6471        50\n",
            "          12     0.6818    0.9000    0.7759        50\n",
            "          13     0.7778    0.2800    0.4118        50\n",
            "          14     0.8261    0.3800    0.5205        50\n",
            "          15     0.4658    0.6800    0.5528        50\n",
            "          16     0.4407    0.5200    0.4771        50\n",
            "          17     0.5246    0.6400    0.5766        50\n",
            "          18     0.8889    0.6400    0.7442        50\n",
            "          19     0.7586    0.4400    0.5570        50\n",
            "          20     0.5636    0.6200    0.5905        50\n",
            "\n",
            "    accuracy                         0.5920      1000\n",
            "   macro avg     0.6601    0.5920    0.5895      1000\n",
            "weighted avg     0.6601    0.5920    0.5895      1000\n",
            "\n"
          ]
        }
      ],
      "source": [
        "y_pred_lbp_knn = clf_lbp_Kn_3.predict(lbp_hist_test)\n",
        "\n",
        "report = classification_report(y_test, y_pred_lbp_knn,digits=4,output_dict=True)\n",
        "df = pandas.DataFrame(report).transpose()                   \n",
        "df.to_excel(\"knnLBP.xlsx\")  \n",
        "print(classification_report(y_test, y_pred_lbp_knn,digits=4))"
      ]
    },
    {
      "cell_type": "code",
      "source": [
        "print(matthews_corrcoef(y_test, y_pred_lbp_knn))"
      ],
      "metadata": {
        "colab": {
          "base_uri": "https://localhost:8080/"
        },
        "id": "FrElL2orx7ps",
        "outputId": "8a490275-6d12-4610-bfa6-15e2da34aa89"
      },
      "execution_count": null,
      "outputs": [
        {
          "output_type": "stream",
          "name": "stdout",
          "text": [
            "0.5740344155317576\n"
          ]
        }
      ]
    },
    {
      "cell_type": "code",
      "source": [
        "print(specificity(y_test, y_pred_lbp_knn))  "
      ],
      "metadata": {
        "colab": {
          "base_uri": "https://localhost:8080/"
        },
        "id": "aS2CynNex77C",
        "outputId": "e0083eda-27aa-4ee7-e73a-cf0a52212b73"
      },
      "execution_count": null,
      "outputs": [
        {
          "output_type": "stream",
          "name": "stdout",
          "text": [
            "0.9785263157894736\n"
          ]
        }
      ]
    },
    {
      "cell_type": "markdown",
      "metadata": {
        "id": "1x5pfWiMdhhJ"
      },
      "source": [
        "## Gauss"
      ]
    },
    {
      "cell_type": "code",
      "execution_count": null,
      "metadata": {
        "id": "TgW5wWUMdVUb"
      },
      "outputs": [],
      "source": [
        "clf_lbp_Gauss = GaussianNB()"
      ]
    },
    {
      "cell_type": "code",
      "execution_count": null,
      "metadata": {
        "id": "uDVEpzvLejdJ"
      },
      "outputs": [],
      "source": [
        "clf_lbp_Gauss = clf_lbp_Gauss.fit(lbp_hist,y_train)"
      ]
    },
    {
      "cell_type": "code",
      "execution_count": null,
      "metadata": {
        "id": "g2sVNQZohfMZ",
        "colab": {
          "base_uri": "https://localhost:8080/"
        },
        "outputId": "33809bb4-d47d-4697-c195-d709e681dc6f"
      },
      "outputs": [
        {
          "output_type": "stream",
          "name": "stdout",
          "text": [
            "              precision    recall  f1-score   support\n",
            "\n",
            "           1     0.4627    0.6200    0.5299        50\n",
            "           2     0.2500    0.0600    0.0968        50\n",
            "           3     0.2576    0.3400    0.2931        50\n",
            "           4     0.6531    0.6400    0.6465        50\n",
            "           5     0.7879    0.5200    0.6265        50\n",
            "           6     0.3208    0.3400    0.3301        50\n",
            "           7     0.4737    0.5400    0.5047        50\n",
            "           8     0.5682    0.5000    0.5319        50\n",
            "           9     0.5641    0.4400    0.4944        50\n",
            "          10     0.4051    0.6400    0.4961        50\n",
            "          11     0.3523    0.6200    0.4493        50\n",
            "          12     0.5833    0.7000    0.6364        50\n",
            "          13     0.1471    0.1000    0.1190        50\n",
            "          14     0.7097    0.4400    0.5432        50\n",
            "          15     0.5625    0.5400    0.5510        50\n",
            "          16     0.4138    0.4800    0.4444        50\n",
            "          17     0.5625    0.1800    0.2727        50\n",
            "          18     0.3824    0.5200    0.4407        50\n",
            "          19     0.3514    0.2600    0.2989        50\n",
            "          20     0.4918    0.6000    0.5405        50\n",
            "\n",
            "    accuracy                         0.4540      1000\n",
            "   macro avg     0.4650    0.4540    0.4423      1000\n",
            "weighted avg     0.4650    0.4540    0.4423      1000\n",
            "\n"
          ]
        }
      ],
      "source": [
        "y_pred_lbp_gaus = clf_lbp_Gauss.predict(lbp_hist_test)\n",
        "\n",
        "report = classification_report(y_test, y_pred_lbp_gaus,digits=4,output_dict=True)\n",
        "df = pandas.DataFrame(report).transpose()\n",
        "df.to_excel(\"gaussLBP.xlsx\")\n",
        "print(classification_report(y_test, y_pred_lbp_gaus,digits=4))"
      ]
    },
    {
      "cell_type": "code",
      "source": [
        "print(matthews_corrcoef(y_test, y_pred_lbp_gaus))"
      ],
      "metadata": {
        "colab": {
          "base_uri": "https://localhost:8080/"
        },
        "id": "0sK9uJlay2FA",
        "outputId": "666c764c-873e-423e-b9b6-594e162dfe71"
      },
      "execution_count": null,
      "outputs": [
        {
          "output_type": "stream",
          "name": "stdout",
          "text": [
            "0.4269142396213767\n"
          ]
        }
      ]
    },
    {
      "cell_type": "code",
      "source": [
        "print(specificity(y_test, y_pred_lbp_gaus)) "
      ],
      "metadata": {
        "colab": {
          "base_uri": "https://localhost:8080/"
        },
        "id": "k33fNDGcy7Wf",
        "outputId": "1e33f542-ece1-4b8a-caf4-2d7370a575ee"
      },
      "execution_count": null,
      "outputs": [
        {
          "output_type": "stream",
          "name": "stdout",
          "text": [
            "0.9712631578947368\n"
          ]
        }
      ]
    }
  ]
}